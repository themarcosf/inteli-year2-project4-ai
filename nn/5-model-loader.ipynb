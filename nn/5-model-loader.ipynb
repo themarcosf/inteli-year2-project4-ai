{
 "cells": [
  {
   "cell_type": "code",
   "execution_count": 2,
   "metadata": {},
   "outputs": [],
   "source": [
    "text = 'Normalized Supplier Name, BANCO DO BRASIL S A, Country Name, Brazil, Strategic Region, LATAM, Requestor Name, unknown, Preparer Name, unknown, Business Unit, Legal, Legal Entity, Facebook Servicos Online Do Brasil Ltda, Cost Center (Base Level), NORAM Litigation Group, Cost Center (Level 4), Legal G&A, Cost Center (Level 5), General & Administrative, GL Desc (Level 4), Legal - settlements, Invoice Source, Manual Invoice Entry, GL Description, Legal - settlements, Project, 00000 - Default Project'"
   ]
  },
  {
   "cell_type": "code",
   "execution_count": 4,
   "metadata": {},
   "outputs": [
    {
     "name": "stdout",
     "output_type": "stream",
     "text": [
      " * Serving Flask app '__main__'\n",
      " * Debug mode: off\n"
     ]
    },
    {
     "name": "stderr",
     "output_type": "stream",
     "text": [
      "WARNING: This is a development server. Do not use it in a production deployment. Use a production WSGI server instead.\n",
      " * Running on http://127.0.0.1:5000\n",
      "Press CTRL+C to quit\n",
      "[2023-12-13 03:46:55,944] ERROR in app: Exception on /predict [POST]\n",
      "Traceback (most recent call last):\n",
      "  File \"c:\\Users\\prisc\\AppData\\Local\\Programs\\Python\\Python311\\Lib\\site-packages\\flask\\app.py\", line 2190, in wsgi_app\n",
      "    response = self.full_dispatch_request()\n",
      "               ^^^^^^^^^^^^^^^^^^^^^^^^^^^^\n",
      "  File \"c:\\Users\\prisc\\AppData\\Local\\Programs\\Python\\Python311\\Lib\\site-packages\\flask\\app.py\", line 1486, in full_dispatch_request\n",
      "    rv = self.handle_user_exception(e)\n",
      "         ^^^^^^^^^^^^^^^^^^^^^^^^^^^^^\n",
      "  File \"c:\\Users\\prisc\\AppData\\Local\\Programs\\Python\\Python311\\Lib\\site-packages\\flask\\app.py\", line 1484, in full_dispatch_request\n",
      "    rv = self.dispatch_request()\n",
      "         ^^^^^^^^^^^^^^^^^^^^^^^\n",
      "  File \"c:\\Users\\prisc\\AppData\\Local\\Programs\\Python\\Python311\\Lib\\site-packages\\flask\\app.py\", line 1469, in dispatch_request\n",
      "    return self.ensure_sync(self.view_functions[rule.endpoint])(**view_args)\n",
      "           ^^^^^^^^^^^^^^^^^^^^^^^^^^^^^^^^^^^^^^^^^^^^^^^^^^^^^^^^^^^^^^^^^\n",
      "  File \"C:\\Users\\prisc\\AppData\\Local\\Temp\\ipykernel_10512\\3116338220.py\", line 19, in predict\n",
      "    highest_score_label = max(output[0], key=lambda x: x['score'])\n",
      "                              ~~~~~~^^^\n",
      "KeyError: 0\n",
      "127.0.0.1 - - [13/Dec/2023 03:46:55] \"POST /predict HTTP/1.1\" 500 -\n",
      "127.0.0.1 - - [13/Dec/2023 03:47:34] \"POST /predict HTTP/1.1\" 200 -\n"
     ]
    }
   ],
   "source": [
    "from flask import Flask, request, jsonify\n",
    "import requests\n",
    "import os\n",
    "\n",
    "app = Flask(__name__)\n",
    "\n",
    "API_URL = \"https://api-inference.huggingface.co/models/marcosinteli/meta\"\n",
    "headers = {\"Authorization\": \"Bearer TOKEN\"}\n",
    "\n",
    "\n",
    "@app.route('/predict', methods=['POST'])\n",
    "def predict():\n",
    "    text = request.json['text']\n",
    "\n",
    "    payload = {\"inputs\": text}\n",
    "    response = requests.post(API_URL, headers=headers, json=payload)\n",
    "    output = response.json()\n",
    "\n",
    "    highest_score_label = max(output[0], key=lambda x: x['score'])\n",
    "    label_number = int(highest_score_label[\"label\"].split('_')[1])\n",
    "    \n",
    "    id2label = {\n",
    "        0: 'Energy & Utilities',\n",
    "        1: 'Human Resources',\n",
    "        2: 'Logistics',\n",
    "        3: 'Manufacturing',\n",
    "        4: 'Professional Services',\n",
    "        5: 'R&D Equipment',\n",
    "        6: 'Real Estate & Facilities',\n",
    "        7: 'Sales, Marketing & Events',\n",
    "        8: 'Technology/Telecom',\n",
    "        9: 'Travel & Expense',\n",
    "        10: 'Uncategorized'\n",
    "    }\n",
    "    \n",
    "    predicted_label = id2label[label_number]\n",
    "    \n",
    "    return jsonify({'predicted_label': predicted_label})\n",
    "\n",
    "if __name__ == '__main__':\n",
    "    app.run()"
   ]
  },
  {
   "cell_type": "code",
   "execution_count": null,
   "metadata": {},
   "outputs": [],
   "source": []
  }
 ],
 "metadata": {
  "kernelspec": {
   "display_name": "nn-piP2--fL",
   "language": "python",
   "name": "python3"
  },
  "language_info": {
   "codemirror_mode": {
    "name": "ipython",
    "version": 3
   },
   "file_extension": ".py",
   "mimetype": "text/x-python",
   "name": "python",
   "nbconvert_exporter": "python",
   "pygments_lexer": "ipython3",
   "version": "3.11.2"
  }
 },
 "nbformat": 4,
 "nbformat_minor": 2
}
