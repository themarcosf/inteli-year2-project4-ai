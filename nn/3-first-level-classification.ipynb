{
 "cells": [
  {
   "cell_type": "code",
   "execution_count": 1,
   "metadata": {},
   "outputs": [],
   "source": [
    "import warnings\n",
    "warnings.filterwarnings('ignore')\n",
    "\n",
    "import pandas as pd\n",
    "import numpy as np\n",
    "import matplotlib.pyplot as plt"
   ]
  },
  {
   "cell_type": "markdown",
   "metadata": {},
   "source": [
    "# 1. 🤗 Datasets\n",
    "\n",
    "In this notebook, it will be built a system to automatically identify purchases categories from their descriptions. The system will be built using the Datasets library.\n",
    "\n",
    "Datasets is a lightweight and extensible library to easily share and access datasets and evaluation metrics for Natural Language Processing (NLP) and more. It will be a dataset provided by Meta Inc."
   ]
  },
  {
   "cell_type": "code",
   "execution_count": 2,
   "metadata": {},
   "outputs": [
    {
     "data": {
      "text/plain": [
       "['Energy & Utilities',\n",
       " 'Human Resources',\n",
       " 'Logistics',\n",
       " 'Manufacturing',\n",
       " 'Professional Services',\n",
       " 'R&D Equipment (incl. Equipment Services and Supplies)',\n",
       " 'Real Estate & Facilities',\n",
       " 'Sales, Marketing & Events',\n",
       " 'Technology/Telecom',\n",
       " 'Travel & Expense',\n",
       " 'Uncategorized']"
      ]
     },
     "execution_count": 2,
     "metadata": {},
     "output_type": "execute_result"
    }
   ],
   "source": [
    "import json\n",
    "\n",
    "labels = json.loads(open('data/lvl_1_labels.json').read())\n",
    "\n",
    "# turn dict to array of labels ordered by id\n",
    "names = [labels[str(i)] for i in range(len(labels))]\n",
    "names"
   ]
  },
  {
   "cell_type": "code",
   "execution_count": 3,
   "metadata": {},
   "outputs": [
    {
     "data": {
      "text/plain": [
       "DatasetDict({\n",
       "    train: Dataset({\n",
       "        features: ['text', 'label'],\n",
       "        num_rows: 7885\n",
       "    })\n",
       "    validation: Dataset({\n",
       "        features: ['text', 'label'],\n",
       "        num_rows: 1690\n",
       "    })\n",
       "    test: Dataset({\n",
       "        features: ['text', 'label'],\n",
       "        num_rows: 1690\n",
       "    })\n",
       "})"
      ]
     },
     "execution_count": 3,
     "metadata": {},
     "output_type": "execute_result"
    }
   ],
   "source": [
    "from datasets import load_dataset, DatasetDict, Features, Value, ClassLabel\n",
    "\n",
    "# Define features\n",
    "features = Features({\n",
    "    'text': Value(dtype='string'),\n",
    "    'label': ClassLabel(num_classes=(len(names)), names=names)\n",
    "})\n",
    "\n",
    "# Load dataset\n",
    "data = load_dataset(\"data\", \"lvl_1_data\", features=features)\n",
    "\n",
    "# Split the dataset into train, validation, and test sets\n",
    "train_testvalid = data[\"train\"].train_test_split(test_size=0.3)       # Splitting train and test+validation\n",
    "test_valid = train_testvalid['test'].train_test_split(test_size=0.5)  # Splitting test and validation\n",
    "\n",
    "# Create a new DatasetDict\n",
    "data = DatasetDict({\n",
    "    'train': train_testvalid['train'],\n",
    "    'validation': test_valid['train'],\n",
    "    'test': test_valid['test']\n",
    "})\n",
    "\n",
    "data"
   ]
  },
  {
   "cell_type": "code",
   "execution_count": 4,
   "metadata": {},
   "outputs": [
    {
     "data": {
      "text/plain": [
       "{'text': ['Normalized Supplier Name, MOROTA PESCADOS LTDA, Country Name, Brazil, Strategic Region, NORAM, Requestor Name, Lisandro Ulerio, Preparer Name, Victória Simonato, Business Unit, Facilities, Legal Entity, Facebook Servicos Online Do Brasil Ltda, Cost Center (Base Level), Non-Bay Area Facilities & Operations Group, Cost Center (Level 4), FCS G&A, Cost Center (Level 5), General & Administrative, GL Desc (Level 4), Kitchen, Invoice Source, CAFEPRO, GL Description, Kitchen, Project, 31311 - Sao Paolo Aguas de Marco',\n",
       "  'Normalized Supplier Name, PATRIMONIOS AUTONOMOS FIDUCIARIA BOGOTA SA, Country Name, Colombia, Strategic Region, LATAM, Requestor Name, unknown, Preparer Name, unknown, Business Unit, Facilities, Legal Entity, Facebook Colombia S.A.S., Cost Center (Base Level), Non-Bay Area Facilities & Operations Group, Cost Center (Level 4), FCS G&A, Cost Center (Level 5), General & Administrative, GL Desc (Level 4), Prepaid Exp. & Other Current Assets, Invoice Source, RENT, GL Description, Prepaid rent, Project, 00000 - Default Project',\n",
       "  'Normalized Supplier Name, BANCO DO BRASIL S A, Country Name, Brazil, Strategic Region, LATAM, Requestor Name, unknown, Preparer Name, unknown, Business Unit, unknown, Legal Entity, Facebook Servicos Online Do Brasil Ltda, Cost Center (Base Level), Default Cost Center, Cost Center (Level 4), Corporate G&A, Cost Center (Level 5), General & Administrative, GL Desc (Level 4), nan, Invoice Source, Manual Invoice Entry, GL Description, Other LT Assets, Project, 00000 - Default Project',\n",
       "  'Normalized Supplier Name, BANCO DO BRASIL S A, Country Name, Brazil, Strategic Region, LATAM, Requestor Name, unknown, Preparer Name, unknown, Business Unit, Legal, Legal Entity, Facebook Servicos Online Do Brasil Ltda, Cost Center (Base Level), NORAM Litigation Group, Cost Center (Level 4), Legal G&A, Cost Center (Level 5), General & Administrative, GL Desc (Level 4), Legal - settlements, Invoice Source, Manual Invoice Entry, GL Description, Legal - settlements, Project, 00000 - Default Project',\n",
       "  'Normalized Supplier Name, EDELMAN, Country Name, Mexico, Strategic Region, LATAM, Requestor Name, Arantxa Guillén, Preparer Name, Arantxa Guillén, Business Unit, Comms & Policy, Legal Entity, Facebook Mexico S de RL de CV, Cost Center (Base Level), Policy Programs Group, Cost Center (Level 4), Global Affairs G&A, Cost Center (Level 5), General & Administrative, GL Desc (Level 4), Other Marketing, Invoice Source, OCR, GL Description, Other Marketing, Project, 97589 - 2135 LATAM Programs'],\n",
       " 'label': [6, 6, 4, 4, 4]}"
      ]
     },
     "execution_count": 4,
     "metadata": {},
     "output_type": "execute_result"
    }
   ],
   "source": [
    "data[\"train\"][:5]"
   ]
  },
  {
   "cell_type": "code",
   "execution_count": 5,
   "metadata": {},
   "outputs": [
    {
     "data": {
      "text/plain": [
       "{'text': Value(dtype='string', id=None),\n",
       " 'label': ClassLabel(names=['Energy & Utilities', 'Human Resources', 'Logistics', 'Manufacturing', 'Professional Services', 'R&D Equipment (incl. Equipment Services and Supplies)', 'Real Estate & Facilities', 'Sales, Marketing & Events', 'Technology/Telecom', 'Travel & Expense', 'Uncategorized'], id=None)}"
      ]
     },
     "execution_count": 5,
     "metadata": {},
     "output_type": "execute_result"
    }
   ],
   "source": [
    "data[\"train\"].features"
   ]
  },
  {
   "cell_type": "markdown",
   "metadata": {},
   "source": [
    "# 2. The model is only as good as its labels"
   ]
  },
  {
   "cell_type": "code",
   "execution_count": null,
   "metadata": {},
   "outputs": [],
   "source": [
    "data.set_format(type=\"pandas\")\n",
    "df = data[\"train\"][:]\n",
    "print(df.shape)\n",
    "df.head()"
   ]
  },
  {
   "cell_type": "code",
   "execution_count": null,
   "metadata": {},
   "outputs": [],
   "source": [
    "df[\"label_name\"] = df[\"label\"].apply(lambda row: data[\"train\"].features[\"label\"].int2str(row))\n",
    "df.head()"
   ]
  },
  {
   "cell_type": "markdown",
   "metadata": {},
   "source": [
    "## 2.1 Class distribution\n",
    "\n",
    "A dataset with a skewed class distribution might require a different treatment in terms of the training loss and evaluation metrics than a balanced one.\n",
    "\n",
    "In this case, the class distribution is skewed towards the `Professional Services` class, which is the most frequent one. There are several ways to deal with this issue, such as:\n",
    "\n",
    "* randomly oversample the minority classes\n",
    "* randomly undersample the majority classes\n",
    "* gather more labeled data for the minority classes\n",
    "\n",
    "For more advanced strategies, check out the [imbalanced-learn](https://imbalanced-learn.org/stable/) library."
   ]
  },
  {
   "cell_type": "code",
   "execution_count": null,
   "metadata": {},
   "outputs": [],
   "source": [
    "import matplotlib.pyplot as plt\n",
    "\n",
    "df[\"label_name\"].value_counts(ascending=True).plot.barh()\n",
    "plt.title(\"Expenses Distribution\")\n",
    "plt.show();"
   ]
  },
  {
   "cell_type": "markdown",
   "metadata": {},
   "source": [
    "## 2.2 How long are our sentences?\n",
    "\n",
    "This classification will use **DistilBERT**, a variant of BERT that achieves comparable performance, while being significantly smaller and more efficient. This enables training a classifier in a few minutes. To train a larger BERT model, one can simply change the checkpoint of the pretrained model. A *checkpoint* corresponds to the set of weights that are loaded into a given transformer architecture.\n",
    "\n",
    "For applications using DistilBERT, the maximum context size is 512 tokens. From the plot we see that for each emotion, most sentences are around 15 words long and the longest are well below DistilBERT's maximum context size."
   ]
  },
  {
   "cell_type": "code",
   "execution_count": null,
   "metadata": {},
   "outputs": [],
   "source": [
    "df[\"words_count\"] = df[\"text\"].str.split().apply(len)\n",
    "df.boxplot(\n",
    "  column=\"words_count\",\n",
    "  by=\"label\",\n",
    "  grid=False,\n",
    "  showfliers=True,\n",
    "  color=\"black\", \n",
    "  figsize=(10, 6)\n",
    ")\n",
    "plt.title(\"Words per Sentence\")\n",
    "plt.suptitle(\"\")\n",
    "plt.xlabel(\"Expenses Categories\")\n",
    "plt.show();"
   ]
  },
  {
   "cell_type": "code",
   "execution_count": null,
   "metadata": {},
   "outputs": [],
   "source": [
    "data.reset_format()"
   ]
  },
  {
   "cell_type": "markdown",
   "metadata": {},
   "source": [
    "# 3. From text to tokens\n",
    "\n",
    "Transformer models cannot receive raw strings as input; instead, they assume the text has been *tokenized* and *encoded* as numerical vectors. There are several tokenization strategies and the optimal splitting of words into tokens is usually learned from the corpus. BERT and [DistilBERT](https://huggingface.co/distilbert-base-uncased) are pretrained models that were trained on subword tokenization using the WordPiece tokenizer algorithm.\n",
    "\n",
    "**Important**: transformers expect each character to be converted to a number, a process called *numericalization*. The problem with this approach is that it creates a fictitious ordering between the names, and neural networks are *really* good at picking up such *statistical regularities* in the data. To avoid this, dummy variables are used to represent the categories in one-hot vectors. The downside then is that the model will have quadratic complexity with the size of the vocabulary.\n",
    "\n",
    "🤗 Transformers provides a convenient `AutoTokenizer` class that allows one to quickly load the tokenizer associated with a pretrained model - by just calling its `from_pretrained()` method, providing the ID of a model on the Hub or a local file path."
   ]
  },
  {
   "cell_type": "code",
   "execution_count": null,
   "metadata": {},
   "outputs": [],
   "source": [
    "from transformers import AutoTokenizer\n",
    "\n",
    "model_ckpt = \"distilbert-base-uncased\"\n",
    "tokenizer = AutoTokenizer.from_pretrained(model_ckpt)\n",
    "tokenizer"
   ]
  },
  {
   "cell_type": "code",
   "execution_count": null,
   "metadata": {},
   "outputs": [],
   "source": [
    "# fields the model expects in its forward pass\n",
    "tokenizer.model_input_names"
   ]
  },
  {
   "cell_type": "code",
   "execution_count": null,
   "metadata": {},
   "outputs": [],
   "source": [
    "text = \"Tokenizing text is a core task of NLP.\"\n",
    "\n",
    "encoded_text = tokenizer(text)\n",
    "print(\"input_ids: \", encoded_text[\"input_ids\"])\n",
    "print(\"attention_mask: \", encoded_text[\"attention_mask\"])"
   ]
  },
  {
   "cell_type": "code",
   "execution_count": null,
   "metadata": {},
   "outputs": [],
   "source": [
    "tokens = tokenizer.convert_ids_to_tokens(encoded_text[\"input_ids\"])\n",
    "print(\"tokens: \", tokens)"
   ]
  },
  {
   "cell_type": "code",
   "execution_count": null,
   "metadata": {},
   "outputs": [],
   "source": [
    "tokenizer.convert_tokens_to_string(tokens)"
   ]
  },
  {
   "cell_type": "markdown",
   "metadata": {},
   "source": [
    "## 3.1 Tokenizing the whole dataset"
   ]
  },
  {
   "cell_type": "code",
   "execution_count": null,
   "metadata": {},
   "outputs": [],
   "source": [
    "# padding=True : pad to the longest sequence in the batch\n",
    "# truncation=True : truncate to the model's maximum context size\n",
    "# batched=True : encoding is done in batches\n",
    "# batch_size=None : batch size is the full dataset as a single batch\n",
    "#                   ensuring that input tensors and attention maks have the same shape\n",
    "\n",
    "\n",
    "data_encoded = data.map(lambda batch: tokenizer(batch[\"text\"], padding=True, truncation=True), batched=True, batch_size=None)\n",
    "data_encoded"
   ]
  },
  {
   "cell_type": "code",
   "execution_count": null,
   "metadata": {},
   "outputs": [],
   "source": [
    "data_encoded[\"train\"].column_names"
   ]
  },
  {
   "cell_type": "code",
   "execution_count": null,
   "metadata": {},
   "outputs": [],
   "source": [
    "example = data_encoded[\"train\"][0]\n",
    "tokens = tokenizer.convert_ids_to_tokens(example[\"input_ids\"])\n",
    "\n",
    "print(\"text: \", example[\"text\"])\n",
    "print(\"label: \", example[\"label\"])\n",
    "print(\"input_ids: \", example[\"input_ids\"])\n",
    "print(\"input_ids length: \", len(example[\"input_ids\"]))\n",
    "print(\"attention_mask: \", example[\"attention_mask\"])\n",
    "print(\"attention_mask length: \", len(example[\"attention_mask\"]))\n",
    "print(\"tokens: \", tokens)\n",
    "print(\"tokenized text: \", tokenizer.convert_tokens_to_string(tokens))"
   ]
  },
  {
   "cell_type": "markdown",
   "metadata": {},
   "source": [
    "# 4. Training a text classifier\n",
    "\n",
    "**DistilBERT** is pretrained to predict masked words in a sequence of text. The pretrained model is architectured as a **encoder-based model**, composed of a stack of hidden layers transforming the input sequence into a sequence of hidden states. In order to use it for text classification, it needs to be combined with a custom classification layer.\n",
    "\n",
    "## 4.1 Feature-based approach\n",
    "\n",
    "The model's hidden states are used as features and a classifier is trained on top of them, without modifying the pretrained model. The advantage of this approach is that we can quickly train a shallow model, such as a neural classification layer or a random forest, which is specially convenient if GPUs are unavailable.\n",
    "\n",
    "In the feature-based approach, the DistilBERT model is frozen and just provides features for a classifier.\n",
    "\n",
    "### 4.1.1 Using pretrained models\n",
    "\n",
    "The `AutoModel` class converts token encodings to embeddings, and then feed them through the encoder stack to return the hidden states, making it possible to extract these states from the corpus."
   ]
  },
  {
   "cell_type": "code",
   "execution_count": null,
   "metadata": {},
   "outputs": [],
   "source": [
    "from transformers import AutoModel\n",
    "import torch\n",
    "\n",
    "# load DistilBERT checkpoint\n",
    "model_ckpt = \"distilbert-base-uncased\"\n",
    "device = torch.device(\"cuda\" if torch.cuda.is_available() else \"cpu\")\n",
    "model = AutoModel.from_pretrained(model_ckpt).to(device)"
   ]
  },
  {
   "cell_type": "markdown",
   "metadata": {},
   "source": [
    "### 4.1.2 Extracting last hidden states\n",
    "\n",
    "DistilBERT, like BERT, uses a hidden size of 768 dimensions, meaning that the internal representations of words and tokens in the model have a dimensionality of 768.\n",
    "\n",
    "The hidden size in a transformer-based model like BERT or DistilBERT determines the dimension of the model's embeddings and the dimension of the hidden states as the model processes input data. A higher hidden size allows the model to capture more complex patterns and relationships in the data but also makes the model larger and more computationally intensive.\n",
    "\n",
    "For classification tasks, it is common practice to just use the hidden state corresponding to the first token of the input sequence, which is the special token [CLS] (for classification). This is because the hidden state of this token has access to the entire sequence through the attention mechanism.This means that during pre-training and fine-tuning, the model has learned to aggregate information from all tokens in the input sequence into this [CLS] token's hidden state.\n",
    "\n",
    "#### 4.1.2.1 Last hidden state for a single string"
   ]
  },
  {
   "cell_type": "code",
   "execution_count": null,
   "metadata": {},
   "outputs": [],
   "source": [
    "# encode a string and convert tokens to PyTorch tensor\n",
    "# expected tensor: [batch_size, n_tokens]\n",
    "text = \"this is a test\"\n",
    "inputs = tokenizer(text, return_tensors=\"pt\")\n",
    "inputs, inputs[\"input_ids\"].shape"
   ]
  },
  {
   "cell_type": "code",
   "execution_count": null,
   "metadata": {},
   "outputs": [],
   "source": [
    "tokens = tokenizer.convert_ids_to_tokens(inputs[\"input_ids\"][0])\n",
    "tokens"
   ]
  },
  {
   "cell_type": "code",
   "execution_count": null,
   "metadata": {},
   "outputs": [],
   "source": [
    "inputs = {k: v.to(device) for k, v in inputs.items()}\n",
    "with torch.inference_mode():\n",
    "  outputs = model(**inputs)\n",
    "outputs"
   ]
  },
  {
   "cell_type": "code",
   "execution_count": null,
   "metadata": {},
   "outputs": [],
   "source": [
    "# output shape: [batch_size, n_tokens, hidden_dims]\n",
    "outputs.last_hidden_state.shape"
   ]
  },
  {
   "cell_type": "code",
   "execution_count": null,
   "metadata": {},
   "outputs": [],
   "source": [
    "# hidden state corresponding to the first token of the input sequence [CLS]\n",
    "outputs.last_hidden_state[:, 0].shape"
   ]
  },
  {
   "cell_type": "markdown",
   "metadata": {},
   "source": [
    "#### 4.1.2.2 Last hidden state for whole dataset"
   ]
  },
  {
   "cell_type": "code",
   "execution_count": null,
   "metadata": {},
   "outputs": [],
   "source": [
    "def extract_hidden_states(batch):\n",
    "  \"\"\"\"\n",
    "  This function creates a hidden_state column in the batch\n",
    "  by extracting the hidden state corresponding to the first token\n",
    "  of the input sequence [CLS].\n",
    "  \"\"\"\n",
    "\n",
    "  # move inputs to device\n",
    "  inputs = { k: v.to(device) for k, v in batch.items() if k in tokenizer.model_input_names }\n",
    "\n",
    "  # extract last hidden states\n",
    "  with torch.inference_mode():\n",
    "    last_hidden_state = model(**inputs).last_hidden_state\n",
    "\n",
    "  return { \"hidden_state\": last_hidden_state[:, 0].cpu().numpy() }"
   ]
  },
  {
   "cell_type": "code",
   "execution_count": null,
   "metadata": {},
   "outputs": [],
   "source": [
    "# model expects tensors as inputs\n",
    "data_encoded.set_format(type=\"torch\", columns=[\"input_ids\", \"attention_mask\", \"label\"])\n",
    "data_encoded[\"train\"][0]"
   ]
  },
  {
   "cell_type": "code",
   "execution_count": null,
   "metadata": {},
   "outputs": [],
   "source": [
    "data_hidden = data_encoded.map(extract_hidden_states, batched=True)"
   ]
  },
  {
   "cell_type": "code",
   "execution_count": null,
   "metadata": {},
   "outputs": [],
   "source": [
    "data[\"train\"].column_names"
   ]
  },
  {
   "cell_type": "markdown",
   "metadata": {},
   "source": [
    "### 4.1.3 Creating a feature matrix\n",
    "\n",
    "After obtaining the hidden state associated with each sentence, the preprocessed dataset now contains all the information required to train a classifier on it. The hidden states will be used as input features and the labels as targets."
   ]
  },
  {
   "cell_type": "code",
   "execution_count": null,
   "metadata": {},
   "outputs": [],
   "source": [
    "X_train = np.array(data_hidden[\"train\"][\"hidden_state\"])\n",
    "X_valid = np.array(data_hidden[\"validation\"][\"hidden_state\"])\n",
    "y_train = np.array(data_hidden[\"train\"][\"label\"])\n",
    "y_valid = np.array(data_hidden[\"validation\"][\"label\"])\n",
    "X_train.shape, X_valid.shape, y_train.shape, y_valid.shape"
   ]
  },
  {
   "cell_type": "markdown",
   "metadata": {},
   "source": [
    "### 4.1.4 Training a simple classifier\n",
    "\n",
    "The accuracy of the model is 0.633, which is quite good, considering that it deals with an unbalanced multiclass dataset. \n",
    "\n",
    "To examine the model's performance in more detail, it can be used the `DummyClassifier` class from scikit-learn to train a classifier that always predicts the most frequent class in the training set. This will provide a baseline to compare the model's performance against."
   ]
  },
  {
   "cell_type": "code",
   "execution_count": null,
   "metadata": {},
   "outputs": [],
   "source": [
    "from sklearn.linear_model import LogisticRegression\n",
    "\n",
    "# we increase `max_iter` to guarantee convergence\n",
    "lr_clf = LogisticRegression(max_iter=3000)\n",
    "lr_clf.fit(X_train, y_train)\n",
    "lr_clf.score(X_valid, y_valid)"
   ]
  },
  {
   "cell_type": "code",
   "execution_count": null,
   "metadata": {},
   "outputs": [],
   "source": [
    "from sklearn.dummy import DummyClassifier\n",
    "\n",
    "dummy_clf = DummyClassifier(strategy=\"most_frequent\")\n",
    "dummy_clf.fit(X_train, y_train)\n",
    "dummy_clf.score(X_valid, y_valid)"
   ]
  },
  {
   "cell_type": "markdown",
   "metadata": {},
   "source": [
    "The confusion matrix tells the relationship between the true and predicted labels.\n",
    "\n",
    "We can see that `anger` and `fear` are most often confused with `sadness`, which agrees with the observation we made when visualizing the embeddings. Also, `love` and `surprise` are frequently mistaken for `joy`."
   ]
  },
  {
   "cell_type": "code",
   "execution_count": null,
   "metadata": {},
   "outputs": [],
   "source": [
    "from sklearn.metrics import ConfusionMatrixDisplay, confusion_matrix\n",
    "\n",
    "def plot_confusion_matrix(y_preds, y_true, labels):\n",
    "  cm = confusion_matrix(y_true, y_preds, normalize=\"true\")\n",
    "  fig, ax = plt.subplots(figsize=(6, 6))\n",
    "  disp = ConfusionMatrixDisplay(confusion_matrix=cm, display_labels=labels)\n",
    "  disp.plot(cmap=\"Blues\", values_format=\".2f\", ax=ax, colorbar=False)\n",
    "  plt.title(\"Normalized Confusion Matrix\")\n",
    "  plt.show();\n",
    "\n",
    "y_preds = lr_clf.predict(X_valid)\n",
    "plot_confusion_matrix(y_preds, y_valid, labels=[idx for idx, label in enumerate(labels)])"
   ]
  },
  {
   "cell_type": "markdown",
   "metadata": {},
   "source": [
    "## 4.2 Fine-tuning approach\n",
    "\n",
    "The whole model is trained end-to-end, updating all parameters of the pretrained model. This requires the classification head to be differentiable, which is why this method usually uses a neural network for classification.\n",
    "\n",
    "Training the hidden states that serve as inputs to the classification model will help to avoid the problem of working with data that may not be well suited for the classification task. Instead, the initial hidden states adapt during training to decrease the model loss and thus increase its performance.\n",
    "\n",
    "### 4.2.1 Loading a pretrained model\n",
    "\n",
    "The `AutoModelForSequenceClassification` class automatically loads the correct classification head for the model architecture, making it possible to load a pretrained model and fine-tune it on a new task in just a few lines of code. We just need to specify how many labels the model has to predict (6 in this case) and the model will automatically download the correct head and load it with the pretrained weights."
   ]
  },
  {
   "cell_type": "code",
   "execution_count": null,
   "metadata": {},
   "outputs": [],
   "source": [
    "from transformers import AutoModelForSequenceClassification\n",
    "\n",
    "num_labels = len(data[\"train\"].features[\"label\"].names)\n",
    "model = AutoModelForSequenceClassification.from_pretrained(model_ckpt, num_labels=num_labels).to(device)"
   ]
  },
  {
   "cell_type": "markdown",
   "metadata": {},
   "source": [
    "### 4.2.2 Defining the performance metrics"
   ]
  },
  {
   "cell_type": "code",
   "execution_count": null,
   "metadata": {},
   "outputs": [],
   "source": [
    "from sklearn.metrics import accuracy_score, f1_score\n",
    "\n",
    "def compute_metrics(pred):\n",
    "  \"\"\"\n",
    "  This function receives an `EvalPrediction` object (a namedtuple with a\n",
    "  predictions and label_ids field) and returns a dictionary with the F1 \n",
    "  score under the key `f1` and the accuracy under the key `accuracy`\n",
    "  \"\"\"\n",
    "  labels = pred.label_ids\n",
    "  preds = pred.predictions.argmax(-1)\n",
    "  f1 = f1_score(labels, preds, average=\"weighted\")\n",
    "  acc = accuracy_score(labels, preds)\n",
    "  return {\"accuracy\": acc, \"f1\": f1}"
   ]
  },
  {
   "cell_type": "markdown",
   "metadata": {},
   "source": [
    "### 4.2.3 Training the model\n",
    "\n",
    "The `TrainingArguments` class contains all the hyperparameters that control the training process. The most important parameter to specify is `output_dir`, which is the path to the directory where the model and training metrics will be saved.\n",
    "\n",
    "Looking at the results, we can see that the fine-tuned model has an F1-score on the validation set of around 92%, which is a significant improvement over the feature-based approach. The confusion matrix also shows that the model is much more confident in its predictions, with most of the errors being due to the model confusing `love` and `joy`, which is understandable."
   ]
  },
  {
   "cell_type": "code",
   "execution_count": null,
   "metadata": {},
   "outputs": [],
   "source": [
    "from transformers import TrainingArguments\n",
    "\n",
    "batch_size = 64\n",
    "logging_steps = len(data_encoded[\"train\"]) // batch_size\n",
    "model_name = f\"{model_ckpt}-finetuned-expenses\"\n",
    "\n",
    "training_args = TrainingArguments(\n",
    "  output_dir=model_name,\n",
    "  num_train_epochs=2,\n",
    "  learning_rate=2e-5,\n",
    "  per_device_train_batch_size=batch_size,\n",
    "  per_device_eval_batch_size=batch_size,\n",
    "  weight_decay=0.01,\n",
    "  evaluation_strategy=\"epoch\",\n",
    "  disable_tqdm=False,\n",
    "  logging_steps=logging_steps,\n",
    "  log_level=\"error\",\n",
    ")"
   ]
  },
  {
   "cell_type": "code",
   "execution_count": null,
   "metadata": {},
   "outputs": [],
   "source": [
    "from transformers import Trainer\n",
    "\n",
    "trainer = Trainer(\n",
    "  model=model,\n",
    "  args=training_args,\n",
    "  train_dataset=data_encoded[\"train\"],\n",
    "  eval_dataset=data_encoded[\"validation\"],\n",
    "  tokenizer=tokenizer,\n",
    ")\n",
    "trainer.train();"
   ]
  },
  {
   "cell_type": "code",
   "execution_count": null,
   "metadata": {},
   "outputs": [],
   "source": [
    "preds_output = trainer.predict(data_encoded[\"validation\"])"
   ]
  },
  {
   "cell_type": "code",
   "execution_count": null,
   "metadata": {},
   "outputs": [],
   "source": [
    "# for each observation in the validation set, the model outputs a vector of\n",
    "# logits with a length equal to the number of labels\n",
    "preds_output.predictions.shape"
   ]
  },
  {
   "cell_type": "code",
   "execution_count": 48,
   "metadata": {},
   "outputs": [
    {
     "data": {
      "text/plain": [
       "(1690,)"
      ]
     },
     "execution_count": 48,
     "metadata": {},
     "output_type": "execute_result"
    }
   ],
   "source": [
    "preds_output.label_ids.shape"
   ]
  },
  {
   "cell_type": "code",
   "execution_count": 49,
   "metadata": {},
   "outputs": [
    {
     "data": {
      "text/plain": [
       "'Technology/Telecom'"
      ]
     },
     "execution_count": 49,
     "metadata": {},
     "output_type": "execute_result"
    }
   ],
   "source": [
    "# prediction for the first example\n",
    "pred = preds_output.label_ids[0]\n",
    "labels[pred]"
   ]
  },
  {
   "cell_type": "code",
   "execution_count": 50,
   "metadata": {},
   "outputs": [
    {
     "data": {
      "text/plain": [
       "{'test_loss': 0.49480995535850525,\n",
       " 'test_runtime': 29.4253,\n",
       " 'test_samples_per_second': 57.434,\n",
       " 'test_steps_per_second': 0.918}"
      ]
     },
     "execution_count": 50,
     "metadata": {},
     "output_type": "execute_result"
    }
   ],
   "source": [
    "preds_output.metrics"
   ]
  },
  {
   "cell_type": "code",
   "execution_count": 52,
   "metadata": {},
   "outputs": [
    {
     "data": {
      "image/png": "[encoded data removed]",
      "text/plain": [
       "<Figure size 600x600 with 1 Axes>"
      ]
     },
     "metadata": {},
     "output_type": "display_data"
    }
   ],
   "source": [
    "y_preds = np.argmax(preds_output.predictions, axis=1)\n",
    "\n",
    "plot_confusion_matrix(y_preds, y_valid, labels=[idx for idx, label in enumerate(labels)])"
   ]
  },
  {
   "cell_type": "code",
   "execution_count": 54,
   "metadata": {},
   "outputs": [
    {
     "data": {
      "text/plain": [
       "{'Energy & Utilities': 0,\n",
       " 'Human Resources': 1,\n",
       " 'Logistics': 2,\n",
       " 'Manufacturing': 3,\n",
       " 'Professional Services': 4,\n",
       " 'R&D Equipment': 5,\n",
       " 'Real Estate & Facilities': 6,\n",
       " 'Sales, Marketing & Events': 7,\n",
       " 'Technology/Telecom': 8,\n",
       " 'Travel & Expense': 9,\n",
       " 'Uncategorized': 10}"
      ]
     },
     "execution_count": 54,
     "metadata": {},
     "output_type": "execute_result"
    }
   ],
   "source": [
    "# create a dictionary with the labels as values and their index as keys\n",
    "label2id = { label: idx for idx, label in enumerate(labels) }\n",
    "label2id"
   ]
  },
  {
   "cell_type": "markdown",
   "metadata": {},
   "source": [
    "## 4.3 Error analysis\n",
    "\n",
    "A simple technique is to sort the validation samples by the model loss. When the label is passed during the forward pass, the loss is automatically calculated and returned. The goal of this exercise is to detect *wrong labels* or *quirks of the dataset*.\n",
    "\n",
    "With this information we can refine the dataset, which might be either mislabeled or require a new class altogether. This often can lead to as big a performance gain (or more) as having more data or larger models.\n",
    "\n",
    "Deep learning models are exceptionally good at finding and exploiting shortcuts to get to a prediction. For this reason, it is also worth investigating the predictions the model is most confident about, so to check if the model is not improperly exploiting random features in the text."
   ]
  },
  {
   "cell_type": "code",
   "execution_count": 55,
   "metadata": {},
   "outputs": [],
   "source": [
    "from torch.nn.functional import cross_entropy\n",
    "\n",
    "def forward_pass_with_label(batch):\n",
    "  # place all input tensors on the device\n",
    "  inputs = { k: v.to(device) for k, v in batch.items() if k in tokenizer.model_input_names }\n",
    "\n",
    "  # forward pass\n",
    "  with torch.inference_mode():\n",
    "    model.to(device)\n",
    "    output = model(**inputs)\n",
    "    pred_label = torch.argmax(output.logits, axis=-1)\n",
    "    loss = cross_entropy(output.logits, batch[\"label\"].to(device), reduction=\"none\")\n",
    "\n",
    "  # place output on CPU for compatibility with other dataset columns\n",
    "  return { \"loss\": loss.cpu().numpy(), \"predicted_label\": pred_label.cpu().numpy() }"
   ]
  },
  {
   "cell_type": "code",
   "execution_count": 56,
   "metadata": {},
   "outputs": [
    {
     "name": "stderr",
     "output_type": "stream",
     "text": [
      "Map: 100%|██████████| 1690/1690 [00:48<00:00, 34.91 examples/s]\n"
     ]
    }
   ],
   "source": [
    "# convert dataset back to PyTorch tensors\n",
    "data_encoded.with_format(type=\"torch\", columns=[\"input_ids\", \"attention_mask\", \"label\"])\n",
    "\n",
    "# compute loss values\n",
    "data_encoded[\"validation\"] = data_encoded[\"validation\"].map(forward_pass_with_label, batched=True, batch_size=16)"
   ]
  },
  {
   "cell_type": "code",
   "execution_count": 57,
   "metadata": {},
   "outputs": [],
   "source": [
    "data_encoded.set_format(\"pandas\")\n",
    "cols = [\"text\", \"label\", \"predicted_label\", \"loss\"]\n",
    "df_test = data_encoded[\"validation\"][:][cols]\n",
    "df_test[\"label\"] = df_test[\"label\"].apply(lambda row: data[\"train\"].features[\"label\"].int2str(row))"
   ]
  },
  {
   "cell_type": "code",
   "execution_count": 58,
   "metadata": {},
   "outputs": [
    {
     "data": {
      "text/html": [
       "<div>\n",
       "<style scoped>\n",
       "    .dataframe tbody tr th:only-of-type {\n",
       "        vertical-align: middle;\n",
       "    }\n",
       "\n",
       "    .dataframe tbody tr th {\n",
       "        vertical-align: top;\n",
       "    }\n",
       "\n",
       "    .dataframe thead th {\n",
       "        text-align: right;\n",
       "    }\n",
       "</style>\n",
       "<table border=\"1\" class=\"dataframe\">\n",
       "  <thead>\n",
       "    <tr style=\"text-align: right;\">\n",
       "      <th></th>\n",
       "      <th>text</th>\n",
       "      <th>label</th>\n",
       "      <th>predicted_label</th>\n",
       "      <th>loss</th>\n",
       "    </tr>\n",
       "  </thead>\n",
       "  <tbody>\n",
       "    <tr>\n",
       "      <th>893</th>\n",
       "      <td>Normalized Supplier Name, ECOLAB, Country Name, Brazil, Strategic Region, NORAM, Requestor Name, Lisandro Ulerio, Preparer Name, Victória Simonato, Business Unit, Facilities, Legal Entity, Facebook Servicos Online Do Brasil Ltda, Cost Center (Base Level), Non-Bay Area Facilities &amp; Operations Group, Cost Center (Level 4), FCS G&amp;A, Cost Center (Level 5), General &amp; Administrative, GL Desc (Level 4), Kitchen, Invoice Source, CAFEPRO, GL Description, Kitchen, Project, 31311 - Sao Paolo Aguas de Marco</td>\n",
       "      <td>Human Resources</td>\n",
       "      <td>6</td>\n",
       "      <td>5.146794</td>\n",
       "    </tr>\n",
       "    <tr>\n",
       "      <th>581</th>\n",
       "      <td>Normalized Supplier Name, WEW IMPORTACAO E EXPORTACAO LTDA, Country Name, Brazil, Strategic Region, NORAM, Requestor Name, Lisandro Ulerio, Preparer Name, Victória Simonato, Business Unit, Facilities, Legal Entity, Facebook Servicos Online Do Brasil Ltda, Cost Center (Base Level), Non-Bay Area Facilities &amp; Operations Group, Cost Center (Level 4), FCS G&amp;A, Cost Center (Level 5), General &amp; Administrative, GL Desc (Level 4), Kitchen, Invoice Source, CAFEPRO, GL Description, Kitchen, Project, 31311 - Sao Paolo Aguas de Marco</td>\n",
       "      <td>Logistics</td>\n",
       "      <td>6</td>\n",
       "      <td>5.145047</td>\n",
       "    </tr>\n",
       "    <tr>\n",
       "      <th>354</th>\n",
       "      <td>Normalized Supplier Name, BRIGAGAO DUQUE ESTRADA ADVOGADOS, Country Name, Brazil, Strategic Region, LATAM, Requestor Name, Rafael Benevides, Preparer Name, Rafael Benevides, Business Unit, Finance, Legal Entity, Facebook Servicos Online Do Brasil Ltda, Cost Center (Base Level), Tax Group, Cost Center (Level 4), Finance G&amp;A, Cost Center (Level 5), General &amp; Administrative, GL Desc (Level 4), Audit and tax services, Invoice Source, LETTERBOX, GL Description, Audit and tax services, Project, 00000 - Default Project</td>\n",
       "      <td>Uncategorized</td>\n",
       "      <td>4</td>\n",
       "      <td>4.738184</td>\n",
       "    </tr>\n",
       "    <tr>\n",
       "      <th>1322</th>\n",
       "      <td>Normalized Supplier Name, LENOVO TECNOLOGIA BRASIL LIMITADA, Country Name, Brazil, Strategic Region, NORAM, Requestor Name, Stephen Murphy, Preparer Name, ERIKA BOVO, Business Unit, IT &amp; Corpnet, Legal Entity, Facebook Servicos Online Do Brasil Ltda, Cost Center (Base Level), EE Ops Supply Chain Group, Cost Center (Level 4), Enterprise Engineering G&amp;A, Cost Center (Level 5), General &amp; Administrative, GL Desc (Level 4), Fixed Assets - Gross, Invoice Source, LETTERBOX, GL Description, Assets clearing-capitalized, Project, 00000 - Default Project</td>\n",
       "      <td>R&amp;D Equipment (incl. Equipment Services and Supplies)</td>\n",
       "      <td>8</td>\n",
       "      <td>4.605190</td>\n",
       "    </tr>\n",
       "    <tr>\n",
       "      <th>360</th>\n",
       "      <td>Normalized Supplier Name, DIOGO RAIS RODRIGUES MOREIRA, Country Name, Brazil, Strategic Region, LATAM, Requestor Name, unknown, Preparer Name, unknown, Business Unit, Legal, Legal Entity, Facebook Servicos Online Do Brasil Ltda, Cost Center (Base Level), NORAM Litigation Group, Cost Center (Level 4), Legal G&amp;A, Cost Center (Level 5), General &amp; Administrative, GL Desc (Level 4), Legal - litigation, Invoice Source, LETTERBOX, GL Description, Legal - litigation, Project, 00000 - Default Project</td>\n",
       "      <td>Uncategorized</td>\n",
       "      <td>4</td>\n",
       "      <td>4.482581</td>\n",
       "    </tr>\n",
       "    <tr>\n",
       "      <th>943</th>\n",
       "      <td>Normalized Supplier Name, DIOGO RAIS RODRIGUES MOREIRA, Country Name, Brazil, Strategic Region, LATAM, Requestor Name, unknown, Preparer Name, unknown, Business Unit, Legal, Legal Entity, Facebook Servicos Online Do Brasil Ltda, Cost Center (Base Level), NORAM Litigation Group, Cost Center (Level 4), Legal G&amp;A, Cost Center (Level 5), General &amp; Administrative, GL Desc (Level 4), Legal - litigation, Invoice Source, LETTERBOX, GL Description, Legal - litigation, Project, 00000 - Default Project</td>\n",
       "      <td>Uncategorized</td>\n",
       "      <td>4</td>\n",
       "      <td>4.482581</td>\n",
       "    </tr>\n",
       "    <tr>\n",
       "      <th>942</th>\n",
       "      <td>Normalized Supplier Name, D CONTADORES SAC, Country Name, Peru, Strategic Region, LATAM, Requestor Name, Juliana Nelia do Nascimento Correa, Preparer Name, Juliana Nelia do Nascimento Correa, Business Unit, Finance, Legal Entity, Edge Network Services Peru S.A., Cost Center (Base Level), DO NOT USE - Finance Outsourcing Strategy, Cost Center (Level 4), Finance G&amp;A, Cost Center (Level 5), General &amp; Administrative, GL Desc (Level 4), Outsourced Services, Invoice Source, OCR, GL Description, Outsourced Services, Project, 82212 - Finance Outsourcing Knowledge Process</td>\n",
       "      <td>Sales, Marketing &amp; Events</td>\n",
       "      <td>4</td>\n",
       "      <td>4.456293</td>\n",
       "    </tr>\n",
       "    <tr>\n",
       "      <th>719</th>\n",
       "      <td>Normalized Supplier Name, COMPANIA ERICSSON S A C I, Country Name, Argentina, Strategic Region, NORAM, Requestor Name, Patrick Matthies, Preparer Name, Cesar Luna, Business Unit, Infrastructure, Legal Entity, Edge Argentina S.R.L., Cost Center (Base Level), Core Networking Group, Cost Center (Level 4), Infra R&amp;D, Cost Center (Level 5), Research &amp; Development, GL Desc (Level 4), Fixed Assets - Gross, Invoice Source, SC_UPLOAD, GL Description, Assets clearing-capitalized, Project, 00000 - Default Project</td>\n",
       "      <td>Manufacturing</td>\n",
       "      <td>8</td>\n",
       "      <td>4.442703</td>\n",
       "    </tr>\n",
       "    <tr>\n",
       "      <th>1666</th>\n",
       "      <td>Normalized Supplier Name, COMPANIA ERICSSON S A C I, Country Name, Argentina, Strategic Region, NORAM, Requestor Name, Diego Dominguez, Preparer Name, Sheenam Sharma, Business Unit, Infrastructure, Legal Entity, Edge Argentina S.R.L., Cost Center (Base Level), Core Networking Group, Cost Center (Level 4), Infra R&amp;D, Cost Center (Level 5), Research &amp; Development, GL Desc (Level 4), Fixed Assets - Gross, Invoice Source, SC_UPLOAD, GL Description, Assets clearing-capitalized, Project, 00000 - Default Project</td>\n",
       "      <td>Manufacturing</td>\n",
       "      <td>8</td>\n",
       "      <td>4.434647</td>\n",
       "    </tr>\n",
       "    <tr>\n",
       "      <th>1569</th>\n",
       "      <td>Normalized Supplier Name, COMPANIA ERICSSON S A C I, Country Name, Argentina, Strategic Region, NORAM, Requestor Name, Diego Dominguez, Preparer Name, Cesar Luna, Business Unit, Infrastructure, Legal Entity, Edge Argentina S.R.L., Cost Center (Base Level), Core Networking Group, Cost Center (Level 4), Infra R&amp;D, Cost Center (Level 5), Research &amp; Development, GL Desc (Level 4), COGS - Support and maintenance, Invoice Source, SC_UPLOAD, GL Description, COGS - Support and maintenance, Project, 55111 - Network - Edge - FNA</td>\n",
       "      <td>Manufacturing</td>\n",
       "      <td>8</td>\n",
       "      <td>4.411567</td>\n",
       "    </tr>\n",
       "  </tbody>\n",
       "</table>\n",
       "</div>"
      ],
      "text/plain": [
       "                                                                                                                                                                                                                                                                                                                                                                                                                                                                                                                                                                                           text  \\\n",
       "893                                                                        Normalized Supplier Name, ECOLAB, Country Name, Brazil, Strategic Region, NORAM, Requestor Name, Lisandro Ulerio, Preparer Name, Victória Simonato, Business Unit, Facilities, Legal Entity, Facebook Servicos Online Do Brasil Ltda, Cost Center (Base Level), Non-Bay Area Facilities & Operations Group, Cost Center (Level 4), FCS G&A, Cost Center (Level 5), General & Administrative, GL Desc (Level 4), Kitchen, Invoice Source, CAFEPRO, GL Description, Kitchen, Project, 31311 - Sao Paolo Aguas de Marco   \n",
       "581                                              Normalized Supplier Name, WEW IMPORTACAO E EXPORTACAO LTDA, Country Name, Brazil, Strategic Region, NORAM, Requestor Name, Lisandro Ulerio, Preparer Name, Victória Simonato, Business Unit, Facilities, Legal Entity, Facebook Servicos Online Do Brasil Ltda, Cost Center (Base Level), Non-Bay Area Facilities & Operations Group, Cost Center (Level 4), FCS G&A, Cost Center (Level 5), General & Administrative, GL Desc (Level 4), Kitchen, Invoice Source, CAFEPRO, GL Description, Kitchen, Project, 31311 - Sao Paolo Aguas de Marco   \n",
       "354                                                       Normalized Supplier Name, BRIGAGAO DUQUE ESTRADA ADVOGADOS, Country Name, Brazil, Strategic Region, LATAM, Requestor Name, Rafael Benevides, Preparer Name, Rafael Benevides, Business Unit, Finance, Legal Entity, Facebook Servicos Online Do Brasil Ltda, Cost Center (Base Level), Tax Group, Cost Center (Level 4), Finance G&A, Cost Center (Level 5), General & Administrative, GL Desc (Level 4), Audit and tax services, Invoice Source, LETTERBOX, GL Description, Audit and tax services, Project, 00000 - Default Project   \n",
       "1322                      Normalized Supplier Name, LENOVO TECNOLOGIA BRASIL LIMITADA, Country Name, Brazil, Strategic Region, NORAM, Requestor Name, Stephen Murphy, Preparer Name, ERIKA BOVO, Business Unit, IT & Corpnet, Legal Entity, Facebook Servicos Online Do Brasil Ltda, Cost Center (Base Level), EE Ops Supply Chain Group, Cost Center (Level 4), Enterprise Engineering G&A, Cost Center (Level 5), General & Administrative, GL Desc (Level 4), Fixed Assets - Gross, Invoice Source, LETTERBOX, GL Description, Assets clearing-capitalized, Project, 00000 - Default Project   \n",
       "360                                                                            Normalized Supplier Name, DIOGO RAIS RODRIGUES MOREIRA, Country Name, Brazil, Strategic Region, LATAM, Requestor Name, unknown, Preparer Name, unknown, Business Unit, Legal, Legal Entity, Facebook Servicos Online Do Brasil Ltda, Cost Center (Base Level), NORAM Litigation Group, Cost Center (Level 4), Legal G&A, Cost Center (Level 5), General & Administrative, GL Desc (Level 4), Legal - litigation, Invoice Source, LETTERBOX, GL Description, Legal - litigation, Project, 00000 - Default Project   \n",
       "943                                                                            Normalized Supplier Name, DIOGO RAIS RODRIGUES MOREIRA, Country Name, Brazil, Strategic Region, LATAM, Requestor Name, unknown, Preparer Name, unknown, Business Unit, Legal, Legal Entity, Facebook Servicos Online Do Brasil Ltda, Cost Center (Base Level), NORAM Litigation Group, Cost Center (Level 4), Legal G&A, Cost Center (Level 5), General & Administrative, GL Desc (Level 4), Legal - litigation, Invoice Source, LETTERBOX, GL Description, Legal - litigation, Project, 00000 - Default Project   \n",
       "942   Normalized Supplier Name, D CONTADORES SAC, Country Name, Peru, Strategic Region, LATAM, Requestor Name, Juliana Nelia do Nascimento Correa, Preparer Name, Juliana Nelia do Nascimento Correa, Business Unit, Finance, Legal Entity, Edge Network Services Peru S.A., Cost Center (Base Level), DO NOT USE - Finance Outsourcing Strategy, Cost Center (Level 4), Finance G&A, Cost Center (Level 5), General & Administrative, GL Desc (Level 4), Outsourced Services, Invoice Source, OCR, GL Description, Outsourced Services, Project, 82212 - Finance Outsourcing Knowledge Process   \n",
       "719                                                                 Normalized Supplier Name, COMPANIA ERICSSON S A C I, Country Name, Argentina, Strategic Region, NORAM, Requestor Name, Patrick Matthies, Preparer Name, Cesar Luna, Business Unit, Infrastructure, Legal Entity, Edge Argentina S.R.L., Cost Center (Base Level), Core Networking Group, Cost Center (Level 4), Infra R&D, Cost Center (Level 5), Research & Development, GL Desc (Level 4), Fixed Assets - Gross, Invoice Source, SC_UPLOAD, GL Description, Assets clearing-capitalized, Project, 00000 - Default Project   \n",
       "1666                                                             Normalized Supplier Name, COMPANIA ERICSSON S A C I, Country Name, Argentina, Strategic Region, NORAM, Requestor Name, Diego Dominguez, Preparer Name, Sheenam Sharma, Business Unit, Infrastructure, Legal Entity, Edge Argentina S.R.L., Cost Center (Base Level), Core Networking Group, Cost Center (Level 4), Infra R&D, Cost Center (Level 5), Research & Development, GL Desc (Level 4), Fixed Assets - Gross, Invoice Source, SC_UPLOAD, GL Description, Assets clearing-capitalized, Project, 00000 - Default Project   \n",
       "1569                                               Normalized Supplier Name, COMPANIA ERICSSON S A C I, Country Name, Argentina, Strategic Region, NORAM, Requestor Name, Diego Dominguez, Preparer Name, Cesar Luna, Business Unit, Infrastructure, Legal Entity, Edge Argentina S.R.L., Cost Center (Base Level), Core Networking Group, Cost Center (Level 4), Infra R&D, Cost Center (Level 5), Research & Development, GL Desc (Level 4), COGS - Support and maintenance, Invoice Source, SC_UPLOAD, GL Description, COGS - Support and maintenance, Project, 55111 - Network - Edge - FNA   \n",
       "\n",
       "                                                      label  predicted_label  \\\n",
       "893                                         Human Resources                6   \n",
       "581                                               Logistics                6   \n",
       "354                                           Uncategorized                4   \n",
       "1322  R&D Equipment (incl. Equipment Services and Supplies)                8   \n",
       "360                                           Uncategorized                4   \n",
       "943                                           Uncategorized                4   \n",
       "942                               Sales, Marketing & Events                4   \n",
       "719                                           Manufacturing                8   \n",
       "1666                                          Manufacturing                8   \n",
       "1569                                          Manufacturing                8   \n",
       "\n",
       "          loss  \n",
       "893   5.146794  \n",
       "581   5.145047  \n",
       "354   4.738184  \n",
       "1322  4.605190  \n",
       "360   4.482581  \n",
       "943   4.482581  \n",
       "942   4.456293  \n",
       "719   4.442703  \n",
       "1666  4.434647  \n",
       "1569  4.411567  "
      ]
     },
     "execution_count": 58,
     "metadata": {},
     "output_type": "execute_result"
    }
   ],
   "source": [
    "# data samples with highest losses\n",
    "pd.set_option('display.max_colwidth', None)\n",
    "df_test.sort_values(\"loss\", ascending=False).head(10)"
   ]
  },
  {
   "cell_type": "code",
   "execution_count": 59,
   "metadata": {},
   "outputs": [
    {
     "data": {
      "text/html": [
       "<div>\n",
       "<style scoped>\n",
       "    .dataframe tbody tr th:only-of-type {\n",
       "        vertical-align: middle;\n",
       "    }\n",
       "\n",
       "    .dataframe tbody tr th {\n",
       "        vertical-align: top;\n",
       "    }\n",
       "\n",
       "    .dataframe thead th {\n",
       "        text-align: right;\n",
       "    }\n",
       "</style>\n",
       "<table border=\"1\" class=\"dataframe\">\n",
       "  <thead>\n",
       "    <tr style=\"text-align: right;\">\n",
       "      <th></th>\n",
       "      <th>text</th>\n",
       "      <th>label</th>\n",
       "      <th>predicted_label</th>\n",
       "      <th>loss</th>\n",
       "    </tr>\n",
       "  </thead>\n",
       "  <tbody>\n",
       "    <tr>\n",
       "      <th>1689</th>\n",
       "      <td>Normalized Supplier Name, BANCO DO BRASIL S A, Country Name, Brazil, Strategic Region, LATAM, Requestor Name, unknown, Preparer Name, unknown, Business Unit, Legal, Legal Entity, Facebook Servicos Online Do Brasil Ltda, Cost Center (Base Level), NORAM Litigation Group, Cost Center (Level 4), Legal G&amp;A, Cost Center (Level 5), General &amp; Administrative, GL Desc (Level 4), Legal - settlements, Invoice Source, Manual Invoice Entry, GL Description, Legal - settlements, Project, 00000 - Default Project</td>\n",
       "      <td>Professional Services</td>\n",
       "      <td>4</td>\n",
       "      <td>0.024522</td>\n",
       "    </tr>\n",
       "    <tr>\n",
       "      <th>945</th>\n",
       "      <td>Normalized Supplier Name, BANCO DO BRASIL S A, Country Name, Brazil, Strategic Region, LATAM, Requestor Name, unknown, Preparer Name, unknown, Business Unit, Legal, Legal Entity, Facebook Servicos Online Do Brasil Ltda, Cost Center (Base Level), NORAM Litigation Group, Cost Center (Level 4), Legal G&amp;A, Cost Center (Level 5), General &amp; Administrative, GL Desc (Level 4), Legal - settlements, Invoice Source, Manual Invoice Entry, GL Description, Legal - settlements, Project, 00000 - Default Project</td>\n",
       "      <td>Professional Services</td>\n",
       "      <td>4</td>\n",
       "      <td>0.024522</td>\n",
       "    </tr>\n",
       "    <tr>\n",
       "      <th>949</th>\n",
       "      <td>Normalized Supplier Name, BANCO DO BRASIL S A, Country Name, Brazil, Strategic Region, LATAM, Requestor Name, unknown, Preparer Name, unknown, Business Unit, Legal, Legal Entity, Facebook Servicos Online Do Brasil Ltda, Cost Center (Base Level), NORAM Litigation Group, Cost Center (Level 4), Legal G&amp;A, Cost Center (Level 5), General &amp; Administrative, GL Desc (Level 4), Legal - settlements, Invoice Source, Manual Invoice Entry, GL Description, Legal - settlements, Project, 00000 - Default Project</td>\n",
       "      <td>Professional Services</td>\n",
       "      <td>4</td>\n",
       "      <td>0.024522</td>\n",
       "    </tr>\n",
       "    <tr>\n",
       "      <th>951</th>\n",
       "      <td>Normalized Supplier Name, BANCO DO BRASIL S A, Country Name, Brazil, Strategic Region, LATAM, Requestor Name, unknown, Preparer Name, unknown, Business Unit, Legal, Legal Entity, Facebook Servicos Online Do Brasil Ltda, Cost Center (Base Level), NORAM Litigation Group, Cost Center (Level 4), Legal G&amp;A, Cost Center (Level 5), General &amp; Administrative, GL Desc (Level 4), Legal - settlements, Invoice Source, Manual Invoice Entry, GL Description, Legal - settlements, Project, 00000 - Default Project</td>\n",
       "      <td>Professional Services</td>\n",
       "      <td>4</td>\n",
       "      <td>0.024522</td>\n",
       "    </tr>\n",
       "    <tr>\n",
       "      <th>954</th>\n",
       "      <td>Normalized Supplier Name, BANCO DO BRASIL S A, Country Name, Brazil, Strategic Region, LATAM, Requestor Name, unknown, Preparer Name, unknown, Business Unit, Legal, Legal Entity, Facebook Servicos Online Do Brasil Ltda, Cost Center (Base Level), NORAM Litigation Group, Cost Center (Level 4), Legal G&amp;A, Cost Center (Level 5), General &amp; Administrative, GL Desc (Level 4), Legal - settlements, Invoice Source, Manual Invoice Entry, GL Description, Legal - settlements, Project, 00000 - Default Project</td>\n",
       "      <td>Professional Services</td>\n",
       "      <td>4</td>\n",
       "      <td>0.024522</td>\n",
       "    </tr>\n",
       "    <tr>\n",
       "      <th>956</th>\n",
       "      <td>Normalized Supplier Name, BANCO DO BRASIL S A, Country Name, Brazil, Strategic Region, LATAM, Requestor Name, unknown, Preparer Name, unknown, Business Unit, Legal, Legal Entity, Facebook Servicos Online Do Brasil Ltda, Cost Center (Base Level), NORAM Litigation Group, Cost Center (Level 4), Legal G&amp;A, Cost Center (Level 5), General &amp; Administrative, GL Desc (Level 4), Legal - settlements, Invoice Source, Manual Invoice Entry, GL Description, Legal - settlements, Project, 00000 - Default Project</td>\n",
       "      <td>Professional Services</td>\n",
       "      <td>4</td>\n",
       "      <td>0.024522</td>\n",
       "    </tr>\n",
       "    <tr>\n",
       "      <th>960</th>\n",
       "      <td>Normalized Supplier Name, BANCO DO BRASIL S A, Country Name, Brazil, Strategic Region, LATAM, Requestor Name, unknown, Preparer Name, unknown, Business Unit, Legal, Legal Entity, Facebook Servicos Online Do Brasil Ltda, Cost Center (Base Level), NORAM Litigation Group, Cost Center (Level 4), Legal G&amp;A, Cost Center (Level 5), General &amp; Administrative, GL Desc (Level 4), Legal - settlements, Invoice Source, Manual Invoice Entry, GL Description, Legal - settlements, Project, 00000 - Default Project</td>\n",
       "      <td>Professional Services</td>\n",
       "      <td>4</td>\n",
       "      <td>0.024522</td>\n",
       "    </tr>\n",
       "    <tr>\n",
       "      <th>968</th>\n",
       "      <td>Normalized Supplier Name, BANCO DO BRASIL S A, Country Name, Brazil, Strategic Region, LATAM, Requestor Name, unknown, Preparer Name, unknown, Business Unit, Legal, Legal Entity, Facebook Servicos Online Do Brasil Ltda, Cost Center (Base Level), NORAM Litigation Group, Cost Center (Level 4), Legal G&amp;A, Cost Center (Level 5), General &amp; Administrative, GL Desc (Level 4), Legal - settlements, Invoice Source, Manual Invoice Entry, GL Description, Legal - settlements, Project, 00000 - Default Project</td>\n",
       "      <td>Professional Services</td>\n",
       "      <td>4</td>\n",
       "      <td>0.024522</td>\n",
       "    </tr>\n",
       "    <tr>\n",
       "      <th>333</th>\n",
       "      <td>Normalized Supplier Name, BANCO DO BRASIL S A, Country Name, Brazil, Strategic Region, LATAM, Requestor Name, unknown, Preparer Name, unknown, Business Unit, Legal, Legal Entity, Facebook Servicos Online Do Brasil Ltda, Cost Center (Base Level), NORAM Litigation Group, Cost Center (Level 4), Legal G&amp;A, Cost Center (Level 5), General &amp; Administrative, GL Desc (Level 4), Legal - settlements, Invoice Source, Manual Invoice Entry, GL Description, Legal - settlements, Project, 00000 - Default Project</td>\n",
       "      <td>Professional Services</td>\n",
       "      <td>4</td>\n",
       "      <td>0.024522</td>\n",
       "    </tr>\n",
       "    <tr>\n",
       "      <th>970</th>\n",
       "      <td>Normalized Supplier Name, BANCO DO BRASIL S A, Country Name, Brazil, Strategic Region, LATAM, Requestor Name, unknown, Preparer Name, unknown, Business Unit, Legal, Legal Entity, Facebook Servicos Online Do Brasil Ltda, Cost Center (Base Level), NORAM Litigation Group, Cost Center (Level 4), Legal G&amp;A, Cost Center (Level 5), General &amp; Administrative, GL Desc (Level 4), Legal - settlements, Invoice Source, Manual Invoice Entry, GL Description, Legal - settlements, Project, 00000 - Default Project</td>\n",
       "      <td>Professional Services</td>\n",
       "      <td>4</td>\n",
       "      <td>0.024522</td>\n",
       "    </tr>\n",
       "  </tbody>\n",
       "</table>\n",
       "</div>"
      ],
      "text/plain": [
       "                                                                                                                                                                                                                                                                                                                                                                                                                                                                                                                      text  \\\n",
       "1689  Normalized Supplier Name, BANCO DO BRASIL S A, Country Name, Brazil, Strategic Region, LATAM, Requestor Name, unknown, Preparer Name, unknown, Business Unit, Legal, Legal Entity, Facebook Servicos Online Do Brasil Ltda, Cost Center (Base Level), NORAM Litigation Group, Cost Center (Level 4), Legal G&A, Cost Center (Level 5), General & Administrative, GL Desc (Level 4), Legal - settlements, Invoice Source, Manual Invoice Entry, GL Description, Legal - settlements, Project, 00000 - Default Project   \n",
       "945   Normalized Supplier Name, BANCO DO BRASIL S A, Country Name, Brazil, Strategic Region, LATAM, Requestor Name, unknown, Preparer Name, unknown, Business Unit, Legal, Legal Entity, Facebook Servicos Online Do Brasil Ltda, Cost Center (Base Level), NORAM Litigation Group, Cost Center (Level 4), Legal G&A, Cost Center (Level 5), General & Administrative, GL Desc (Level 4), Legal - settlements, Invoice Source, Manual Invoice Entry, GL Description, Legal - settlements, Project, 00000 - Default Project   \n",
       "949   Normalized Supplier Name, BANCO DO BRASIL S A, Country Name, Brazil, Strategic Region, LATAM, Requestor Name, unknown, Preparer Name, unknown, Business Unit, Legal, Legal Entity, Facebook Servicos Online Do Brasil Ltda, Cost Center (Base Level), NORAM Litigation Group, Cost Center (Level 4), Legal G&A, Cost Center (Level 5), General & Administrative, GL Desc (Level 4), Legal - settlements, Invoice Source, Manual Invoice Entry, GL Description, Legal - settlements, Project, 00000 - Default Project   \n",
       "951   Normalized Supplier Name, BANCO DO BRASIL S A, Country Name, Brazil, Strategic Region, LATAM, Requestor Name, unknown, Preparer Name, unknown, Business Unit, Legal, Legal Entity, Facebook Servicos Online Do Brasil Ltda, Cost Center (Base Level), NORAM Litigation Group, Cost Center (Level 4), Legal G&A, Cost Center (Level 5), General & Administrative, GL Desc (Level 4), Legal - settlements, Invoice Source, Manual Invoice Entry, GL Description, Legal - settlements, Project, 00000 - Default Project   \n",
       "954   Normalized Supplier Name, BANCO DO BRASIL S A, Country Name, Brazil, Strategic Region, LATAM, Requestor Name, unknown, Preparer Name, unknown, Business Unit, Legal, Legal Entity, Facebook Servicos Online Do Brasil Ltda, Cost Center (Base Level), NORAM Litigation Group, Cost Center (Level 4), Legal G&A, Cost Center (Level 5), General & Administrative, GL Desc (Level 4), Legal - settlements, Invoice Source, Manual Invoice Entry, GL Description, Legal - settlements, Project, 00000 - Default Project   \n",
       "956   Normalized Supplier Name, BANCO DO BRASIL S A, Country Name, Brazil, Strategic Region, LATAM, Requestor Name, unknown, Preparer Name, unknown, Business Unit, Legal, Legal Entity, Facebook Servicos Online Do Brasil Ltda, Cost Center (Base Level), NORAM Litigation Group, Cost Center (Level 4), Legal G&A, Cost Center (Level 5), General & Administrative, GL Desc (Level 4), Legal - settlements, Invoice Source, Manual Invoice Entry, GL Description, Legal - settlements, Project, 00000 - Default Project   \n",
       "960   Normalized Supplier Name, BANCO DO BRASIL S A, Country Name, Brazil, Strategic Region, LATAM, Requestor Name, unknown, Preparer Name, unknown, Business Unit, Legal, Legal Entity, Facebook Servicos Online Do Brasil Ltda, Cost Center (Base Level), NORAM Litigation Group, Cost Center (Level 4), Legal G&A, Cost Center (Level 5), General & Administrative, GL Desc (Level 4), Legal - settlements, Invoice Source, Manual Invoice Entry, GL Description, Legal - settlements, Project, 00000 - Default Project   \n",
       "968   Normalized Supplier Name, BANCO DO BRASIL S A, Country Name, Brazil, Strategic Region, LATAM, Requestor Name, unknown, Preparer Name, unknown, Business Unit, Legal, Legal Entity, Facebook Servicos Online Do Brasil Ltda, Cost Center (Base Level), NORAM Litigation Group, Cost Center (Level 4), Legal G&A, Cost Center (Level 5), General & Administrative, GL Desc (Level 4), Legal - settlements, Invoice Source, Manual Invoice Entry, GL Description, Legal - settlements, Project, 00000 - Default Project   \n",
       "333   Normalized Supplier Name, BANCO DO BRASIL S A, Country Name, Brazil, Strategic Region, LATAM, Requestor Name, unknown, Preparer Name, unknown, Business Unit, Legal, Legal Entity, Facebook Servicos Online Do Brasil Ltda, Cost Center (Base Level), NORAM Litigation Group, Cost Center (Level 4), Legal G&A, Cost Center (Level 5), General & Administrative, GL Desc (Level 4), Legal - settlements, Invoice Source, Manual Invoice Entry, GL Description, Legal - settlements, Project, 00000 - Default Project   \n",
       "970   Normalized Supplier Name, BANCO DO BRASIL S A, Country Name, Brazil, Strategic Region, LATAM, Requestor Name, unknown, Preparer Name, unknown, Business Unit, Legal, Legal Entity, Facebook Servicos Online Do Brasil Ltda, Cost Center (Base Level), NORAM Litigation Group, Cost Center (Level 4), Legal G&A, Cost Center (Level 5), General & Administrative, GL Desc (Level 4), Legal - settlements, Invoice Source, Manual Invoice Entry, GL Description, Legal - settlements, Project, 00000 - Default Project   \n",
       "\n",
       "                      label  predicted_label      loss  \n",
       "1689  Professional Services                4  0.024522  \n",
       "945   Professional Services                4  0.024522  \n",
       "949   Professional Services                4  0.024522  \n",
       "951   Professional Services                4  0.024522  \n",
       "954   Professional Services                4  0.024522  \n",
       "956   Professional Services                4  0.024522  \n",
       "960   Professional Services                4  0.024522  \n",
       "968   Professional Services                4  0.024522  \n",
       "333   Professional Services                4  0.024522  \n",
       "970   Professional Services                4  0.024522  "
      ]
     },
     "execution_count": 59,
     "metadata": {},
     "output_type": "execute_result"
    }
   ],
   "source": [
    "# data samples with lowest losses\n",
    "pd.set_option('display.max_colwidth', None)\n",
    "df_test.sort_values(\"loss\", ascending=True).head(10)"
   ]
  },
  {
   "cell_type": "markdown",
   "metadata": {},
   "source": [
    "# References\n",
    "\n",
    "[Natural Language Processing with Transformers, Chapter 1, L. Tunstall et al.](https://www.amazon.com/Natural-Language-Processing-Transformers-Revised/dp/1098136799)\n",
    "\n",
    "[A recipe for training neural networks - Andrej Karpathy](http://karpathy.github.io/2019/04/25/recipe/)\n",
    "\n",
    "[The most common neural net mistakes - Andrej Karpathy @ Twitter](https://twitter.com/karpathy/status/1013244313327681536?lang=en)\n",
    "\n",
    "[Yes you should understand backprop - Andrej Karpathy](https://karpathy.medium.com/yes-you-should-understand-backprop-e2f06eab496b)"
   ]
  }
 ],
 "metadata": {
  "kernelspec": {
   "display_name": "nn-piP2--fL",
   "language": "python",
   "name": "python3"
  },
  "language_info": {
   "codemirror_mode": {
    "name": "ipython",
    "version": 3
   },
   "file_extension": ".py",
   "mimetype": "text/x-python",
   "name": "python",
   "nbconvert_exporter": "python",
   "pygments_lexer": "ipython3",
   "version": "3.11.2"
  }
 },
 "nbformat": 4,
 "nbformat_minor": 2
}
