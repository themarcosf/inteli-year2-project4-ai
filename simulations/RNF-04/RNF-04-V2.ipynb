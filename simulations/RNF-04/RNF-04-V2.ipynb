{
 "cells": [
  {
   "cell_type": "markdown",
   "id": "02d425a4",
   "metadata": {},
   "source": [
    "## Introduction\n",
    "This notebook contains the existing Python code from `RNF-04.py`. The goal is to enhance this code to meet the detailed non-functional requirements (RNF) as specified.\n"
   ]
  },
  {
   "cell_type": "code",
   "execution_count": null,
   "id": "10a1aca8",
   "metadata": {},
   "outputs": [],
   "source": [
    "# Descrição do RNF-04:\n",
    "# A arquitetura deve garantir o armazenamento dos dados de venda/fornecedores de forma 80% seguro (não apresentar nenhuma falha de segurança).\n",
    "\n",
    "import json\n",
    "from cryptography.fernet import Fernet\n",
    "\n",
    "# Gere uma chave de criptografia\n",
    "key = Fernet.generate_key()\n",
    "cipher_suite = Fernet(key)\n",
    "\n",
    "data_to_store = {\n",
    "    \"Invoice 1\": {\n",
    "        \"Empresa\": \"Meta Inc.\",\n",
    "        \"Cliente\": \"Company H\",\n",
    "        \"Número da Fatura\": \"INV014\",\n",
    "        \"Data de Emissão\": \"2023-10-14\",\n",
    "        \"Data de Vencimento\": \"2023-11-14\",\n",
    "        \"Moeda\": \"EUR\",\n",
    "        \"Descrição do Produto/Serviço\": \"1x Health Insurance Premiums\",\n",
    "        \"Quantidade\": 1,\n",
    "        \"Preço Unitário\": \"€10000\",\n",
    "        \"Total\": \"€10000\",\n",
    "        \"Categoria Macro\": \"Human Resources\",\n",
    "        \"Subcategoria\": \"Benefits\",\n",
    "        \"Categoria de Item\": \"Health Insurance & Health Care Spending Accounts\",\n",
    "        \"Target nivel 1\":\"Human Resources\",\n",
    "        \"Target nivel 2\":\"Benefits\",\n",
    "        \"Target nivel 3\":\"Health Insurance & Health Care Spending Accounts\",\n",
    "    },\n",
    "    \"Invoice 2\": {\n",
    "        \"Empresa\": \"Meta Inc.\",\n",
    "        \"Cliente\": \"XYZ Corp.\",\n",
    "        \"Número da Fatura\": \"INV002\",\n",
    "        \"Data de Emissão\": \"2023-10-02\",\n",
    "        \"Data de Vencimento\": \"2023-11-02\",\n",
    "        \"Moeda\": \"EUR\",\n",
    "        \"Descrição do Produto/Serviço\": \"5x Software Licenses\",\n",
    "        \"Quantidade\": 5,\n",
    "        \"Preço Unitário\": \"€200\",\n",
    "        \"Total\": \"€1000\",\n",
    "        \"Categoria Macro\": \"Technology/Telecom\",\n",
    "        \"Subcategoria\": \"Software & Support\",\n",
    "        \"Categoria de Item\": \"IT Software Applications - Perpetual\",\n",
    "        \"Target nivel 1\":\"Technology/Telecom\",\n",
    "        \"Target nivel 2\":\"Software & Support\",\n",
    "        \"Target nivel 3\":\"IT Software Applications - Perpetual\",\n",
    "    },\n",
    "    \"Invoice 3\": {\n",
    "        \"Empresa\": \"Meta Inc.\",\n",
    "        \"Cliente\": \"Company Z\",\n",
    "        \"Número da Fatura\": \"INV003\",\n",
    "        \"Data de Emissão\": \"2023-10-03\",\n",
    "        \"Data de Vencimento\": \"2023-11-03\",\n",
    "        \"Moeda\": \"USD\",\n",
    "        \"Descrição do Produto/Serviço\": \"2x Event Sponsorships\",\n",
    "        \"Quantidade\": 2,\n",
    "        \"Preço Unitário\": \"$5000\",\n",
    "        \"Total\": \"$10000\",\n",
    "        \"Categoria Macro\": \"Sales, Marketing & Events\",\n",
    "        \"Subcategoria\": \"Events\",\n",
    "        \"Categoria de Item\": \"Program Sponsorships\",\n",
    "        \"Target nivel 1\":\"Sales, Marketing & Events\",\n",
    "        \"Target nivel 2\":\"Events\",\n",
    "        \"Target nivel 3\":\"Program Sponsorships\",\n",
    "    },\n",
    "    \"Invoice 4\": {\n",
    "        \"Empresa\": \"Meta Inc.\",\n",
    "        \"Cliente\": \"Company Y\",\n",
    "        \"Número da Fatura\": \"INV004\",\n",
    "        \"Data de Emissão\": \"2023-10-04\",\n",
    "        \"Data de Vencimento\": \"2023-11-04\",\n",
    "        \"Moeda\": \"EUR\",\n",
    "        \"Descrição do Produto/Serviço\": \"1x Real Estate Leased\",\n",
    "        \"Quantidade\": 1,\n",
    "        \"Preço Unitário\": \"€20000\",\n",
    "        \"Total\": \"€20000\",\n",
    "        \"Categoria Macro\": \"Real Estate & Facilities\",\n",
    "        \"Subcategoria\": \"Facilities Services\",\n",
    "        \"Categoria de Item\": \"Real Estate Leased\",\n",
    "        \"Target nivel 1\":\"Real Estate & Facilities\",\n",
    "        \"Target nivel 2\":\"Facilities Services\",\n",
    "        \"Target nivel 3\":\"Real Estate Leased\",\n",
    "    },\n",
    "    \"Invoice 5\": {\n",
    "        \"Empresa\": \"Meta Inc.\",\n",
    "        \"Cliente\": \"Company X\",\n",
    "        \"Número da Fatura\": \"INV005\",\n",
    "        \"Data de Emissão\": \"2023-10-05\",\n",
    "        \"Data de Vencimento\": \"2023-11-05\",\n",
    "        \"Moeda\": \"USD\",\n",
    "        \"Descrição do Produto/Serviço\": \"100x Office Chairs\",\n",
    "        \"Quantidade\": 100,\n",
    "        \"Preço Unitário\": \"$200\",\n",
    "        \"Total\": \"$20000\",\n",
    "        \"Categoria Macro\": \"Real Estate & Facilities\",\n",
    "        \"Subcategoria\": \"Facilities Supplies\",\n",
    "        \"Categoria de Item\": \"Furniture & Fixtures\",\n",
    "        \"Target nivel 1\":\"Real Estate & Facilities\",\n",
    "        \"Target nivel 2\":\"Facilities Supplies\",\n",
    "        \"Target nivel 3\":\"Furniture & Fixtures\",\n",
    "    },\n",
    "}\n",
    "\n",
    "\n",
    "data_to_store_str = json.dumps(data_to_store).encode()\n",
    "\n",
    "encrypted_data = cipher_suite.encrypt(data_to_store_str)\n",
    "\n",
    "with open('dados_protegidos.txt', 'wb') as file:\n",
    "    file.write(encrypted_data)\n",
    "\n",
    "with open('dados_protegidos.txt', 'rb') as file:\n",
    "    encrypted_data = file.read()\n",
    "    decrypted_data = cipher_suite.decrypt(encrypted_data)\n",
    "\n",
    "decrypted_data_str = decrypted_data.decode()\n",
    "decrypted_data_dict = json.loads(decrypted_data_str)\n",
    "\n",
    "print(\"Dados descriptografados com segurança:\")\n",
    "print(decrypted_data_dict)"
   ]
  },
  {
   "cell_type": "markdown",
   "id": "4edcad6c",
   "metadata": {},
   "source": [
    "## Implementação do Algoritmo de Aprendizado de Máquina\n",
    "\n",
    "Abaixo implementaremos algoritmos avançados de aprendizado de máquina e validação cruzada para filtrar e validar dados de entrada para classificações taxonômicas precisas."
   ]
  },
  {
   "cell_type": "markdown",
   "id": "93b09133",
   "metadata": {},
   "source": [
    "## Alertas em tempo real e logs de transações\n",
    "\n",
    "Aqui aprimoraremos o código para registrar transações e implementar um sistema de gerenciamento de log detalhado com alertas em tempo real para padrões anômalos."
   ]
  },
  {
   "cell_type": "markdown",
   "id": "d18b7a71",
   "metadata": {},
   "source": [
    "## Controle de transações sistêmicas\n",
    "\n",
    "Esta seção descreverá a integração de sistemas de backup, planos de recuperação de desastres e ferramentas de cibersegurança."
   ]
  },
  {
   "cell_type": "markdown",
   "id": "93054265",
   "metadata": {},
   "source": [
    "## Dashboard de monitoramento RNF\n",
    "\n",
    "Nós vamos preparar a saída do código para ser integrada com um painel de monitoramento de operações."
   ]
  },
  {
   "cell_type": "markdown",
   "id": "7d80e24f",
   "metadata": {},
   "source": [
    "## Resolução de RNF preventiva e reativa\n",
    "\n",
    "Nessa parte, adicionaremos autenticação multifator, criptografia, sistemas de backup e recuperação de desastres e sistemas de suporte técnico."
   ]
  },
  {
   "cell_type": "markdown",
   "id": "bc826191",
   "metadata": {},
   "source": [
    "## Recuperacao de falhas de servico\n",
    "\n",
    "O código a seguir incorporará redundância em componentes críticos do sistema e esboçará um plano de continuidade de negócios."
   ]
  }
 ],
 "metadata": {
  "language_info": {
   "name": "python"
  }
 },
 "nbformat": 4,
 "nbformat_minor": 5
}
