{
 "cells": [
  {
   "cell_type": "code",
   "execution_count": 1,
   "metadata": {},
   "outputs": [
    {
     "name": "stdout",
     "output_type": "stream",
     "text": [
      "Accuracy: 0.0\n",
      "Predicted category: Sales, Marketing & Events\n"
     ]
    }
   ],
   "source": [
    "import nltk\n",
    "from sklearn.model_selection import train_test_split\n",
    "from sklearn.feature_extraction.text import TfidfVectorizer\n",
    "from sklearn.naive_bayes import MultinomialNB\n",
    "from sklearn.metrics import accuracy_score, classification_report\n",
    "\n",
    "\n",
    "documents = [\n",
    "    (\"1x Real Estate Leased\", \"Real Estate & Facilities\"),\n",
    "    (\"5x Software Licenses\", \"Technology/Telecom\"),\n",
    "    (\"2x Event Sponsorships\", \"Sales, Marketing & Events\"),\n",
    "    (\"1x Health Insurance Premiums\", \"Human Resources\"),\n",
    "]\n",
    "\n",
    "import random\n",
    "random.shuffle(documents)\n",
    "\n",
    "# Separe em features e labels\n",
    "all_words = nltk.FreqDist(w.lower() for (document, _) in documents for w in nltk.word_tokenize(document))\n",
    "word_features = list(all_words)[:2000]\n",
    "\n",
    "def document_features(document):\n",
    "    document_words = set(document)\n",
    "    features = {}\n",
    "    for word in word_features:\n",
    "        features['contains({})'.format(word)] = (word in document_words)\n",
    "    return features\n",
    "\n",
    "featuresets = [(document_features(d), c) for (d, c) in documents]\n",
    "train_set, test_set = featuresets[2:], featuresets[:2]  # \n",
    "\n",
    "\n",
    "classifier = nltk.NaiveBayesClassifier.train(train_set)\n",
    "\n",
    "accuracy = nltk.classify.accuracy(classifier, test_set)\n",
    "print(\"Accuracy:\", accuracy)\n",
    "\n",
    "# Teste com uma nova descrição de nota fiscal\n",
    "new_description = \"2x Health Insurance\"\n",
    "new_features = document_features(nltk.word_tokenize(new_description))\n",
    "prediction = classifier.classify(new_features)\n",
    "print(\"Predicted category:\", prediction)\n"
   ]
  },
  {
   "cell_type": "code",
   "execution_count": null,
   "metadata": {},
   "outputs": [],
   "source": []
  }
 ],
 "metadata": {
  "kernelspec": {
   "display_name": ".venv",
   "language": "python",
   "name": "python3"
  },
  "language_info": {
   "name": "python",
   "version": "3.11.2"
  }
 },
 "nbformat": 4,
 "nbformat_minor": 2
}
