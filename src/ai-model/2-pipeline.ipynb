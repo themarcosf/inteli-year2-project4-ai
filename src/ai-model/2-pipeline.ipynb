{
 "cells": [
  {
   "cell_type": "code",
   "execution_count": 1,
   "metadata": {},
   "outputs": [],
   "source": [
    "import warnings\n",
    "warnings.filterwarnings('ignore')\n",
    "\n",
    "import pandas as pd\n",
    "import numpy as np\n",
    "import matplotlib.pyplot as plt"
   ]
  },
  {
   "cell_type": "markdown",
   "metadata": {},
   "source": [
    "# Importing cleaned data"
   ]
  },
  {
   "cell_type": "code",
   "execution_count": 2,
   "metadata": {},
   "outputs": [
    {
     "data": {
      "text/html": [
       "<div>\n",
       "<style scoped>\n",
       "    .dataframe tbody tr th:only-of-type {\n",
       "        vertical-align: middle;\n",
       "    }\n",
       "\n",
       "    .dataframe tbody tr th {\n",
       "        vertical-align: top;\n",
       "    }\n",
       "\n",
       "    .dataframe thead th {\n",
       "        text-align: right;\n",
       "    }\n",
       "</style>\n",
       "<table border=\"1\" class=\"dataframe\">\n",
       "  <thead>\n",
       "    <tr style=\"text-align: right;\">\n",
       "      <th></th>\n",
       "      <th>Normalized Supplier Name</th>\n",
       "      <th>Country Name</th>\n",
       "      <th>Strategic Region</th>\n",
       "      <th>Requestor Name</th>\n",
       "      <th>Preparer Name</th>\n",
       "      <th>Level 1</th>\n",
       "      <th>Level 2</th>\n",
       "      <th>Level 3</th>\n",
       "      <th>Business Unit</th>\n",
       "      <th>Legal Entity</th>\n",
       "      <th>Cost Center (Base Level)</th>\n",
       "      <th>Cost Center (Level 4)</th>\n",
       "      <th>Cost Center (Level 5)</th>\n",
       "      <th>GL Desc (Level 4)</th>\n",
       "      <th>Invoice Source</th>\n",
       "      <th>GL Description</th>\n",
       "      <th>Project</th>\n",
       "    </tr>\n",
       "  </thead>\n",
       "  <tbody>\n",
       "    <tr>\n",
       "      <th>0</th>\n",
       "      <td>20 TABELIAO DE NOTAS DA CAPITAL</td>\n",
       "      <td>Brazil</td>\n",
       "      <td>LATAM</td>\n",
       "      <td>Daniela Fechio</td>\n",
       "      <td>Cindy Eurie</td>\n",
       "      <td>Uncategorized</td>\n",
       "      <td>Uncategorized</td>\n",
       "      <td>Uncategorized</td>\n",
       "      <td>Facilities</td>\n",
       "      <td>Facebook Servicos Online Do Brasil Ltda</td>\n",
       "      <td>Non-Bay Area Facilities &amp; Operations Group</td>\n",
       "      <td>FCS G&amp;A</td>\n",
       "      <td>General &amp; Administrative</td>\n",
       "      <td>Postage and courier</td>\n",
       "      <td>LETTERBOX</td>\n",
       "      <td>Postage and courier</td>\n",
       "      <td>31505 - Sao Paulo Birmann 32</td>\n",
       "    </tr>\n",
       "    <tr>\n",
       "      <th>1</th>\n",
       "      <td>20 TABELIAO DE NOTAS DA CAPITAL</td>\n",
       "      <td>Brazil</td>\n",
       "      <td>LATAM</td>\n",
       "      <td>Daniela Fechio</td>\n",
       "      <td>Cindy Eurie</td>\n",
       "      <td>Uncategorized</td>\n",
       "      <td>Uncategorized</td>\n",
       "      <td>Uncategorized</td>\n",
       "      <td>Facilities</td>\n",
       "      <td>Facebook Servicos Online Do Brasil Ltda</td>\n",
       "      <td>Non-Bay Area Facilities &amp; Operations Group</td>\n",
       "      <td>FCS G&amp;A</td>\n",
       "      <td>General &amp; Administrative</td>\n",
       "      <td>Postage and courier</td>\n",
       "      <td>LETTERBOX</td>\n",
       "      <td>Postage and courier</td>\n",
       "      <td>31505 - Sao Paulo Birmann 32</td>\n",
       "    </tr>\n",
       "  </tbody>\n",
       "</table>\n",
       "</div>"
      ],
      "text/plain": [
       "          Normalized Supplier Name Country Name Strategic Region  \\\n",
       "0  20 TABELIAO DE NOTAS DA CAPITAL       Brazil            LATAM   \n",
       "1  20 TABELIAO DE NOTAS DA CAPITAL       Brazil            LATAM   \n",
       "\n",
       "   Requestor Name Preparer Name        Level 1        Level 2        Level 3  \\\n",
       "0  Daniela Fechio   Cindy Eurie  Uncategorized  Uncategorized  Uncategorized   \n",
       "1  Daniela Fechio   Cindy Eurie  Uncategorized  Uncategorized  Uncategorized   \n",
       "\n",
       "  Business Unit                             Legal Entity  \\\n",
       "0    Facilities  Facebook Servicos Online Do Brasil Ltda   \n",
       "1    Facilities  Facebook Servicos Online Do Brasil Ltda   \n",
       "\n",
       "                     Cost Center (Base Level) Cost Center (Level 4)  \\\n",
       "0  Non-Bay Area Facilities & Operations Group               FCS G&A   \n",
       "1  Non-Bay Area Facilities & Operations Group               FCS G&A   \n",
       "\n",
       "      Cost Center (Level 5)    GL Desc (Level 4) Invoice Source  \\\n",
       "0  General & Administrative  Postage and courier      LETTERBOX   \n",
       "1  General & Administrative  Postage and courier      LETTERBOX   \n",
       "\n",
       "        GL Description                       Project  \n",
       "0  Postage and courier  31505 - Sao Paulo Birmann 32  \n",
       "1  Postage and courier  31505 - Sao Paulo Birmann 32  "
      ]
     },
     "execution_count": 2,
     "metadata": {},
     "output_type": "execute_result"
    }
   ],
   "source": [
    "dataset = pd.read_csv('data/LATAM-Data-cleaned.csv')\n",
    "dataset.head(2)"
   ]
  },
  {
   "cell_type": "markdown",
   "metadata": {},
   "source": [
    "# 1. Creating handled data for each level\n",
    "\n",
    "There are 11 levels in the first level variable, 56 in the second level variable, and 158 in the third level variable. It seems that the order of granularity is increasing as we go down the levels, which enables us to use previous levels as features for the next level."
   ]
  },
  {
   "cell_type": "code",
   "execution_count": 3,
   "metadata": {},
   "outputs": [
    {
     "name": "stdout",
     "output_type": "stream",
     "text": [
      "Level 1: 11 different levels\n",
      "Level 2: 56 different levels\n",
      "Level 3: 158 different levels\n"
     ]
    }
   ],
   "source": [
    "print(f\"Level 1: {len(dataset['Level 1'].unique())} different levels\")\n",
    "print(f\"Level 2: {len(dataset['Level 2'].unique())} different levels\")\n",
    "print(f\"Level 3: {len(dataset['Level 3'].unique())} different levels\")"
   ]
  },
  {
   "cell_type": "markdown",
   "metadata": {},
   "source": [
    "## 1.1. First level"
   ]
  },
  {
   "cell_type": "code",
   "execution_count": 4,
   "metadata": {},
   "outputs": [
    {
     "data": {
      "text/plain": [
       "((11265, 14), (11265,))"
      ]
     },
     "execution_count": 4,
     "metadata": {},
     "output_type": "execute_result"
    }
   ],
   "source": [
    "X_lvl_1 = dataset.drop([\"Level 1\", \"Level 2\", \"Level 3\"], axis=1)\n",
    "y_lvl_1 = dataset[\"Level 1\"]\n",
    "\n",
    "X_lvl_1.shape, y_lvl_1.shape"
   ]
  },
  {
   "cell_type": "code",
   "execution_count": 5,
   "metadata": {},
   "outputs": [
    {
     "data": {
      "text/plain": [
       "('Normalized Supplier Name, 20 TABELIAO DE NOTAS DA CAPITAL, Country Name, Brazil, Strategic Region, LATAM, Requestor Name, Daniela Fechio, Preparer Name, Cindy Eurie, Business Unit, Facilities, Legal Entity, Facebook Servicos Online Do Brasil Ltda, Cost Center (Base Level), Non-Bay Area Facilities & Operations Group, Cost Center (Level 4), FCS G&A, Cost Center (Level 5), General & Administrative, GL Desc (Level 4), Postage and courier, Invoice Source, LETTERBOX, GL Description, Postage and courier, Project, 31505 - Sao Paulo Birmann 32',\n",
       " (11265,))"
      ]
     },
     "execution_count": 5,
     "metadata": {},
     "output_type": "execute_result"
    }
   ],
   "source": [
    "# turn each row into a single string (in a patter of COLUMN_NAME, COLUMN_VALUE, COLUMN_NAME, COLUMN_VALUE, ...)\n",
    "X_lvl_1 = X_lvl_1.apply(lambda row: \", \".join([f\"{col}, {row[col]}\" for col in X_lvl_1.columns]), axis=1)\n",
    "X_lvl_1[0], X_lvl_1.shape"
   ]
  },
  {
   "cell_type": "code",
   "execution_count": 6,
   "metadata": {},
   "outputs": [
    {
     "data": {
      "text/plain": [
       "(11265,)"
      ]
     },
     "execution_count": 6,
     "metadata": {},
     "output_type": "execute_result"
    }
   ],
   "source": [
    "# map each target label to an integer and create new column with the integer label\n",
    "y_lvl_1_labels = y_lvl_1.astype('category').cat.codes\n",
    "y_lvl_1_labels.shape"
   ]
  },
  {
   "cell_type": "code",
   "execution_count": 7,
   "metadata": {},
   "outputs": [
    {
     "data": {
      "text/html": [
       "<div>\n",
       "<style scoped>\n",
       "    .dataframe tbody tr th:only-of-type {\n",
       "        vertical-align: middle;\n",
       "    }\n",
       "\n",
       "    .dataframe tbody tr th {\n",
       "        vertical-align: top;\n",
       "    }\n",
       "\n",
       "    .dataframe thead th {\n",
       "        text-align: right;\n",
       "    }\n",
       "</style>\n",
       "<table border=\"1\" class=\"dataframe\">\n",
       "  <thead>\n",
       "    <tr style=\"text-align: right;\">\n",
       "      <th></th>\n",
       "      <th>text</th>\n",
       "      <th>label</th>\n",
       "    </tr>\n",
       "  </thead>\n",
       "  <tbody>\n",
       "    <tr>\n",
       "      <th>0</th>\n",
       "      <td>Normalized Supplier Name, 20 TABELIAO DE NOTAS...</td>\n",
       "      <td>10</td>\n",
       "    </tr>\n",
       "    <tr>\n",
       "      <th>1</th>\n",
       "      <td>Normalized Supplier Name, 20 TABELIAO DE NOTAS...</td>\n",
       "      <td>10</td>\n",
       "    </tr>\n",
       "  </tbody>\n",
       "</table>\n",
       "</div>"
      ],
      "text/plain": [
       "                                                text  label\n",
       "0  Normalized Supplier Name, 20 TABELIAO DE NOTAS...     10\n",
       "1  Normalized Supplier Name, 20 TABELIAO DE NOTAS...     10"
      ]
     },
     "execution_count": 7,
     "metadata": {},
     "output_type": "execute_result"
    }
   ],
   "source": [
    "lvl_1_df = pd.DataFrame({\"text\": X_lvl_1, \"label\": y_lvl_1_labels})\n",
    "lvl_1_df.head(2)"
   ]
  },
  {
   "cell_type": "code",
   "execution_count": 8,
   "metadata": {},
   "outputs": [],
   "source": [
    "# save the dataframe to a csv file\n",
    "lvl_1_df.to_csv(\"data/lvl_1_df.csv\", index=False)"
   ]
  },
  {
   "cell_type": "code",
   "execution_count": 9,
   "metadata": {},
   "outputs": [],
   "source": [
    "# create an object mapping each label to its integer value\n",
    "lvl_1_labels = dict(enumerate(y_lvl_1.astype('category').cat.categories))\n",
    "\n",
    "# save label as json file\n",
    "import json\n",
    "with open('data/lvl_1_labels.json', 'w') as fp:\n",
    "    json.dump(lvl_1_labels, fp)"
   ]
  },
  {
   "cell_type": "markdown",
   "metadata": {},
   "source": [
    "## 1.2. Second level"
   ]
  },
  {
   "cell_type": "code",
   "execution_count": 10,
   "metadata": {},
   "outputs": [
    {
     "data": {
      "text/plain": [
       "((11265, 15), (11265,))"
      ]
     },
     "execution_count": 10,
     "metadata": {},
     "output_type": "execute_result"
    }
   ],
   "source": [
    "X_lvl_2 = dataset.drop([\"Level 2\", \"Level 3\"], axis=1)\n",
    "y_lvl_2 = dataset[\"Level 2\"]\n",
    "\n",
    "X_lvl_2.shape, y_lvl_2.shape"
   ]
  },
  {
   "cell_type": "code",
   "execution_count": 11,
   "metadata": {},
   "outputs": [
    {
     "data": {
      "text/plain": [
       "('Normalized Supplier Name, 20 TABELIAO DE NOTAS DA CAPITAL, Country Name, Brazil, Strategic Region, LATAM, Requestor Name, Daniela Fechio, Preparer Name, Cindy Eurie, Level 1, Uncategorized, Business Unit, Facilities, Legal Entity, Facebook Servicos Online Do Brasil Ltda, Cost Center (Base Level), Non-Bay Area Facilities & Operations Group, Cost Center (Level 4), FCS G&A, Cost Center (Level 5), General & Administrative, GL Desc (Level 4), Postage and courier, Invoice Source, LETTERBOX, GL Description, Postage and courier, Project, 31505 - Sao Paulo Birmann 32',\n",
       " (11265,))"
      ]
     },
     "execution_count": 11,
     "metadata": {},
     "output_type": "execute_result"
    }
   ],
   "source": [
    "# turn each row into a single string (in a patter of COLUMN_NAME, COLUMN_VALUE, COLUMN_NAME, COLUMN_VALUE, ...)\n",
    "X_lvl_2 = X_lvl_2.apply(lambda row: \", \".join([f\"{col}, {row[col]}\" for col in X_lvl_2.columns]), axis=1)\n",
    "X_lvl_2[0], X_lvl_2.shape"
   ]
  },
  {
   "cell_type": "code",
   "execution_count": 12,
   "metadata": {},
   "outputs": [
    {
     "data": {
      "text/plain": [
       "(11265,)"
      ]
     },
     "execution_count": 12,
     "metadata": {},
     "output_type": "execute_result"
    }
   ],
   "source": [
    "# map each target label to an integer and create new column with the integer label\n",
    "y_lvl_2_labels = y_lvl_2.astype('category').cat.codes\n",
    "y_lvl_2_labels.shape"
   ]
  },
  {
   "cell_type": "code",
   "execution_count": 13,
   "metadata": {},
   "outputs": [
    {
     "data": {
      "text/html": [
       "<div>\n",
       "<style scoped>\n",
       "    .dataframe tbody tr th:only-of-type {\n",
       "        vertical-align: middle;\n",
       "    }\n",
       "\n",
       "    .dataframe tbody tr th {\n",
       "        vertical-align: top;\n",
       "    }\n",
       "\n",
       "    .dataframe thead th {\n",
       "        text-align: right;\n",
       "    }\n",
       "</style>\n",
       "<table border=\"1\" class=\"dataframe\">\n",
       "  <thead>\n",
       "    <tr style=\"text-align: right;\">\n",
       "      <th></th>\n",
       "      <th>text</th>\n",
       "      <th>label</th>\n",
       "    </tr>\n",
       "  </thead>\n",
       "  <tbody>\n",
       "    <tr>\n",
       "      <th>0</th>\n",
       "      <td>Normalized Supplier Name, 20 TABELIAO DE NOTAS...</td>\n",
       "      <td>54</td>\n",
       "    </tr>\n",
       "    <tr>\n",
       "      <th>1</th>\n",
       "      <td>Normalized Supplier Name, 20 TABELIAO DE NOTAS...</td>\n",
       "      <td>54</td>\n",
       "    </tr>\n",
       "  </tbody>\n",
       "</table>\n",
       "</div>"
      ],
      "text/plain": [
       "                                                text  label\n",
       "0  Normalized Supplier Name, 20 TABELIAO DE NOTAS...     54\n",
       "1  Normalized Supplier Name, 20 TABELIAO DE NOTAS...     54"
      ]
     },
     "execution_count": 13,
     "metadata": {},
     "output_type": "execute_result"
    }
   ],
   "source": [
    "lvl_2_df = pd.DataFrame({\"text\": X_lvl_2, \"label\": y_lvl_2_labels})\n",
    "lvl_2_df.head(2)"
   ]
  },
  {
   "cell_type": "code",
   "execution_count": 14,
   "metadata": {},
   "outputs": [],
   "source": [
    "# save the dataframe to a csv file\n",
    "lvl_2_df.to_csv(\"data/lvl_2_df.csv\", index=False)"
   ]
  },
  {
   "cell_type": "code",
   "execution_count": 15,
   "metadata": {},
   "outputs": [],
   "source": [
    "# create an object mapping each label to its integer value\n",
    "lvl_2_labels = dict(enumerate(y_lvl_2.astype('category').cat.categories))\n",
    "\n",
    "# save label as json file\n",
    "import json\n",
    "with open('data/lvl_2_labels.json', 'w') as fp:\n",
    "    json.dump(lvl_2_labels, fp)"
   ]
  },
  {
   "cell_type": "markdown",
   "metadata": {},
   "source": [
    "## 1.3. Third level"
   ]
  },
  {
   "cell_type": "code",
   "execution_count": 16,
   "metadata": {},
   "outputs": [
    {
     "data": {
      "text/plain": [
       "((11265, 16), (11265,))"
      ]
     },
     "execution_count": 16,
     "metadata": {},
     "output_type": "execute_result"
    }
   ],
   "source": [
    "X_lvl_3 = dataset.drop([\"Level 3\"], axis=1)\n",
    "y_lvl_3 = dataset[\"Level 3\"]\n",
    "\n",
    "X_lvl_3.shape, y_lvl_3.shape"
   ]
  },
  {
   "cell_type": "code",
   "execution_count": 17,
   "metadata": {},
   "outputs": [
    {
     "data": {
      "text/plain": [
       "('Normalized Supplier Name, 20 TABELIAO DE NOTAS DA CAPITAL, Country Name, Brazil, Strategic Region, LATAM, Requestor Name, Daniela Fechio, Preparer Name, Cindy Eurie, Level 1, Uncategorized, Level 2, Uncategorized, Business Unit, Facilities, Legal Entity, Facebook Servicos Online Do Brasil Ltda, Cost Center (Base Level), Non-Bay Area Facilities & Operations Group, Cost Center (Level 4), FCS G&A, Cost Center (Level 5), General & Administrative, GL Desc (Level 4), Postage and courier, Invoice Source, LETTERBOX, GL Description, Postage and courier, Project, 31505 - Sao Paulo Birmann 32',\n",
       " (11265,))"
      ]
     },
     "execution_count": 17,
     "metadata": {},
     "output_type": "execute_result"
    }
   ],
   "source": [
    "# turn each row into a single string (in a patter of COLUMN_NAME, COLUMN_VALUE, COLUMN_NAME, COLUMN_VALUE, ...)\n",
    "X_lvl_3 = X_lvl_3.apply(lambda row: \", \".join([f\"{col}, {row[col]}\" for col in X_lvl_3.columns]), axis=1)\n",
    "X_lvl_3[0], X_lvl_3.shape"
   ]
  },
  {
   "cell_type": "code",
   "execution_count": 18,
   "metadata": {},
   "outputs": [
    {
     "data": {
      "text/plain": [
       "(11265,)"
      ]
     },
     "execution_count": 18,
     "metadata": {},
     "output_type": "execute_result"
    }
   ],
   "source": [
    "# map each target label to an integer and create new column with the integer label\n",
    "y_lvl_3_labels = y_lvl_3.astype('category').cat.codes\n",
    "y_lvl_3_labels.shape"
   ]
  },
  {
   "cell_type": "code",
   "execution_count": 19,
   "metadata": {},
   "outputs": [
    {
     "data": {
      "text/html": [
       "<div>\n",
       "<style scoped>\n",
       "    .dataframe tbody tr th:only-of-type {\n",
       "        vertical-align: middle;\n",
       "    }\n",
       "\n",
       "    .dataframe tbody tr th {\n",
       "        vertical-align: top;\n",
       "    }\n",
       "\n",
       "    .dataframe thead th {\n",
       "        text-align: right;\n",
       "    }\n",
       "</style>\n",
       "<table border=\"1\" class=\"dataframe\">\n",
       "  <thead>\n",
       "    <tr style=\"text-align: right;\">\n",
       "      <th></th>\n",
       "      <th>text</th>\n",
       "      <th>label</th>\n",
       "    </tr>\n",
       "  </thead>\n",
       "  <tbody>\n",
       "    <tr>\n",
       "      <th>0</th>\n",
       "      <td>Normalized Supplier Name, 20 TABELIAO DE NOTAS...</td>\n",
       "      <td>154</td>\n",
       "    </tr>\n",
       "    <tr>\n",
       "      <th>1</th>\n",
       "      <td>Normalized Supplier Name, 20 TABELIAO DE NOTAS...</td>\n",
       "      <td>154</td>\n",
       "    </tr>\n",
       "  </tbody>\n",
       "</table>\n",
       "</div>"
      ],
      "text/plain": [
       "                                                text  label\n",
       "0  Normalized Supplier Name, 20 TABELIAO DE NOTAS...    154\n",
       "1  Normalized Supplier Name, 20 TABELIAO DE NOTAS...    154"
      ]
     },
     "execution_count": 19,
     "metadata": {},
     "output_type": "execute_result"
    }
   ],
   "source": [
    "lvl_3_df = pd.DataFrame({\"text\": X_lvl_3, \"label\": y_lvl_3_labels})\n",
    "lvl_3_df.head(2)"
   ]
  },
  {
   "cell_type": "code",
   "execution_count": 20,
   "metadata": {},
   "outputs": [],
   "source": [
    "# save the dataframe to a csv file\n",
    "lvl_3_df.to_csv(\"data/lvl_3_df.csv\", index=False)"
   ]
  },
  {
   "cell_type": "code",
   "execution_count": 21,
   "metadata": {},
   "outputs": [],
   "source": [
    "# create an object mapping each label to its integer value\n",
    "lvl_3_labels = dict(enumerate(y_lvl_3.astype('category').cat.categories))\n",
    "\n",
    "# save label as json file\n",
    "import json\n",
    "with open('data/lvl_3_labels.json', 'w') as fp:\n",
    "    json.dump(lvl_3_labels, fp)"
   ]
  }
 ],
 "metadata": {
  "kernelspec": {
   "display_name": "nn-piP2--fL",
   "language": "python",
   "name": "python3"
  },
  "language_info": {
   "codemirror_mode": {
    "name": "ipython",
    "version": 3
   },
   "file_extension": ".py",
   "mimetype": "text/x-python",
   "name": "python",
   "nbconvert_exporter": "python",
   "pygments_lexer": "ipython3",
   "version": "3.9.6"
  }
 },
 "nbformat": 4,
 "nbformat_minor": 2
}
