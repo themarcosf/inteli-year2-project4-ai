{
 "cells": [
  {
   "cell_type": "code",
   "execution_count": 1,
   "metadata": {},
   "outputs": [],
   "source": [
    "import warnings\n",
    "warnings.filterwarnings('ignore')\n",
    "\n",
    "import pandas as pd\n",
    "import numpy as np\n",
    "import matplotlib.pyplot as plt"
   ]
  },
  {
   "cell_type": "markdown",
   "metadata": {},
   "source": [
    "# 1. 🤗 Datasets\n",
    "\n",
    "In this notebook, it will be built a system to automatically identify purchases categories from their descriptions. The system will be built using the Datasets library.\n",
    "\n",
    "Datasets is a lightweight and extensible library to easily share and access datasets and evaluation metrics for Natural Language Processing (NLP) and more. It will be a dataset provided by Meta Inc."
   ]
  },
  {
   "cell_type": "code",
   "execution_count": 2,
   "metadata": {},
   "outputs": [
    {
     "data": {
      "text/plain": [
       "(56,\n",
       " ['Accounting and Tax Services',\n",
       "  'Audit & Assurance',\n",
       "  'Benefits',\n",
       "  'Commercial Payments',\n",
       "  'Components'])"
      ]
     },
     "execution_count": 2,
     "metadata": {},
     "output_type": "execute_result"
    }
   ],
   "source": [
    "import json\n",
    "\n",
    "labels = json.loads(open('data/lvl_2_labels.json').read())\n",
    "\n",
    "# turn dict to array of labels ordered by id\n",
    "names = [labels[str(i)] for i in range(len(labels))]\n",
    "len(names), names[:5]"
   ]
  },
  {
   "cell_type": "code",
   "execution_count": 3,
   "metadata": {},
   "outputs": [
    {
     "data": {
      "text/plain": [
       "DatasetDict({\n",
       "    train: Dataset({\n",
       "        features: ['text', 'label'],\n",
       "        num_rows: 7885\n",
       "    })\n",
       "    validation: Dataset({\n",
       "        features: ['text', 'label'],\n",
       "        num_rows: 1690\n",
       "    })\n",
       "    test: Dataset({\n",
       "        features: ['text', 'label'],\n",
       "        num_rows: 1690\n",
       "    })\n",
       "})"
      ]
     },
     "execution_count": 3,
     "metadata": {},
     "output_type": "execute_result"
    }
   ],
   "source": [
    "from datasets import load_dataset, DatasetDict, Features, Value, ClassLabel\n",
    "\n",
    "# Define features\n",
    "features = Features({\n",
    "    'text': Value(dtype='string'),\n",
    "    'label': ClassLabel(num_classes=(len(names)), names=names)\n",
    "})\n",
    "\n",
    "# Load dataset\n",
    "data = load_dataset(\"data\", \"lvl_2_data\", features=features)\n",
    "\n",
    "# Split the dataset into train, validation, and test sets\n",
    "train_testvalid = data[\"train\"].train_test_split(test_size=0.3)       # Splitting train and test+validation\n",
    "test_valid = train_testvalid['test'].train_test_split(test_size=0.5)  # Splitting test and validation\n",
    "\n",
    "# Create a new DatasetDict\n",
    "data = DatasetDict({\n",
    "    'train': train_testvalid['train'],\n",
    "    'validation': test_valid['train'],\n",
    "    'test': test_valid['test']\n",
    "})\n",
    "\n",
    "data"
   ]
  },
  {
   "cell_type": "code",
   "execution_count": 4,
   "metadata": {},
   "outputs": [
    {
     "data": {
      "text/plain": [
       "{'text': ['Normalized Supplier Name, SAINT GERMAIN PANIFICADORA E CONFEITARIA LTDA, Country Name, Brazil, Strategic Region, NORAM, Requestor Name, Lisandro Ulerio, Preparer Name, Victória Simonato, Level 1, Real Estate & Facilities, Business Unit, Facilities, Legal Entity, Facebook Servicos Online Do Brasil Ltda, Cost Center (Base Level), Non-Bay Area Facilities & Operations Group, Cost Center (Level 4), FCS G&A, Cost Center (Level 5), General & Administrative, GL Desc (Level 4), Kitchen, Invoice Source, CAFEPRO, GL Description, Kitchen, Project, 31311 - Sao Paolo Aguas de Marco',\n",
       "  'Normalized Supplier Name, CAIXA ECONOMICA FEDERAL, Country Name, Brazil, Strategic Region, LATAM, Requestor Name, unknown, Preparer Name, unknown, Level 1, Professional Services, Business Unit, Legal, Legal Entity, Facebook Servicos Online Do Brasil Ltda, Cost Center (Base Level), NORAM Litigation Group, Cost Center (Level 4), Legal G&A, Cost Center (Level 5), General & Administrative, GL Desc (Level 4), Legal - settlements, Invoice Source, Manual Invoice Entry, GL Description, Legal - settlements, Project, 00000 - Default Project',\n",
       "  'Normalized Supplier Name, APPLE INC, Country Name, Brazil, Strategic Region, EMEA, Requestor Name, Jack Daly, Preparer Name, ERIKA BOVO, Level 1, Technology/Telecom, Business Unit, IT & Corpnet, Legal Entity, Facebook Servicos Online Do Brasil Ltda, Cost Center (Base Level), EE Ops Supply Chain Group, Cost Center (Level 4), Enterprise Engineering G&A, Cost Center (Level 5), General & Administrative, GL Desc (Level 4), Fixed Assets - Gross, Invoice Source, LETTERBOX, GL Description, Assets clearing-capitalized, Project, 00000 - Default Project',\n",
       "  'Normalized Supplier Name, BANCO DO BRASIL S A, Country Name, Brazil, Strategic Region, LATAM, Requestor Name, unknown, Preparer Name, unknown, Level 1, Professional Services, Business Unit, Legal, Legal Entity, Facebook Servicos Online Do Brasil Ltda, Cost Center (Base Level), NORAM Litigation Group, Cost Center (Level 4), Legal G&A, Cost Center (Level 5), General & Administrative, GL Desc (Level 4), Legal - settlements, Invoice Source, Manual Invoice Entry, GL Description, Legal - settlements, Project, 00000 - Default Project',\n",
       "  'Normalized Supplier Name, AMR ASSESSORIA ADUANEIRA IMPORTACAO E EXPORTACAO LTDA, Country Name, Brazil, Strategic Region, LATAM, Requestor Name, Rodrigo Baroni, Preparer Name, Rodrigo Baroni, Level 1, Logistics, Business Unit, Legal, Legal Entity, Facebook Servicos Online Do Brasil Ltda, Cost Center (Base Level), Global Compliance Operations Group, Cost Center (Level 4), Legal G&A, Cost Center (Level 5), General & Administrative, GL Desc (Level 4), Consultants, Invoice Source, LETTERBOX, GL Description, Consultants, Project, 00000 - Default Project'],\n",
       " 'label': [17, 21, 5, 21, 18]}"
      ]
     },
     "execution_count": 4,
     "metadata": {},
     "output_type": "execute_result"
    }
   ],
   "source": [
    "data[\"train\"][:5]"
   ]
  },
  {
   "cell_type": "code",
   "execution_count": 5,
   "metadata": {},
   "outputs": [
    {
     "data": {
      "text/plain": [
       "{'text': Value(dtype='string', id=None),\n",
       " 'label': ClassLabel(names=['Accounting and Tax Services', 'Audit & Assurance', 'Benefits', 'Commercial Payments', 'Components', 'Computer Hardware', 'Connectivity & Bandwidth', 'Construction', 'Consulting', 'Contract Manufacturing', 'Electrical Power', 'Engineering Services', 'Events', 'Expedited Freight', 'Facilities Services', 'Facilities Supplies', 'Financial Services', 'Food & Beverage', 'Freight Forwarding', 'Full Service Creative Agency', 'Insurance', 'Legal Services', 'Market Research', 'Media', 'Messaging and Telecom Services', 'Network Hardware', 'Office Equipment & Services', 'Office Supplies', 'Original Content', 'Other Logistics', 'Other Marketing Services', 'Other Travel', 'Other Utilities', 'Outsourced Operations', 'Production', 'Promotional Items', 'Public Relations', 'R&D Equipment Services', 'R&D Equipment and Labs Supplies', 'R&D Processing Equipment', 'Real Estate Leased', 'Real Estate Owned', 'Retail Programs', 'Security', 'Software & Support', 'Sponsorships and Contributions', 'Talent Management', 'Taxi/Limo/Rideshare', 'Technical Professional Services', 'Telecom Equipment & Telecom Services', 'Temporary Personnel Services', 'Translation & Localization Services', 'Transportation', 'Travel Agency', 'Uncategorized', 'Warehousing & Distribution'], id=None)}"
      ]
     },
     "execution_count": 5,
     "metadata": {},
     "output_type": "execute_result"
    }
   ],
   "source": [
    "data[\"train\"].features"
   ]
  },
  {
   "cell_type": "markdown",
   "metadata": {},
   "source": [
    "# 2. The model is only as good as its labels"
   ]
  },
  {
   "cell_type": "code",
   "execution_count": 6,
   "metadata": {},
   "outputs": [
    {
     "name": "stdout",
     "output_type": "stream",
     "text": [
      "(7885, 2)\n"
     ]
    },
    {
     "data": {
      "text/html": [
       "<div>\n",
       "<style scoped>\n",
       "    .dataframe tbody tr th:only-of-type {\n",
       "        vertical-align: middle;\n",
       "    }\n",
       "\n",
       "    .dataframe tbody tr th {\n",
       "        vertical-align: top;\n",
       "    }\n",
       "\n",
       "    .dataframe thead th {\n",
       "        text-align: right;\n",
       "    }\n",
       "</style>\n",
       "<table border=\"1\" class=\"dataframe\">\n",
       "  <thead>\n",
       "    <tr style=\"text-align: right;\">\n",
       "      <th></th>\n",
       "      <th>text</th>\n",
       "      <th>label</th>\n",
       "    </tr>\n",
       "  </thead>\n",
       "  <tbody>\n",
       "    <tr>\n",
       "      <th>0</th>\n",
       "      <td>Normalized Supplier Name, SAINT GERMAIN PANIFI...</td>\n",
       "      <td>17</td>\n",
       "    </tr>\n",
       "    <tr>\n",
       "      <th>1</th>\n",
       "      <td>Normalized Supplier Name, CAIXA ECONOMICA FEDE...</td>\n",
       "      <td>21</td>\n",
       "    </tr>\n",
       "    <tr>\n",
       "      <th>2</th>\n",
       "      <td>Normalized Supplier Name, APPLE INC, Country N...</td>\n",
       "      <td>5</td>\n",
       "    </tr>\n",
       "    <tr>\n",
       "      <th>3</th>\n",
       "      <td>Normalized Supplier Name, BANCO DO BRASIL S A,...</td>\n",
       "      <td>21</td>\n",
       "    </tr>\n",
       "    <tr>\n",
       "      <th>4</th>\n",
       "      <td>Normalized Supplier Name, AMR ASSESSORIA ADUAN...</td>\n",
       "      <td>18</td>\n",
       "    </tr>\n",
       "  </tbody>\n",
       "</table>\n",
       "</div>"
      ],
      "text/plain": [
       "                                                text  label\n",
       "0  Normalized Supplier Name, SAINT GERMAIN PANIFI...     17\n",
       "1  Normalized Supplier Name, CAIXA ECONOMICA FEDE...     21\n",
       "2  Normalized Supplier Name, APPLE INC, Country N...      5\n",
       "3  Normalized Supplier Name, BANCO DO BRASIL S A,...     21\n",
       "4  Normalized Supplier Name, AMR ASSESSORIA ADUAN...     18"
      ]
     },
     "execution_count": 6,
     "metadata": {},
     "output_type": "execute_result"
    }
   ],
   "source": [
    "data.set_format(type=\"pandas\")\n",
    "df = data[\"train\"][:]\n",
    "print(df.shape)\n",
    "df.head()"
   ]
  },
  {
   "cell_type": "code",
   "execution_count": 7,
   "metadata": {},
   "outputs": [
    {
     "data": {
      "text/html": [
       "<div>\n",
       "<style scoped>\n",
       "    .dataframe tbody tr th:only-of-type {\n",
       "        vertical-align: middle;\n",
       "    }\n",
       "\n",
       "    .dataframe tbody tr th {\n",
       "        vertical-align: top;\n",
       "    }\n",
       "\n",
       "    .dataframe thead th {\n",
       "        text-align: right;\n",
       "    }\n",
       "</style>\n",
       "<table border=\"1\" class=\"dataframe\">\n",
       "  <thead>\n",
       "    <tr style=\"text-align: right;\">\n",
       "      <th></th>\n",
       "      <th>text</th>\n",
       "      <th>label</th>\n",
       "      <th>label_name</th>\n",
       "    </tr>\n",
       "  </thead>\n",
       "  <tbody>\n",
       "    <tr>\n",
       "      <th>0</th>\n",
       "      <td>Normalized Supplier Name, SAINT GERMAIN PANIFI...</td>\n",
       "      <td>17</td>\n",
       "      <td>Food &amp; Beverage</td>\n",
       "    </tr>\n",
       "    <tr>\n",
       "      <th>1</th>\n",
       "      <td>Normalized Supplier Name, CAIXA ECONOMICA FEDE...</td>\n",
       "      <td>21</td>\n",
       "      <td>Legal Services</td>\n",
       "    </tr>\n",
       "    <tr>\n",
       "      <th>2</th>\n",
       "      <td>Normalized Supplier Name, APPLE INC, Country N...</td>\n",
       "      <td>5</td>\n",
       "      <td>Computer Hardware</td>\n",
       "    </tr>\n",
       "    <tr>\n",
       "      <th>3</th>\n",
       "      <td>Normalized Supplier Name, BANCO DO BRASIL S A,...</td>\n",
       "      <td>21</td>\n",
       "      <td>Legal Services</td>\n",
       "    </tr>\n",
       "    <tr>\n",
       "      <th>4</th>\n",
       "      <td>Normalized Supplier Name, AMR ASSESSORIA ADUAN...</td>\n",
       "      <td>18</td>\n",
       "      <td>Freight Forwarding</td>\n",
       "    </tr>\n",
       "  </tbody>\n",
       "</table>\n",
       "</div>"
      ],
      "text/plain": [
       "                                                text  label  \\\n",
       "0  Normalized Supplier Name, SAINT GERMAIN PANIFI...     17   \n",
       "1  Normalized Supplier Name, CAIXA ECONOMICA FEDE...     21   \n",
       "2  Normalized Supplier Name, APPLE INC, Country N...      5   \n",
       "3  Normalized Supplier Name, BANCO DO BRASIL S A,...     21   \n",
       "4  Normalized Supplier Name, AMR ASSESSORIA ADUAN...     18   \n",
       "\n",
       "           label_name  \n",
       "0     Food & Beverage  \n",
       "1      Legal Services  \n",
       "2   Computer Hardware  \n",
       "3      Legal Services  \n",
       "4  Freight Forwarding  "
      ]
     },
     "execution_count": 7,
     "metadata": {},
     "output_type": "execute_result"
    }
   ],
   "source": [
    "df[\"label_name\"] = df[\"label\"].apply(lambda row: data[\"train\"].features[\"label\"].int2str(row))\n",
    "df.head()"
   ]
  },
  {
   "cell_type": "markdown",
   "metadata": {},
   "source": [
    "## 2.1 Class distribution\n",
    "\n",
    "A dataset with a skewed class distribution might require a different treatment in terms of the training loss and evaluation metrics than a balanced one.\n",
    "\n",
    "In this case, the class distribution is skewed towards the `Professional Services` class, which is the most frequent one. There are several ways to deal with this issue, such as:\n",
    "\n",
    "* randomly oversample the minority classes\n",
    "* randomly undersample the majority classes\n",
    "* gather more labeled data for the minority classes\n",
    "\n",
    "For more advanced strategies, check out the [imbalanced-learn](https://imbalanced-learn.org/stable/) library."
   ]
  },
  {
   "cell_type": "code",
   "execution_count": 13,
   "metadata": {},
   "outputs": [
    {
     "data": {
      "text/plain": [
       "label_name\n",
       "Legal Services                          3253\n",
       "Food & Beverage                         1046\n",
       "Connectivity & Bandwidth                 594\n",
       "Uncategorized                            344\n",
       "Technical Professional Services          293\n",
       "Components                               218\n",
       "Consulting                               139\n",
       "Financial Services                       137\n",
       "Telecom Equipment & Telecom Services     120\n",
       "Real Estate Leased                       112\n",
       "Name: count, dtype: int64"
      ]
     },
     "execution_count": 13,
     "metadata": {},
     "output_type": "execute_result"
    }
   ],
   "source": [
    "df[\"label_name\"].value_counts(ascending=False)[:10]"
   ]
  },
  {
   "cell_type": "code",
   "execution_count": 18,
   "metadata": {},
   "outputs": [
    {
     "data": {
      "image/png": "[encoded data removed]",
      "text/plain": [
       "<Figure size 640x480 with 1 Axes>"
      ]
     },
     "metadata": {},
     "output_type": "display_data"
    }
   ],
   "source": [
    "import matplotlib.pyplot as plt\n",
    "\n",
    "df[\"label_name\"].value_counts(ascending=True)[:25].plot.barh()\n",
    "plt.title(\"Expenses Distribution\")\n",
    "plt.show();"
   ]
  },
  {
   "cell_type": "markdown",
   "metadata": {},
   "source": [
    "## 2.2 How long are our sentences?\n",
    "\n",
    "This classification will use **DistilBERT**, a variant of BERT that achieves comparable performance, while being significantly smaller and more efficient. This enables training a classifier in a few minutes. To train a larger BERT model, one can simply change the checkpoint of the pretrained model. A *checkpoint* corresponds to the set of weights that are loaded into a given transformer architecture.\n",
    "\n",
    "For applications using DistilBERT, the maximum context size is 512 tokens. From the plot we see that for each emotion, most sentences are around 15 words long and the longest are well below DistilBERT's maximum context size."
   ]
  },
  {
   "cell_type": "code",
   "execution_count": 19,
   "metadata": {},
   "outputs": [
    {
     "data": {
      "image/png": "[encoded data removed]",
      "text/plain": [
       "<Figure size 1000x600 with 1 Axes>"
      ]
     },
     "metadata": {},
     "output_type": "display_data"
    }
   ],
   "source": [
    "df[\"words_count\"] = df[\"text\"].str.split().apply(len)\n",
    "df.boxplot(\n",
    "  column=\"words_count\",\n",
    "  by=\"label\",\n",
    "  grid=False,\n",
    "  showfliers=True,\n",
    "  color=\"black\", \n",
    "  figsize=(10, 6)\n",
    ")\n",
    "plt.title(\"Words per Sentence\")\n",
    "plt.suptitle(\"\")\n",
    "plt.xlabel(\"Expenses Categories\")\n",
    "plt.show();"
   ]
  },
  {
   "cell_type": "code",
   "execution_count": 20,
   "metadata": {},
   "outputs": [],
   "source": [
    "data.reset_format()"
   ]
  },
  {
   "cell_type": "markdown",
   "metadata": {},
   "source": [
    "# 3. From text to tokens\n",
    "\n",
    "Transformer models cannot receive raw strings as input; instead, they assume the text has been *tokenized* and *encoded* as numerical vectors. There are several tokenization strategies and the optimal splitting of words into tokens is usually learned from the corpus. BERT and [DistilBERT](https://huggingface.co/distilbert-base-uncased) are pretrained models that were trained on subword tokenization using the WordPiece tokenizer algorithm.\n",
    "\n",
    "**Important**: transformers expect each character to be converted to a number, a process called *numericalization*. The problem with this approach is that it creates a fictitious ordering between the names, and neural networks are *really* good at picking up such *statistical regularities* in the data. To avoid this, dummy variables are used to represent the categories in one-hot vectors. The downside then is that the model will have quadratic complexity with the size of the vocabulary.\n",
    "\n",
    "🤗 Transformers provides a convenient `AutoTokenizer` class that allows one to quickly load the tokenizer associated with a pretrained model - by just calling its `from_pretrained()` method, providing the ID of a model on the Hub or a local file path."
   ]
  },
  {
   "cell_type": "code",
   "execution_count": 22,
   "metadata": {},
   "outputs": [
    {
     "data": {
      "text/plain": [
       "DistilBertTokenizerFast(name_or_path='distilbert-base-uncased', vocab_size=30522, model_max_length=512, is_fast=True, padding_side='right', truncation_side='right', special_tokens={'unk_token': '[UNK]', 'sep_token': '[SEP]', 'pad_token': '[PAD]', 'cls_token': '[CLS]', 'mask_token': '[MASK]'}, clean_up_tokenization_spaces=True),  added_tokens_decoder={\n",
       "\t0: AddedToken(\"[PAD]\", rstrip=False, lstrip=False, single_word=False, normalized=False, special=True),\n",
       "\t100: AddedToken(\"[UNK]\", rstrip=False, lstrip=False, single_word=False, normalized=False, special=True),\n",
       "\t101: AddedToken(\"[CLS]\", rstrip=False, lstrip=False, single_word=False, normalized=False, special=True),\n",
       "\t102: AddedToken(\"[SEP]\", rstrip=False, lstrip=False, single_word=False, normalized=False, special=True),\n",
       "\t103: AddedToken(\"[MASK]\", rstrip=False, lstrip=False, single_word=False, normalized=False, special=True),\n",
       "}"
      ]
     },
     "execution_count": 22,
     "metadata": {},
     "output_type": "execute_result"
    }
   ],
   "source": [
    "from transformers import AutoTokenizer\n",
    "\n",
    "model_ckpt = \"distilbert-base-uncased\"\n",
    "tokenizer = AutoTokenizer.from_pretrained(model_ckpt)\n",
    "tokenizer"
   ]
  },
  {
   "cell_type": "code",
   "execution_count": 23,
   "metadata": {},
   "outputs": [
    {
     "data": {
      "text/plain": [
       "['input_ids', 'attention_mask']"
      ]
     },
     "execution_count": 23,
     "metadata": {},
     "output_type": "execute_result"
    }
   ],
   "source": [
    "# fields the model expects in its forward pass\n",
    "tokenizer.model_input_names"
   ]
  },
  {
   "cell_type": "code",
   "execution_count": 24,
   "metadata": {},
   "outputs": [
    {
     "name": "stdout",
     "output_type": "stream",
     "text": [
      "input_ids:  [101, 19204, 6026, 3793, 2003, 1037, 4563, 4708, 1997, 17953, 2361, 1012, 102]\n",
      "attention_mask:  [1, 1, 1, 1, 1, 1, 1, 1, 1, 1, 1, 1, 1]\n"
     ]
    }
   ],
   "source": [
    "text = \"Tokenizing text is a core task of NLP.\"\n",
    "\n",
    "encoded_text = tokenizer(text)\n",
    "print(\"input_ids: \", encoded_text[\"input_ids\"])\n",
    "print(\"attention_mask: \", encoded_text[\"attention_mask\"])"
   ]
  },
  {
   "cell_type": "code",
   "execution_count": 25,
   "metadata": {},
   "outputs": [
    {
     "name": "stdout",
     "output_type": "stream",
     "text": [
      "tokens:  ['[CLS]', 'token', '##izing', 'text', 'is', 'a', 'core', 'task', 'of', 'nl', '##p', '.', '[SEP]']\n"
     ]
    }
   ],
   "source": [
    "tokens = tokenizer.convert_ids_to_tokens(encoded_text[\"input_ids\"])\n",
    "print(\"tokens: \", tokens)"
   ]
  },
  {
   "cell_type": "code",
   "execution_count": 26,
   "metadata": {},
   "outputs": [
    {
     "data": {
      "text/plain": [
       "'[CLS] tokenizing text is a core task of nlp. [SEP]'"
      ]
     },
     "execution_count": 26,
     "metadata": {},
     "output_type": "execute_result"
    }
   ],
   "source": [
    "tokenizer.convert_tokens_to_string(tokens)"
   ]
  },
  {
   "cell_type": "markdown",
   "metadata": {},
   "source": [
    "## 3.1 Tokenizing the whole dataset"
   ]
  },
  {
   "cell_type": "code",
   "execution_count": 27,
   "metadata": {},
   "outputs": [
    {
     "name": "stderr",
     "output_type": "stream",
     "text": [
      "Map: 100%|██████████| 7885/7885 [00:00<00:00, 9945.01 examples/s] \n",
      "Map: 100%|██████████| 1690/1690 [00:00<00:00, 11578.13 examples/s]\n",
      "Map: 100%|██████████| 1690/1690 [00:00<00:00, 11569.80 examples/s]\n"
     ]
    },
    {
     "data": {
      "text/plain": [
       "DatasetDict({\n",
       "    train: Dataset({\n",
       "        features: ['text', 'label', 'input_ids', 'attention_mask'],\n",
       "        num_rows: 7885\n",
       "    })\n",
       "    validation: Dataset({\n",
       "        features: ['text', 'label', 'input_ids', 'attention_mask'],\n",
       "        num_rows: 1690\n",
       "    })\n",
       "    test: Dataset({\n",
       "        features: ['text', 'label', 'input_ids', 'attention_mask'],\n",
       "        num_rows: 1690\n",
       "    })\n",
       "})"
      ]
     },
     "execution_count": 27,
     "metadata": {},
     "output_type": "execute_result"
    }
   ],
   "source": [
    "# padding=True : pad to the longest sequence in the batch\n",
    "# truncation=True : truncate to the model's maximum context size\n",
    "# batched=True : encoding is done in batches\n",
    "# batch_size=None : batch size is the full dataset as a single batch\n",
    "#                   ensuring that input tensors and attention maks have the same shape\n",
    "\n",
    "\n",
    "data_encoded = data.map(lambda batch: tokenizer(batch[\"text\"], padding=True, truncation=True), batched=True, batch_size=None)\n",
    "data_encoded"
   ]
  },
  {
   "cell_type": "code",
   "execution_count": 28,
   "metadata": {},
   "outputs": [
    {
     "data": {
      "text/plain": [
       "['text', 'label', 'input_ids', 'attention_mask']"
      ]
     },
     "execution_count": 28,
     "metadata": {},
     "output_type": "execute_result"
    }
   ],
   "source": [
    "data_encoded[\"train\"].column_names"
   ]
  },
  {
   "cell_type": "code",
   "execution_count": 29,
   "metadata": {},
   "outputs": [
    {
     "name": "stdout",
     "output_type": "stream",
     "text": [
      "text:  Normalized Supplier Name, SAINT GERMAIN PANIFICADORA E CONFEITARIA LTDA, Country Name, Brazil, Strategic Region, NORAM, Requestor Name, Lisandro Ulerio, Preparer Name, Victória Simonato, Level 1, Real Estate & Facilities, Business Unit, Facilities, Legal Entity, Facebook Servicos Online Do Brasil Ltda, Cost Center (Base Level), Non-Bay Area Facilities & Operations Group, Cost Center (Level 4), FCS G&A, Cost Center (Level 5), General & Administrative, GL Desc (Level 4), Kitchen, Invoice Source, CAFEPRO, GL Description, Kitchen, Project, 31311 - Sao Paolo Aguas de Marco\n",
      "label:  17\n",
      "input_ids:  [101, 3671, 3550, 17024, 2171, 1010, 3002, 19192, 6090, 18513, 26467, 2050, 1041, 9530, 21156, 10980, 5183, 2050, 1010, 2406, 2171, 1010, 4380, 1010, 6143, 2555, 1010, 12306, 2213, 1010, 5227, 2953, 2171, 1010, 7059, 4859, 3217, 17359, 11124, 2080, 1010, 7374, 2099, 2171, 1010, 3848, 4079, 10610, 1010, 2504, 1015, 1010, 2613, 3776, 1004, 4128, 1010, 2449, 3131, 1010, 4128, 1010, 3423, 9178, 1010, 9130, 14262, 7903, 2891, 3784, 2079, 21133, 5183, 2050, 1010, 3465, 2415, 1006, 2918, 2504, 1007, 1010, 2512, 1011, 3016, 2181, 4128, 1004, 3136, 2177, 1010, 3465, 2415, 1006, 2504, 1018, 1007, 1010, 4429, 2015, 1043, 1004, 1037, 1010, 3465, 2415, 1006, 2504, 1019, 1007, 1010, 2236, 1004, 3831, 1010, 1043, 2140, 4078, 2278, 1006, 2504, 1018, 1007, 1010, 3829, 1010, 1999, 6767, 6610, 3120, 1010, 7668, 21572, 1010, 1043, 2140, 6412, 1010, 3829, 1010, 2622, 1010, 22997, 14526, 1011, 7509, 14174, 12943, 6692, 2015, 2139, 8879, 102, 0, 0, 0, 0, 0, 0, 0, 0, 0, 0, 0, 0, 0, 0, 0, 0, 0, 0, 0, 0, 0, 0, 0, 0, 0, 0, 0, 0, 0, 0, 0, 0, 0, 0, 0, 0, 0]\n",
      "input_ids length:  190\n",
      "attention_mask:  [1, 1, 1, 1, 1, 1, 1, 1, 1, 1, 1, 1, 1, 1, 1, 1, 1, 1, 1, 1, 1, 1, 1, 1, 1, 1, 1, 1, 1, 1, 1, 1, 1, 1, 1, 1, 1, 1, 1, 1, 1, 1, 1, 1, 1, 1, 1, 1, 1, 1, 1, 1, 1, 1, 1, 1, 1, 1, 1, 1, 1, 1, 1, 1, 1, 1, 1, 1, 1, 1, 1, 1, 1, 1, 1, 1, 1, 1, 1, 1, 1, 1, 1, 1, 1, 1, 1, 1, 1, 1, 1, 1, 1, 1, 1, 1, 1, 1, 1, 1, 1, 1, 1, 1, 1, 1, 1, 1, 1, 1, 1, 1, 1, 1, 1, 1, 1, 1, 1, 1, 1, 1, 1, 1, 1, 1, 1, 1, 1, 1, 1, 1, 1, 1, 1, 1, 1, 1, 1, 1, 1, 1, 1, 1, 1, 1, 1, 1, 1, 1, 1, 1, 1, 0, 0, 0, 0, 0, 0, 0, 0, 0, 0, 0, 0, 0, 0, 0, 0, 0, 0, 0, 0, 0, 0, 0, 0, 0, 0, 0, 0, 0, 0, 0, 0, 0, 0, 0, 0, 0]\n",
      "attention_mask length:  190\n",
      "tokens:  ['[CLS]', 'normal', '##ized', 'supplier', 'name', ',', 'saint', 'germain', 'pan', '##ific', '##ador', '##a', 'e', 'con', '##feit', '##aria', 'ltd', '##a', ',', 'country', 'name', ',', 'brazil', ',', 'strategic', 'region', ',', 'nora', '##m', ',', 'request', '##or', 'name', ',', 'lisa', '##nd', '##ro', 'ul', '##eri', '##o', ',', 'prepare', '##r', 'name', ',', 'victoria', 'simon', '##ato', ',', 'level', '1', ',', 'real', 'estate', '&', 'facilities', ',', 'business', 'unit', ',', 'facilities', ',', 'legal', 'entity', ',', 'facebook', 'ser', '##vic', '##os', 'online', 'do', 'brasil', 'ltd', '##a', ',', 'cost', 'center', '(', 'base', 'level', ')', ',', 'non', '-', 'bay', 'area', 'facilities', '&', 'operations', 'group', ',', 'cost', 'center', '(', 'level', '4', ')', ',', 'fc', '##s', 'g', '&', 'a', ',', 'cost', 'center', '(', 'level', '5', ')', ',', 'general', '&', 'administrative', ',', 'g', '##l', 'des', '##c', '(', 'level', '4', ')', ',', 'kitchen', ',', 'in', '##vo', '##ice', 'source', ',', 'cafe', '##pro', ',', 'g', '##l', 'description', ',', 'kitchen', ',', 'project', ',', '313', '##11', '-', 'sao', 'paolo', 'ag', '##ua', '##s', 'de', 'marco', '[SEP]', '[PAD]', '[PAD]', '[PAD]', '[PAD]', '[PAD]', '[PAD]', '[PAD]', '[PAD]', '[PAD]', '[PAD]', '[PAD]', '[PAD]', '[PAD]', '[PAD]', '[PAD]', '[PAD]', '[PAD]', '[PAD]', '[PAD]', '[PAD]', '[PAD]', '[PAD]', '[PAD]', '[PAD]', '[PAD]', '[PAD]', '[PAD]', '[PAD]', '[PAD]', '[PAD]', '[PAD]', '[PAD]', '[PAD]', '[PAD]', '[PAD]', '[PAD]', '[PAD]']\n",
      "tokenized text:  [CLS] normalized supplier name, saint germain panificadora e confeitaria ltda, country name, brazil, strategic region, noram, requestor name, lisandro ulerio, preparer name, victoria simonato, level 1, real estate & facilities, business unit, facilities, legal entity, facebook servicos online do brasil ltda, cost center ( base level ), non - bay area facilities & operations group, cost center ( level 4 ), fcs g & a, cost center ( level 5 ), general & administrative, gl desc ( level 4 ), kitchen, invoice source, cafepro, gl description, kitchen, project, 31311 - sao paolo aguas de marco [SEP] [PAD] [PAD] [PAD] [PAD] [PAD] [PAD] [PAD] [PAD] [PAD] [PAD] [PAD] [PAD] [PAD] [PAD] [PAD] [PAD] [PAD] [PAD] [PAD] [PAD] [PAD] [PAD] [PAD] [PAD] [PAD] [PAD] [PAD] [PAD] [PAD] [PAD] [PAD] [PAD] [PAD] [PAD] [PAD] [PAD] [PAD]\n"
     ]
    }
   ],
   "source": [
    "example = data_encoded[\"train\"][0]\n",
    "tokens = tokenizer.convert_ids_to_tokens(example[\"input_ids\"])\n",
    "\n",
    "print(\"text: \", example[\"text\"])\n",
    "print(\"label: \", example[\"label\"])\n",
    "print(\"input_ids: \", example[\"input_ids\"])\n",
    "print(\"input_ids length: \", len(example[\"input_ids\"]))\n",
    "print(\"attention_mask: \", example[\"attention_mask\"])\n",
    "print(\"attention_mask length: \", len(example[\"attention_mask\"]))\n",
    "print(\"tokens: \", tokens)\n",
    "print(\"tokenized text: \", tokenizer.convert_tokens_to_string(tokens))"
   ]
  },
  {
   "cell_type": "markdown",
   "metadata": {},
   "source": [
    "# 4. Training a text classifier\n",
    "\n",
    "**DistilBERT** is pretrained to predict masked words in a sequence of text. The pretrained model is architectured as a **encoder-based model**, composed of a stack of hidden layers transforming the input sequence into a sequence of hidden states. In order to use it for text classification, it needs to be combined with a custom classification layer.\n",
    "\n",
    "## 4.1 Feature-based approach\n",
    "\n",
    "The model's hidden states are used as features and a classifier is trained on top of them, without modifying the pretrained model. The advantage of this approach is that we can quickly train a shallow model, such as a neural classification layer or a random forest, which is specially convenient if GPUs are unavailable.\n",
    "\n",
    "In the feature-based approach, the DistilBERT model is frozen and just provides features for a classifier.\n",
    "\n",
    "### 4.1.1 Using pretrained models\n",
    "\n",
    "The `AutoModel` class converts token encodings to embeddings, and then feed them through the encoder stack to return the hidden states, making it possible to extract these states from the corpus."
   ]
  },
  {
   "cell_type": "code",
   "execution_count": 30,
   "metadata": {},
   "outputs": [],
   "source": [
    "from transformers import AutoModel\n",
    "import torch\n",
    "\n",
    "# load DistilBERT checkpoint\n",
    "model_ckpt = \"distilbert-base-uncased\"\n",
    "device = torch.device(\"cuda\" if torch.cuda.is_available() else \"cpu\")\n",
    "model = AutoModel.from_pretrained(model_ckpt).to(device)"
   ]
  },
  {
   "cell_type": "markdown",
   "metadata": {},
   "source": [
    "### 4.1.2 Extracting last hidden states\n",
    "\n",
    "DistilBERT, like BERT, uses a hidden size of 768 dimensions, meaning that the internal representations of words and tokens in the model have a dimensionality of 768.\n",
    "\n",
    "The hidden size in a transformer-based model like BERT or DistilBERT determines the dimension of the model's embeddings and the dimension of the hidden states as the model processes input data. A higher hidden size allows the model to capture more complex patterns and relationships in the data but also makes the model larger and more computationally intensive.\n",
    "\n",
    "For classification tasks, it is common practice to just use the hidden state corresponding to the first token of the input sequence, which is the special token [CLS] (for classification). This is because the hidden state of this token has access to the entire sequence through the attention mechanism.This means that during pre-training and fine-tuning, the model has learned to aggregate information from all tokens in the input sequence into this [CLS] token's hidden state.\n",
    "\n",
    "#### 4.1.2.1 Last hidden state for a single string"
   ]
  },
  {
   "cell_type": "code",
   "execution_count": 31,
   "metadata": {},
   "outputs": [
    {
     "data": {
      "text/plain": [
       "({'input_ids': tensor([[ 101, 2023, 2003, 1037, 3231,  102]]), 'attention_mask': tensor([[1, 1, 1, 1, 1, 1]])},\n",
       " torch.Size([1, 6]))"
      ]
     },
     "execution_count": 31,
     "metadata": {},
     "output_type": "execute_result"
    }
   ],
   "source": [
    "# encode a string and convert tokens to PyTorch tensor\n",
    "# expected tensor: [batch_size, n_tokens]\n",
    "text = \"this is a test\"\n",
    "inputs = tokenizer(text, return_tensors=\"pt\")\n",
    "inputs, inputs[\"input_ids\"].shape"
   ]
  },
  {
   "cell_type": "code",
   "execution_count": 32,
   "metadata": {},
   "outputs": [
    {
     "data": {
      "text/plain": [
       "['[CLS]', 'this', 'is', 'a', 'test', '[SEP]']"
      ]
     },
     "execution_count": 32,
     "metadata": {},
     "output_type": "execute_result"
    }
   ],
   "source": [
    "tokens = tokenizer.convert_ids_to_tokens(inputs[\"input_ids\"][0])\n",
    "tokens"
   ]
  },
  {
   "cell_type": "code",
   "execution_count": 33,
   "metadata": {},
   "outputs": [
    {
     "data": {
      "text/plain": [
       "BaseModelOutput(last_hidden_state=tensor([[[-0.1565, -0.1862,  0.0528,  ..., -0.1188,  0.0662,  0.5470],\n",
       "         [-0.3575, -0.6484, -0.0618,  ..., -0.3040,  0.3508,  0.5221],\n",
       "         [-0.2772, -0.4459,  0.1818,  ..., -0.0948, -0.0076,  0.9958],\n",
       "         [-0.2841, -0.3917,  0.3753,  ..., -0.2151, -0.1173,  1.0526],\n",
       "         [ 0.2661, -0.5094, -0.3180,  ..., -0.4203,  0.0144, -0.2149],\n",
       "         [ 0.9441,  0.0112, -0.4714,  ...,  0.1439, -0.7288, -0.1619]]]), hidden_states=None, attentions=None)"
      ]
     },
     "execution_count": 33,
     "metadata": {},
     "output_type": "execute_result"
    }
   ],
   "source": [
    "inputs = {k: v.to(device) for k, v in inputs.items()}\n",
    "with torch.inference_mode():\n",
    "  outputs = model(**inputs)\n",
    "outputs"
   ]
  },
  {
   "cell_type": "code",
   "execution_count": 34,
   "metadata": {},
   "outputs": [
    {
     "data": {
      "text/plain": [
       "torch.Size([1, 6, 768])"
      ]
     },
     "execution_count": 34,
     "metadata": {},
     "output_type": "execute_result"
    }
   ],
   "source": [
    "# output shape: [batch_size, n_tokens, hidden_dims]\n",
    "outputs.last_hidden_state.shape"
   ]
  },
  {
   "cell_type": "code",
   "execution_count": 35,
   "metadata": {},
   "outputs": [
    {
     "data": {
      "text/plain": [
       "torch.Size([1, 768])"
      ]
     },
     "execution_count": 35,
     "metadata": {},
     "output_type": "execute_result"
    }
   ],
   "source": [
    "# hidden state corresponding to the first token of the input sequence [CLS]\n",
    "outputs.last_hidden_state[:, 0].shape"
   ]
  },
  {
   "cell_type": "markdown",
   "metadata": {},
   "source": [
    "#### 4.1.2.2 Last hidden state for whole dataset"
   ]
  },
  {
   "cell_type": "code",
   "execution_count": 36,
   "metadata": {},
   "outputs": [],
   "source": [
    "def extract_hidden_states(batch):\n",
    "  \"\"\"\"\n",
    "  This function creates a hidden_state column in the batch\n",
    "  by extracting the hidden state corresponding to the first token\n",
    "  of the input sequence [CLS].\n",
    "  \"\"\"\n",
    "\n",
    "  # move inputs to device\n",
    "  inputs = { k: v.to(device) for k, v in batch.items() if k in tokenizer.model_input_names }\n",
    "\n",
    "  # extract last hidden states\n",
    "  with torch.inference_mode():\n",
    "    last_hidden_state = model(**inputs).last_hidden_state\n",
    "\n",
    "  return { \"hidden_state\": last_hidden_state[:, 0].cpu().numpy() }"
   ]
  },
  {
   "cell_type": "code",
   "execution_count": 37,
   "metadata": {},
   "outputs": [
    {
     "data": {
      "text/plain": [
       "{'label': tensor(17),\n",
       " 'input_ids': tensor([  101,  3671,  3550, 17024,  2171,  1010,  3002, 19192,  6090, 18513,\n",
       "         26467,  2050,  1041,  9530, 21156, 10980,  5183,  2050,  1010,  2406,\n",
       "          2171,  1010,  4380,  1010,  6143,  2555,  1010, 12306,  2213,  1010,\n",
       "          5227,  2953,  2171,  1010,  7059,  4859,  3217, 17359, 11124,  2080,\n",
       "          1010,  7374,  2099,  2171,  1010,  3848,  4079, 10610,  1010,  2504,\n",
       "          1015,  1010,  2613,  3776,  1004,  4128,  1010,  2449,  3131,  1010,\n",
       "          4128,  1010,  3423,  9178,  1010,  9130, 14262,  7903,  2891,  3784,\n",
       "          2079, 21133,  5183,  2050,  1010,  3465,  2415,  1006,  2918,  2504,\n",
       "          1007,  1010,  2512,  1011,  3016,  2181,  4128,  1004,  3136,  2177,\n",
       "          1010,  3465,  2415,  1006,  2504,  1018,  1007,  1010,  4429,  2015,\n",
       "          1043,  1004,  1037,  1010,  3465,  2415,  1006,  2504,  1019,  1007,\n",
       "          1010,  2236,  1004,  3831,  1010,  1043,  2140,  4078,  2278,  1006,\n",
       "          2504,  1018,  1007,  1010,  3829,  1010,  1999,  6767,  6610,  3120,\n",
       "          1010,  7668, 21572,  1010,  1043,  2140,  6412,  1010,  3829,  1010,\n",
       "          2622,  1010, 22997, 14526,  1011,  7509, 14174, 12943,  6692,  2015,\n",
       "          2139,  8879,   102,     0,     0,     0,     0,     0,     0,     0,\n",
       "             0,     0,     0,     0,     0,     0,     0,     0,     0,     0,\n",
       "             0,     0,     0,     0,     0,     0,     0,     0,     0,     0,\n",
       "             0,     0,     0,     0,     0,     0,     0,     0,     0,     0]),\n",
       " 'attention_mask': tensor([1, 1, 1, 1, 1, 1, 1, 1, 1, 1, 1, 1, 1, 1, 1, 1, 1, 1, 1, 1, 1, 1, 1, 1,\n",
       "         1, 1, 1, 1, 1, 1, 1, 1, 1, 1, 1, 1, 1, 1, 1, 1, 1, 1, 1, 1, 1, 1, 1, 1,\n",
       "         1, 1, 1, 1, 1, 1, 1, 1, 1, 1, 1, 1, 1, 1, 1, 1, 1, 1, 1, 1, 1, 1, 1, 1,\n",
       "         1, 1, 1, 1, 1, 1, 1, 1, 1, 1, 1, 1, 1, 1, 1, 1, 1, 1, 1, 1, 1, 1, 1, 1,\n",
       "         1, 1, 1, 1, 1, 1, 1, 1, 1, 1, 1, 1, 1, 1, 1, 1, 1, 1, 1, 1, 1, 1, 1, 1,\n",
       "         1, 1, 1, 1, 1, 1, 1, 1, 1, 1, 1, 1, 1, 1, 1, 1, 1, 1, 1, 1, 1, 1, 1, 1,\n",
       "         1, 1, 1, 1, 1, 1, 1, 1, 1, 0, 0, 0, 0, 0, 0, 0, 0, 0, 0, 0, 0, 0, 0, 0,\n",
       "         0, 0, 0, 0, 0, 0, 0, 0, 0, 0, 0, 0, 0, 0, 0, 0, 0, 0, 0, 0, 0, 0])}"
      ]
     },
     "execution_count": 37,
     "metadata": {},
     "output_type": "execute_result"
    }
   ],
   "source": [
    "# model expects tensors as inputs\n",
    "data_encoded.set_format(type=\"torch\", columns=[\"input_ids\", \"attention_mask\", \"label\"])\n",
    "data_encoded[\"train\"][0]"
   ]
  },
  {
   "cell_type": "code",
   "execution_count": 38,
   "metadata": {},
   "outputs": [
    {
     "name": "stderr",
     "output_type": "stream",
     "text": [
      "Map: 100%|██████████| 7885/7885 [07:07<00:00, 18.45 examples/s]\n",
      "Map: 100%|██████████| 1690/1690 [01:05<00:00, 25.95 examples/s]\n",
      "Map: 100%|██████████| 1690/1690 [00:57<00:00, 29.31 examples/s]\n"
     ]
    }
   ],
   "source": [
    "data_hidden = data_encoded.map(extract_hidden_states, batched=True)"
   ]
  },
  {
   "cell_type": "code",
   "execution_count": 39,
   "metadata": {},
   "outputs": [
    {
     "data": {
      "text/plain": [
       "['text', 'label']"
      ]
     },
     "execution_count": 39,
     "metadata": {},
     "output_type": "execute_result"
    }
   ],
   "source": [
    "data[\"train\"].column_names"
   ]
  },
  {
   "cell_type": "markdown",
   "metadata": {},
   "source": [
    "### 4.1.3 Creating a feature matrix\n",
    "\n",
    "After obtaining the hidden state associated with each sentence, the preprocessed dataset now contains all the information required to train a classifier on it. The hidden states will be used as input features and the labels as targets."
   ]
  },
  {
   "cell_type": "code",
   "execution_count": 40,
   "metadata": {},
   "outputs": [
    {
     "data": {
      "text/plain": [
       "((7885, 768), (1690, 768), (7885,), (1690,))"
      ]
     },
     "execution_count": 40,
     "metadata": {},
     "output_type": "execute_result"
    }
   ],
   "source": [
    "X_train = np.array(data_hidden[\"train\"][\"hidden_state\"])\n",
    "X_valid = np.array(data_hidden[\"validation\"][\"hidden_state\"])\n",
    "y_train = np.array(data_hidden[\"train\"][\"label\"])\n",
    "y_valid = np.array(data_hidden[\"validation\"][\"label\"])\n",
    "X_train.shape, X_valid.shape, y_train.shape, y_valid.shape"
   ]
  },
  {
   "cell_type": "markdown",
   "metadata": {},
   "source": [
    "### 4.1.4 Training a simple classifier\n",
    "\n",
    "The accuracy of the model is 0.633, which is quite good, considering that it deals with an unbalanced multiclass dataset. \n",
    "\n",
    "To examine the model's performance in more detail, it can be used the `DummyClassifier` class from scikit-learn to train a classifier that always predicts the most frequent class in the training set. This will provide a baseline to compare the model's performance against."
   ]
  },
  {
   "cell_type": "code",
   "execution_count": 41,
   "metadata": {},
   "outputs": [
    {
     "name": "stderr",
     "output_type": "stream",
     "text": [
      "huggingface/tokenizers: The current process just got forked, after parallelism has already been used. Disabling parallelism to avoid deadlocks...\n",
      "To disable this warning, you can either:\n",
      "\t- Avoid using `tokenizers` before the fork if possible\n",
      "\t- Explicitly set the environment variable TOKENIZERS_PARALLELISM=(true | false)\n"
     ]
    },
    {
     "data": {
      "text/plain": [
       "0.8928994082840237"
      ]
     },
     "execution_count": 41,
     "metadata": {},
     "output_type": "execute_result"
    }
   ],
   "source": [
    "from sklearn.linear_model import LogisticRegression\n",
    "\n",
    "# we increase `max_iter` to guarantee convergence\n",
    "lr_clf = LogisticRegression(max_iter=3000)\n",
    "lr_clf.fit(X_train, y_train)\n",
    "lr_clf.score(X_valid, y_valid)"
   ]
  },
  {
   "cell_type": "code",
   "execution_count": 42,
   "metadata": {},
   "outputs": [
    {
     "data": {
      "text/plain": [
       "0.40710059171597635"
      ]
     },
     "execution_count": 42,
     "metadata": {},
     "output_type": "execute_result"
    }
   ],
   "source": [
    "from sklearn.dummy import DummyClassifier\n",
    "\n",
    "dummy_clf = DummyClassifier(strategy=\"most_frequent\")\n",
    "dummy_clf.fit(X_train, y_train)\n",
    "dummy_clf.score(X_valid, y_valid)"
   ]
  },
  {
   "cell_type": "markdown",
   "metadata": {},
   "source": [
    "The confusion matrix tells the relationship between the true and predicted labels.\n",
    "\n",
    "We can see that `anger` and `fear` are most often confused with `sadness`, which agrees with the observation we made when visualizing the embeddings. Also, `love` and `surprise` are frequently mistaken for `joy`."
   ]
  },
  {
   "cell_type": "markdown",
   "metadata": {},
   "source": [
    "## 4.2 Fine-tuning approach\n",
    "\n",
    "The whole model is trained end-to-end, updating all parameters of the pretrained model. This requires the classification head to be differentiable, which is why this method usually uses a neural network for classification.\n",
    "\n",
    "Training the hidden states that serve as inputs to the classification model will help to avoid the problem of working with data that may not be well suited for the classification task. Instead, the initial hidden states adapt during training to decrease the model loss and thus increase its performance.\n",
    "\n",
    "### 4.2.1 Loading a pretrained model\n",
    "\n",
    "The `AutoModelForSequenceClassification` class automatically loads the correct classification head for the model architecture, making it possible to load a pretrained model and fine-tune it on a new task in just a few lines of code. We just need to specify how many labels the model has to predict (6 in this case) and the model will automatically download the correct head and load it with the pretrained weights."
   ]
  },
  {
   "cell_type": "code",
   "execution_count": 44,
   "metadata": {},
   "outputs": [
    {
     "name": "stderr",
     "output_type": "stream",
     "text": [
      "Some weights of DistilBertForSequenceClassification were not initialized from the model checkpoint at distilbert-base-uncased and are newly initialized: ['pre_classifier.weight', 'classifier.bias', 'pre_classifier.bias', 'classifier.weight']\n",
      "You should probably TRAIN this model on a down-stream task to be able to use it for predictions and inference.\n"
     ]
    }
   ],
   "source": [
    "from transformers import AutoModelForSequenceClassification\n",
    "\n",
    "num_labels = len(data[\"train\"].features[\"label\"].names)\n",
    "model = AutoModelForSequenceClassification.from_pretrained(model_ckpt, num_labels=num_labels).to(device)"
   ]
  },
  {
   "cell_type": "markdown",
   "metadata": {},
   "source": [
    "### 4.2.2 Defining the performance metrics"
   ]
  },
  {
   "cell_type": "code",
   "execution_count": 45,
   "metadata": {},
   "outputs": [],
   "source": [
    "from sklearn.metrics import accuracy_score, f1_score\n",
    "\n",
    "def compute_metrics(pred):\n",
    "  \"\"\"\n",
    "  This function receives an `EvalPrediction` object (a namedtuple with a\n",
    "  predictions and label_ids field) and returns a dictionary with the F1 \n",
    "  score under the key `f1` and the accuracy under the key `accuracy`\n",
    "  \"\"\"\n",
    "  labels = pred.label_ids\n",
    "  preds = pred.predictions.argmax(-1)\n",
    "  f1 = f1_score(labels, preds, average=\"weighted\")\n",
    "  acc = accuracy_score(labels, preds)\n",
    "  return {\"accuracy\": acc, \"f1\": f1}"
   ]
  },
  {
   "cell_type": "markdown",
   "metadata": {},
   "source": [
    "### 4.2.3 Training the model\n",
    "\n",
    "The `TrainingArguments` class contains all the hyperparameters that control the training process. The most important parameter to specify is `output_dir`, which is the path to the directory where the model and training metrics will be saved.\n",
    "\n",
    "Looking at the results, we can see that the fine-tuned model has an F1-score on the validation set of around 92%, which is a significant improvement over the feature-based approach. The confusion matrix also shows that the model is much more confident in its predictions, with most of the errors being due to the model confusing `love` and `joy`, which is understandable."
   ]
  },
  {
   "cell_type": "code",
   "execution_count": 46,
   "metadata": {},
   "outputs": [],
   "source": [
    "from transformers import TrainingArguments\n",
    "\n",
    "batch_size = 64\n",
    "logging_steps = len(data_encoded[\"train\"]) // batch_size\n",
    "model_name = f\"{model_ckpt}-finetuned-expenses\"\n",
    "\n",
    "training_args = TrainingArguments(\n",
    "  output_dir=model_name,\n",
    "  num_train_epochs=2,\n",
    "  learning_rate=2e-5,\n",
    "  per_device_train_batch_size=batch_size,\n",
    "  per_device_eval_batch_size=batch_size,\n",
    "  weight_decay=0.01,\n",
    "  evaluation_strategy=\"epoch\",\n",
    "  disable_tqdm=False,\n",
    "  logging_steps=logging_steps,\n",
    "  log_level=\"error\",\n",
    ")"
   ]
  },
  {
   "cell_type": "code",
   "execution_count": 47,
   "metadata": {},
   "outputs": [
    {
     "name": "stderr",
     "output_type": "stream",
     "text": [
      " 50%|████▉     | 123/248 [06:57<08:56,  4.29s/it]"
     ]
    },
    {
     "name": "stdout",
     "output_type": "stream",
     "text": [
      "{'loss': 2.2943, 'learning_rate': 1.0080645161290323e-05, 'epoch': 0.99}\n"
     ]
    },
    {
     "name": "stderr",
     "output_type": "stream",
     "text": [
      "                                                 \n",
      " 50%|█████     | 124/248 [07:32<09:07,  4.42s/it]"
     ]
    },
    {
     "name": "stdout",
     "output_type": "stream",
     "text": [
      "{'eval_loss': 1.4545725584030151, 'eval_runtime': 30.8251, 'eval_samples_per_second': 54.825, 'eval_steps_per_second': 0.876, 'epoch': 1.0}\n"
     ]
    },
    {
     "name": "stderr",
     "output_type": "stream",
     "text": [
      " 99%|█████████▉| 246/248 [15:07<00:07,  3.76s/it]"
     ]
    },
    {
     "name": "stdout",
     "output_type": "stream",
     "text": [
      "{'loss': 1.3048, 'learning_rate': 1.6129032258064518e-07, 'epoch': 1.98}\n"
     ]
    },
    {
     "name": "stderr",
     "output_type": "stream",
     "text": [
      "                                                 \n",
      "100%|██████████| 248/248 [15:43<00:00,  3.81s/it]"
     ]
    },
    {
     "name": "stdout",
     "output_type": "stream",
     "text": [
      "{'eval_loss': 1.151442050933838, 'eval_runtime': 31.9888, 'eval_samples_per_second': 52.831, 'eval_steps_per_second': 0.844, 'epoch': 2.0}\n",
      "{'train_runtime': 943.9292, 'train_samples_per_second': 16.707, 'train_steps_per_second': 0.263, 'train_loss': 1.7959290608283012, 'epoch': 2.0}\n"
     ]
    },
    {
     "name": "stderr",
     "output_type": "stream",
     "text": [
      "\n"
     ]
    }
   ],
   "source": [
    "from transformers import Trainer\n",
    "\n",
    "trainer = Trainer(\n",
    "  model=model,\n",
    "  args=training_args,\n",
    "  train_dataset=data_encoded[\"train\"],\n",
    "  eval_dataset=data_encoded[\"validation\"],\n",
    "  tokenizer=tokenizer,\n",
    ")\n",
    "trainer.train();"
   ]
  },
  {
   "cell_type": "code",
   "execution_count": 48,
   "metadata": {},
   "outputs": [
    {
     "name": "stderr",
     "output_type": "stream",
     "text": [
      "100%|██████████| 27/27 [00:29<00:00,  1.09s/it]\n"
     ]
    }
   ],
   "source": [
    "preds_output = trainer.predict(data_encoded[\"validation\"])"
   ]
  },
  {
   "cell_type": "code",
   "execution_count": 49,
   "metadata": {},
   "outputs": [
    {
     "data": {
      "text/plain": [
       "(1690, 56)"
      ]
     },
     "execution_count": 49,
     "metadata": {},
     "output_type": "execute_result"
    }
   ],
   "source": [
    "# for each observation in the validation set, the model outputs a vector of\n",
    "# logits with a length equal to the number of labels\n",
    "preds_output.predictions.shape"
   ]
  },
  {
   "cell_type": "code",
   "execution_count": 50,
   "metadata": {},
   "outputs": [
    {
     "data": {
      "text/plain": [
       "(1690,)"
      ]
     },
     "execution_count": 50,
     "metadata": {},
     "output_type": "execute_result"
    }
   ],
   "source": [
    "preds_output.label_ids.shape"
   ]
  },
  {
   "cell_type": "code",
   "execution_count": 56,
   "metadata": {},
   "outputs": [
    {
     "data": {
      "text/plain": [
       "'Financial Services'"
      ]
     },
     "execution_count": 56,
     "metadata": {},
     "output_type": "execute_result"
    }
   ],
   "source": [
    "# prediction for the first example\n",
    "pred = preds_output.label_ids[0]\n",
    "labels[str(pred)]"
   ]
  },
  {
   "cell_type": "code",
   "execution_count": 52,
   "metadata": {},
   "outputs": [
    {
     "data": {
      "text/plain": [
       "{'test_loss': 1.151442050933838,\n",
       " 'test_runtime': 31.318,\n",
       " 'test_samples_per_second': 53.963,\n",
       " 'test_steps_per_second': 0.862}"
      ]
     },
     "execution_count": 52,
     "metadata": {},
     "output_type": "execute_result"
    }
   ],
   "source": [
    "preds_output.metrics"
   ]
  },
  {
   "cell_type": "markdown",
   "metadata": {},
   "source": [
    "## 4.3 Error analysis\n",
    "\n",
    "A simple technique is to sort the validation samples by the model loss. When the label is passed during the forward pass, the loss is automatically calculated and returned. The goal of this exercise is to detect *wrong labels* or *quirks of the dataset*.\n",
    "\n",
    "With this information we can refine the dataset, which might be either mislabeled or require a new class altogether. This often can lead to as big a performance gain (or more) as having more data or larger models.\n",
    "\n",
    "Deep learning models are exceptionally good at finding and exploiting shortcuts to get to a prediction. For this reason, it is also worth investigating the predictions the model is most confident about, so to check if the model is not improperly exploiting random features in the text."
   ]
  },
  {
   "cell_type": "code",
   "execution_count": 57,
   "metadata": {},
   "outputs": [],
   "source": [
    "from torch.nn.functional import cross_entropy\n",
    "\n",
    "def forward_pass_with_label(batch):\n",
    "  # place all input tensors on the device\n",
    "  inputs = { k: v.to(device) for k, v in batch.items() if k in tokenizer.model_input_names }\n",
    "\n",
    "  # forward pass\n",
    "  with torch.inference_mode():\n",
    "    model.to(device)\n",
    "    output = model(**inputs)\n",
    "    pred_label = torch.argmax(output.logits, axis=-1)\n",
    "    loss = cross_entropy(output.logits, batch[\"label\"].to(device), reduction=\"none\")\n",
    "\n",
    "  # place output on CPU for compatibility with other dataset columns\n",
    "  return { \"loss\": loss.cpu().numpy(), \"predicted_label\": pred_label.cpu().numpy() }"
   ]
  },
  {
   "cell_type": "code",
   "execution_count": 58,
   "metadata": {},
   "outputs": [
    {
     "name": "stderr",
     "output_type": "stream",
     "text": [
      "Map: 100%|██████████| 1690/1690 [00:53<00:00, 31.63 examples/s]\n"
     ]
    }
   ],
   "source": [
    "# convert dataset back to PyTorch tensors\n",
    "data_encoded.with_format(type=\"torch\", columns=[\"input_ids\", \"attention_mask\", \"label\"])\n",
    "\n",
    "# compute loss values\n",
    "data_encoded[\"validation\"] = data_encoded[\"validation\"].map(forward_pass_with_label, batched=True, batch_size=16)"
   ]
  },
  {
   "cell_type": "code",
   "execution_count": 59,
   "metadata": {},
   "outputs": [],
   "source": [
    "data_encoded.set_format(\"pandas\")\n",
    "cols = [\"text\", \"label\", \"predicted_label\", \"loss\"]\n",
    "df_test = data_encoded[\"validation\"][:][cols]\n",
    "df_test[\"label\"] = df_test[\"label\"].apply(lambda row: data[\"train\"].features[\"label\"].int2str(row))"
   ]
  },
  {
   "cell_type": "code",
   "execution_count": 61,
   "metadata": {},
   "outputs": [
    {
     "data": {
      "text/plain": [
       "{'0': 'Accounting and Tax Services',\n",
       " '1': 'Audit & Assurance',\n",
       " '2': 'Benefits',\n",
       " '3': 'Commercial Payments',\n",
       " '4': 'Components',\n",
       " '5': 'Computer Hardware',\n",
       " '6': 'Connectivity & Bandwidth',\n",
       " '7': 'Construction',\n",
       " '8': 'Consulting',\n",
       " '9': 'Contract Manufacturing',\n",
       " '10': 'Electrical Power',\n",
       " '11': 'Engineering Services',\n",
       " '12': 'Events',\n",
       " '13': 'Expedited Freight',\n",
       " '14': 'Facilities Services',\n",
       " '15': 'Facilities Supplies',\n",
       " '16': 'Financial Services',\n",
       " '17': 'Food & Beverage',\n",
       " '18': 'Freight Forwarding',\n",
       " '19': 'Full Service Creative Agency',\n",
       " '20': 'Insurance',\n",
       " '21': 'Legal Services',\n",
       " '22': 'Market Research',\n",
       " '23': 'Media',\n",
       " '24': 'Messaging and Telecom Services',\n",
       " '25': 'Network Hardware',\n",
       " '26': 'Office Equipment & Services',\n",
       " '27': 'Office Supplies',\n",
       " '28': 'Original Content',\n",
       " '29': 'Other Logistics',\n",
       " '30': 'Other Marketing Services',\n",
       " '31': 'Other Travel',\n",
       " '32': 'Other Utilities',\n",
       " '33': 'Outsourced Operations',\n",
       " '34': 'Production',\n",
       " '35': 'Promotional Items',\n",
       " '36': 'Public Relations',\n",
       " '37': 'R&D Equipment Services',\n",
       " '38': 'R&D Equipment and Labs Supplies',\n",
       " '39': 'R&D Processing Equipment',\n",
       " '40': 'Real Estate Leased',\n",
       " '41': 'Real Estate Owned',\n",
       " '42': 'Retail Programs',\n",
       " '43': 'Security',\n",
       " '44': 'Software & Support',\n",
       " '45': 'Sponsorships and Contributions',\n",
       " '46': 'Talent Management',\n",
       " '47': 'Taxi/Limo/Rideshare',\n",
       " '48': 'Technical Professional Services',\n",
       " '49': 'Telecom Equipment & Telecom Services',\n",
       " '50': 'Temporary Personnel Services',\n",
       " '51': 'Translation & Localization Services',\n",
       " '52': 'Transportation',\n",
       " '53': 'Travel Agency',\n",
       " '54': 'Uncategorized',\n",
       " '55': 'Warehousing & Distribution'}"
      ]
     },
     "execution_count": 61,
     "metadata": {},
     "output_type": "execute_result"
    }
   ],
   "source": [
    "labels"
   ]
  },
  {
   "cell_type": "code",
   "execution_count": 60,
   "metadata": {},
   "outputs": [
    {
     "data": {
      "text/html": [
       "<div>\n",
       "<style scoped>\n",
       "    .dataframe tbody tr th:only-of-type {\n",
       "        vertical-align: middle;\n",
       "    }\n",
       "\n",
       "    .dataframe tbody tr th {\n",
       "        vertical-align: top;\n",
       "    }\n",
       "\n",
       "    .dataframe thead th {\n",
       "        text-align: right;\n",
       "    }\n",
       "</style>\n",
       "<table border=\"1\" class=\"dataframe\">\n",
       "  <thead>\n",
       "    <tr style=\"text-align: right;\">\n",
       "      <th></th>\n",
       "      <th>text</th>\n",
       "      <th>label</th>\n",
       "      <th>predicted_label</th>\n",
       "      <th>loss</th>\n",
       "    </tr>\n",
       "  </thead>\n",
       "  <tbody>\n",
       "    <tr>\n",
       "      <th>498</th>\n",
       "      <td>Normalized Supplier Name, PIRAMIDES COMERCIO DE AGUAS MINERAIS E BEBIDAS EM GERAL LTDA, Country Name, Brazil, Strategic Region, NORAM, Requestor Name, Lisandro Ulerio, Preparer Name, Victória Simonato, Level 1, Real Estate &amp; Facilities, Business Unit, Facilities, Legal Entity, Facebook Servicos Online Do Brasil Ltda, Cost Center (Base Level), Non-Bay Area Facilities &amp; Operations Group, Cost Center (Level 4), FCS G&amp;A, Cost Center (Level 5), General &amp; Administrative, GL Desc (Level 4), Kitchen, Invoice Source, CAFEPRO, GL Description, Kitchen, Project, 31311 - Sao Paolo Aguas de Marco</td>\n",
       "      <td>Real Estate Owned</td>\n",
       "      <td>17</td>\n",
       "      <td>5.629463</td>\n",
       "    </tr>\n",
       "    <tr>\n",
       "      <th>1321</th>\n",
       "      <td>Normalized Supplier Name, PIRAMIDES COMERCIO DE AGUAS MINERAIS E BEBIDAS EM GERAL LTDA, Country Name, Brazil, Strategic Region, NORAM, Requestor Name, Lisandro Ulerio, Preparer Name, Victória Simonato, Level 1, Real Estate &amp; Facilities, Business Unit, Facilities, Legal Entity, Facebook Servicos Online Do Brasil Ltda, Cost Center (Base Level), Non-Bay Area Facilities &amp; Operations Group, Cost Center (Level 4), FCS G&amp;A, Cost Center (Level 5), General &amp; Administrative, GL Desc (Level 4), Kitchen, Invoice Source, CAFEPRO, GL Description, Kitchen, Project, 31311 - Sao Paolo Aguas de Marco</td>\n",
       "      <td>Real Estate Owned</td>\n",
       "      <td>17</td>\n",
       "      <td>5.629463</td>\n",
       "    </tr>\n",
       "    <tr>\n",
       "      <th>1261</th>\n",
       "      <td>Normalized Supplier Name, PIRAMIDES COMERCIO DE AGUAS MINERAIS E BEBIDAS EM GERAL LTDA, Country Name, Brazil, Strategic Region, NORAM, Requestor Name, Lisandro Ulerio, Preparer Name, Victória Simonato, Level 1, Real Estate &amp; Facilities, Business Unit, Facilities, Legal Entity, Facebook Servicos Online Do Brasil Ltda, Cost Center (Base Level), Non-Bay Area Facilities &amp; Operations Group, Cost Center (Level 4), FCS G&amp;A, Cost Center (Level 5), General &amp; Administrative, GL Desc (Level 4), Kitchen, Invoice Source, CAFEPRO, GL Description, Kitchen, Project, 31311 - Sao Paolo Aguas de Marco</td>\n",
       "      <td>Real Estate Owned</td>\n",
       "      <td>17</td>\n",
       "      <td>5.629463</td>\n",
       "    </tr>\n",
       "    <tr>\n",
       "      <th>393</th>\n",
       "      <td>Normalized Supplier Name, PIRAMIDES COMERCIO DE AGUAS MINERAIS E BEBIDAS EM GERAL LTDA, Country Name, Brazil, Strategic Region, NORAM, Requestor Name, Lisandro Ulerio, Preparer Name, Victória Simonato, Level 1, Real Estate &amp; Facilities, Business Unit, Facilities, Legal Entity, Facebook Servicos Online Do Brasil Ltda, Cost Center (Base Level), Non-Bay Area Facilities &amp; Operations Group, Cost Center (Level 4), FCS G&amp;A, Cost Center (Level 5), General &amp; Administrative, GL Desc (Level 4), Kitchen, Invoice Source, CAFEPRO, GL Description, Kitchen, Project, 31311 - Sao Paolo Aguas de Marco</td>\n",
       "      <td>Real Estate Owned</td>\n",
       "      <td>17</td>\n",
       "      <td>5.629463</td>\n",
       "    </tr>\n",
       "    <tr>\n",
       "      <th>73</th>\n",
       "      <td>Normalized Supplier Name, PIRAMIDES COMERCIO DE AGUAS MINERAIS E BEBIDAS EM GERAL LTDA, Country Name, Brazil, Strategic Region, NORAM, Requestor Name, Lisandro Ulerio, Preparer Name, Victória Simonato, Level 1, Real Estate &amp; Facilities, Business Unit, Facilities, Legal Entity, Facebook Servicos Online Do Brasil Ltda, Cost Center (Base Level), Non-Bay Area Facilities &amp; Operations Group, Cost Center (Level 4), FCS G&amp;A, Cost Center (Level 5), General &amp; Administrative, GL Desc (Level 4), Kitchen, Invoice Source, CAFEPRO, GL Description, Kitchen, Project, 31311 - Sao Paolo Aguas de Marco</td>\n",
       "      <td>Real Estate Owned</td>\n",
       "      <td>17</td>\n",
       "      <td>5.629463</td>\n",
       "    </tr>\n",
       "    <tr>\n",
       "      <th>1619</th>\n",
       "      <td>Normalized Supplier Name, PIRAMIDES COMERCIO DE AGUAS MINERAIS E BEBIDAS EM GERAL LTDA, Country Name, Brazil, Strategic Region, NORAM, Requestor Name, Lisandro Ulerio, Preparer Name, Victória Simonato, Level 1, Real Estate &amp; Facilities, Business Unit, Facilities, Legal Entity, Facebook Servicos Online Do Brasil Ltda, Cost Center (Base Level), Non-Bay Area Facilities &amp; Operations Group, Cost Center (Level 4), FCS G&amp;A, Cost Center (Level 5), General &amp; Administrative, GL Desc (Level 4), Kitchen, Invoice Source, CAFEPRO, GL Description, Kitchen, Project, 31311 - Sao Paolo Aguas de Marco</td>\n",
       "      <td>Real Estate Owned</td>\n",
       "      <td>17</td>\n",
       "      <td>5.629463</td>\n",
       "    </tr>\n",
       "    <tr>\n",
       "      <th>321</th>\n",
       "      <td>Normalized Supplier Name, GRUPO ESTRATEGIA POLITICA, Country Name, Mexico, Strategic Region, LATAM, Requestor Name, Íñigo Fernández Baptista, Preparer Name, Paola Hernandez, Level 1, Professional Services, Business Unit, Comms &amp; Policy, Legal Entity, Facebook Mexico S de RL de CV, Cost Center (Base Level), LATAM Policy Group, Cost Center (Level 4), Global Affairs G&amp;A, Cost Center (Level 5), General &amp; Administrative, GL Desc (Level 4), Consultants, Invoice Source, OCR, GL Description, Consultants, Project, 97907 - 2138 Mexico Consultants</td>\n",
       "      <td>Public Relations</td>\n",
       "      <td>21</td>\n",
       "      <td>5.604042</td>\n",
       "    </tr>\n",
       "    <tr>\n",
       "      <th>965</th>\n",
       "      <td>Normalized Supplier Name, JOSE LEONIDAS BIER BRASILEIRO 63373726034, Country Name, Brazil, Strategic Region, LATAM, Requestor Name, Mario Maia, Preparer Name, Pedro Souza, Level 1, Professional Services, Business Unit, Facilities, Legal Entity, Facebook Servicos Online Do Brasil Ltda, Cost Center (Base Level), Global Security Group, Cost Center (Level 4), FCS G&amp;A, Cost Center (Level 5), General &amp; Administrative, GL Desc (Level 4), Consultants, Invoice Source, LETTERBOX, GL Description, Consultants, Project, 00000 - Default Project</td>\n",
       "      <td>Engineering Services</td>\n",
       "      <td>21</td>\n",
       "      <td>5.352507</td>\n",
       "    </tr>\n",
       "    <tr>\n",
       "      <th>420</th>\n",
       "      <td>Normalized Supplier Name, CAMARA DE COMERCIO E TURISMO LGBT DO BRASIL, Country Name, Brazil, Strategic Region, LATAM, Requestor Name, Thais Silva, Preparer Name, Thais Silva, Level 1, Travel &amp; Expense, Business Unit, Finance, Legal Entity, Facebook Servicos Online Do Brasil Ltda, Cost Center (Base Level), Source to Pay Group, Cost Center (Level 4), Finance G&amp;A, Cost Center (Level 5), General &amp; Administrative, GL Desc (Level 4), Other Marketing, Invoice Source, LETTERBOX, GL Description, Other Marketing, Project, 00000 - Default Project</td>\n",
       "      <td>Travel Agency</td>\n",
       "      <td>17</td>\n",
       "      <td>5.219048</td>\n",
       "    </tr>\n",
       "    <tr>\n",
       "      <th>1333</th>\n",
       "      <td>Normalized Supplier Name, CAMARA DE COMERCIO E TURISMO LGBT DO BRASIL, Country Name, Brazil, Strategic Region, LATAM, Requestor Name, Thais Silva, Preparer Name, Thais Silva, Level 1, Travel &amp; Expense, Business Unit, Finance, Legal Entity, Facebook Servicos Online Do Brasil Ltda, Cost Center (Base Level), Source to Pay Group, Cost Center (Level 4), Finance G&amp;A, Cost Center (Level 5), General &amp; Administrative, GL Desc (Level 4), Other Marketing, Invoice Source, LETTERBOX, GL Description, Other Marketing, Project, 00000 - Default Project</td>\n",
       "      <td>Travel Agency</td>\n",
       "      <td>17</td>\n",
       "      <td>5.219048</td>\n",
       "    </tr>\n",
       "  </tbody>\n",
       "</table>\n",
       "</div>"
      ],
      "text/plain": [
       "                                                                                                                                                                                                                                                                                                                                                                                                                                                                                                                                                                                                               text  \\\n",
       "498   Normalized Supplier Name, PIRAMIDES COMERCIO DE AGUAS MINERAIS E BEBIDAS EM GERAL LTDA, Country Name, Brazil, Strategic Region, NORAM, Requestor Name, Lisandro Ulerio, Preparer Name, Victória Simonato, Level 1, Real Estate & Facilities, Business Unit, Facilities, Legal Entity, Facebook Servicos Online Do Brasil Ltda, Cost Center (Base Level), Non-Bay Area Facilities & Operations Group, Cost Center (Level 4), FCS G&A, Cost Center (Level 5), General & Administrative, GL Desc (Level 4), Kitchen, Invoice Source, CAFEPRO, GL Description, Kitchen, Project, 31311 - Sao Paolo Aguas de Marco   \n",
       "1321  Normalized Supplier Name, PIRAMIDES COMERCIO DE AGUAS MINERAIS E BEBIDAS EM GERAL LTDA, Country Name, Brazil, Strategic Region, NORAM, Requestor Name, Lisandro Ulerio, Preparer Name, Victória Simonato, Level 1, Real Estate & Facilities, Business Unit, Facilities, Legal Entity, Facebook Servicos Online Do Brasil Ltda, Cost Center (Base Level), Non-Bay Area Facilities & Operations Group, Cost Center (Level 4), FCS G&A, Cost Center (Level 5), General & Administrative, GL Desc (Level 4), Kitchen, Invoice Source, CAFEPRO, GL Description, Kitchen, Project, 31311 - Sao Paolo Aguas de Marco   \n",
       "1261  Normalized Supplier Name, PIRAMIDES COMERCIO DE AGUAS MINERAIS E BEBIDAS EM GERAL LTDA, Country Name, Brazil, Strategic Region, NORAM, Requestor Name, Lisandro Ulerio, Preparer Name, Victória Simonato, Level 1, Real Estate & Facilities, Business Unit, Facilities, Legal Entity, Facebook Servicos Online Do Brasil Ltda, Cost Center (Base Level), Non-Bay Area Facilities & Operations Group, Cost Center (Level 4), FCS G&A, Cost Center (Level 5), General & Administrative, GL Desc (Level 4), Kitchen, Invoice Source, CAFEPRO, GL Description, Kitchen, Project, 31311 - Sao Paolo Aguas de Marco   \n",
       "393   Normalized Supplier Name, PIRAMIDES COMERCIO DE AGUAS MINERAIS E BEBIDAS EM GERAL LTDA, Country Name, Brazil, Strategic Region, NORAM, Requestor Name, Lisandro Ulerio, Preparer Name, Victória Simonato, Level 1, Real Estate & Facilities, Business Unit, Facilities, Legal Entity, Facebook Servicos Online Do Brasil Ltda, Cost Center (Base Level), Non-Bay Area Facilities & Operations Group, Cost Center (Level 4), FCS G&A, Cost Center (Level 5), General & Administrative, GL Desc (Level 4), Kitchen, Invoice Source, CAFEPRO, GL Description, Kitchen, Project, 31311 - Sao Paolo Aguas de Marco   \n",
       "73    Normalized Supplier Name, PIRAMIDES COMERCIO DE AGUAS MINERAIS E BEBIDAS EM GERAL LTDA, Country Name, Brazil, Strategic Region, NORAM, Requestor Name, Lisandro Ulerio, Preparer Name, Victória Simonato, Level 1, Real Estate & Facilities, Business Unit, Facilities, Legal Entity, Facebook Servicos Online Do Brasil Ltda, Cost Center (Base Level), Non-Bay Area Facilities & Operations Group, Cost Center (Level 4), FCS G&A, Cost Center (Level 5), General & Administrative, GL Desc (Level 4), Kitchen, Invoice Source, CAFEPRO, GL Description, Kitchen, Project, 31311 - Sao Paolo Aguas de Marco   \n",
       "1619  Normalized Supplier Name, PIRAMIDES COMERCIO DE AGUAS MINERAIS E BEBIDAS EM GERAL LTDA, Country Name, Brazil, Strategic Region, NORAM, Requestor Name, Lisandro Ulerio, Preparer Name, Victória Simonato, Level 1, Real Estate & Facilities, Business Unit, Facilities, Legal Entity, Facebook Servicos Online Do Brasil Ltda, Cost Center (Base Level), Non-Bay Area Facilities & Operations Group, Cost Center (Level 4), FCS G&A, Cost Center (Level 5), General & Administrative, GL Desc (Level 4), Kitchen, Invoice Source, CAFEPRO, GL Description, Kitchen, Project, 31311 - Sao Paolo Aguas de Marco   \n",
       "321                                                  Normalized Supplier Name, GRUPO ESTRATEGIA POLITICA, Country Name, Mexico, Strategic Region, LATAM, Requestor Name, Íñigo Fernández Baptista, Preparer Name, Paola Hernandez, Level 1, Professional Services, Business Unit, Comms & Policy, Legal Entity, Facebook Mexico S de RL de CV, Cost Center (Base Level), LATAM Policy Group, Cost Center (Level 4), Global Affairs G&A, Cost Center (Level 5), General & Administrative, GL Desc (Level 4), Consultants, Invoice Source, OCR, GL Description, Consultants, Project, 97907 - 2138 Mexico Consultants   \n",
       "965                                                        Normalized Supplier Name, JOSE LEONIDAS BIER BRASILEIRO 63373726034, Country Name, Brazil, Strategic Region, LATAM, Requestor Name, Mario Maia, Preparer Name, Pedro Souza, Level 1, Professional Services, Business Unit, Facilities, Legal Entity, Facebook Servicos Online Do Brasil Ltda, Cost Center (Base Level), Global Security Group, Cost Center (Level 4), FCS G&A, Cost Center (Level 5), General & Administrative, GL Desc (Level 4), Consultants, Invoice Source, LETTERBOX, GL Description, Consultants, Project, 00000 - Default Project   \n",
       "420                                                   Normalized Supplier Name, CAMARA DE COMERCIO E TURISMO LGBT DO BRASIL, Country Name, Brazil, Strategic Region, LATAM, Requestor Name, Thais Silva, Preparer Name, Thais Silva, Level 1, Travel & Expense, Business Unit, Finance, Legal Entity, Facebook Servicos Online Do Brasil Ltda, Cost Center (Base Level), Source to Pay Group, Cost Center (Level 4), Finance G&A, Cost Center (Level 5), General & Administrative, GL Desc (Level 4), Other Marketing, Invoice Source, LETTERBOX, GL Description, Other Marketing, Project, 00000 - Default Project   \n",
       "1333                                                  Normalized Supplier Name, CAMARA DE COMERCIO E TURISMO LGBT DO BRASIL, Country Name, Brazil, Strategic Region, LATAM, Requestor Name, Thais Silva, Preparer Name, Thais Silva, Level 1, Travel & Expense, Business Unit, Finance, Legal Entity, Facebook Servicos Online Do Brasil Ltda, Cost Center (Base Level), Source to Pay Group, Cost Center (Level 4), Finance G&A, Cost Center (Level 5), General & Administrative, GL Desc (Level 4), Other Marketing, Invoice Source, LETTERBOX, GL Description, Other Marketing, Project, 00000 - Default Project   \n",
       "\n",
       "                     label  predicted_label      loss  \n",
       "498      Real Estate Owned               17  5.629463  \n",
       "1321     Real Estate Owned               17  5.629463  \n",
       "1261     Real Estate Owned               17  5.629463  \n",
       "393      Real Estate Owned               17  5.629463  \n",
       "73       Real Estate Owned               17  5.629463  \n",
       "1619     Real Estate Owned               17  5.629463  \n",
       "321       Public Relations               21  5.604042  \n",
       "965   Engineering Services               21  5.352507  \n",
       "420          Travel Agency               17  5.219048  \n",
       "1333         Travel Agency               17  5.219048  "
      ]
     },
     "execution_count": 60,
     "metadata": {},
     "output_type": "execute_result"
    }
   ],
   "source": [
    "# data samples with highest losses\n",
    "pd.set_option('display.max_colwidth', None)\n",
    "df_test.sort_values(\"loss\", ascending=False).head(10)"
   ]
  },
  {
   "cell_type": "code",
   "execution_count": 62,
   "metadata": {},
   "outputs": [
    {
     "data": {
      "text/html": [
       "<div>\n",
       "<style scoped>\n",
       "    .dataframe tbody tr th:only-of-type {\n",
       "        vertical-align: middle;\n",
       "    }\n",
       "\n",
       "    .dataframe tbody tr th {\n",
       "        vertical-align: top;\n",
       "    }\n",
       "\n",
       "    .dataframe thead th {\n",
       "        text-align: right;\n",
       "    }\n",
       "</style>\n",
       "<table border=\"1\" class=\"dataframe\">\n",
       "  <thead>\n",
       "    <tr style=\"text-align: right;\">\n",
       "      <th></th>\n",
       "      <th>text</th>\n",
       "      <th>label</th>\n",
       "      <th>predicted_label</th>\n",
       "      <th>loss</th>\n",
       "    </tr>\n",
       "  </thead>\n",
       "  <tbody>\n",
       "    <tr>\n",
       "      <th>170</th>\n",
       "      <td>Normalized Supplier Name, BRB BANCO DE BRASILIA SA, Country Name, Brazil, Strategic Region, LATAM, Requestor Name, unknown, Preparer Name, unknown, Level 1, Professional Services, Business Unit, Legal, Legal Entity, Facebook Servicos Online Do Brasil Ltda, Cost Center (Base Level), NORAM Litigation Group, Cost Center (Level 4), Legal G&amp;A, Cost Center (Level 5), General &amp; Administrative, GL Desc (Level 4), Legal - settlements, Invoice Source, Manual Invoice Entry, GL Description, Legal - settlements, Project, 00000 - Default Project</td>\n",
       "      <td>Legal Services</td>\n",
       "      <td>21</td>\n",
       "      <td>0.049048</td>\n",
       "    </tr>\n",
       "    <tr>\n",
       "      <th>1476</th>\n",
       "      <td>Normalized Supplier Name, BRB BANCO DE BRASILIA SA, Country Name, Brazil, Strategic Region, LATAM, Requestor Name, unknown, Preparer Name, unknown, Level 1, Professional Services, Business Unit, Legal, Legal Entity, Facebook Servicos Online Do Brasil Ltda, Cost Center (Base Level), NORAM Litigation Group, Cost Center (Level 4), Legal G&amp;A, Cost Center (Level 5), General &amp; Administrative, GL Desc (Level 4), Legal - settlements, Invoice Source, Manual Invoice Entry, GL Description, Legal - settlements, Project, 00000 - Default Project</td>\n",
       "      <td>Legal Services</td>\n",
       "      <td>21</td>\n",
       "      <td>0.049048</td>\n",
       "    </tr>\n",
       "    <tr>\n",
       "      <th>768</th>\n",
       "      <td>Normalized Supplier Name, BRB BANCO DE BRASILIA SA, Country Name, Brazil, Strategic Region, LATAM, Requestor Name, unknown, Preparer Name, unknown, Level 1, Professional Services, Business Unit, Legal, Legal Entity, Facebook Servicos Online Do Brasil Ltda, Cost Center (Base Level), NORAM Litigation Group, Cost Center (Level 4), Legal G&amp;A, Cost Center (Level 5), General &amp; Administrative, GL Desc (Level 4), Legal - settlements, Invoice Source, Manual Invoice Entry, GL Description, Legal - settlements, Project, 00000 - Default Project</td>\n",
       "      <td>Legal Services</td>\n",
       "      <td>21</td>\n",
       "      <td>0.049048</td>\n",
       "    </tr>\n",
       "    <tr>\n",
       "      <th>1214</th>\n",
       "      <td>Normalized Supplier Name, BRB BANCO DE BRASILIA SA, Country Name, Brazil, Strategic Region, LATAM, Requestor Name, unknown, Preparer Name, unknown, Level 1, Professional Services, Business Unit, Legal, Legal Entity, Facebook Servicos Online Do Brasil Ltda, Cost Center (Base Level), NORAM Litigation Group, Cost Center (Level 4), Legal G&amp;A, Cost Center (Level 5), General &amp; Administrative, GL Desc (Level 4), Legal - settlements, Invoice Source, Manual Invoice Entry, GL Description, Legal - settlements, Project, 00000 - Default Project</td>\n",
       "      <td>Legal Services</td>\n",
       "      <td>21</td>\n",
       "      <td>0.049048</td>\n",
       "    </tr>\n",
       "    <tr>\n",
       "      <th>336</th>\n",
       "      <td>Normalized Supplier Name, BRB BANCO DE BRASILIA SA, Country Name, Brazil, Strategic Region, LATAM, Requestor Name, unknown, Preparer Name, unknown, Level 1, Professional Services, Business Unit, Legal, Legal Entity, Facebook Servicos Online Do Brasil Ltda, Cost Center (Base Level), NORAM Litigation Group, Cost Center (Level 4), Legal G&amp;A, Cost Center (Level 5), General &amp; Administrative, GL Desc (Level 4), Legal - settlements, Invoice Source, Manual Invoice Entry, GL Description, Legal - settlements, Project, 00000 - Default Project</td>\n",
       "      <td>Legal Services</td>\n",
       "      <td>21</td>\n",
       "      <td>0.049048</td>\n",
       "    </tr>\n",
       "    <tr>\n",
       "      <th>801</th>\n",
       "      <td>Normalized Supplier Name, BRB BANCO DE BRASILIA SA, Country Name, Brazil, Strategic Region, LATAM, Requestor Name, unknown, Preparer Name, unknown, Level 1, Professional Services, Business Unit, Legal, Legal Entity, Facebook Servicos Online Do Brasil Ltda, Cost Center (Base Level), NORAM Litigation Group, Cost Center (Level 4), Legal G&amp;A, Cost Center (Level 5), General &amp; Administrative, GL Desc (Level 4), Legal - settlements, Invoice Source, Manual Invoice Entry, GL Description, Legal - settlements, Project, 00000 - Default Project</td>\n",
       "      <td>Legal Services</td>\n",
       "      <td>21</td>\n",
       "      <td>0.049048</td>\n",
       "    </tr>\n",
       "    <tr>\n",
       "      <th>77</th>\n",
       "      <td>Normalized Supplier Name, BRB BANCO DE BRASILIA SA, Country Name, Brazil, Strategic Region, LATAM, Requestor Name, unknown, Preparer Name, unknown, Level 1, Professional Services, Business Unit, Legal, Legal Entity, Facebook Servicos Online Do Brasil Ltda, Cost Center (Base Level), NORAM Litigation Group, Cost Center (Level 4), Legal G&amp;A, Cost Center (Level 5), General &amp; Administrative, GL Desc (Level 4), Legal - settlements, Invoice Source, Manual Invoice Entry, GL Description, Legal - settlements, Project, 00000 - Default Project</td>\n",
       "      <td>Legal Services</td>\n",
       "      <td>21</td>\n",
       "      <td>0.049048</td>\n",
       "    </tr>\n",
       "    <tr>\n",
       "      <th>830</th>\n",
       "      <td>Normalized Supplier Name, BRB BANCO DE BRASILIA SA, Country Name, Brazil, Strategic Region, LATAM, Requestor Name, unknown, Preparer Name, unknown, Level 1, Professional Services, Business Unit, Legal, Legal Entity, Facebook Servicos Online Do Brasil Ltda, Cost Center (Base Level), NORAM Litigation Group, Cost Center (Level 4), Legal G&amp;A, Cost Center (Level 5), General &amp; Administrative, GL Desc (Level 4), Legal - settlements, Invoice Source, Manual Invoice Entry, GL Description, Legal - settlements, Project, 00000 - Default Project</td>\n",
       "      <td>Legal Services</td>\n",
       "      <td>21</td>\n",
       "      <td>0.049048</td>\n",
       "    </tr>\n",
       "    <tr>\n",
       "      <th>1415</th>\n",
       "      <td>Normalized Supplier Name, BRB BANCO DE BRASILIA SA, Country Name, Brazil, Strategic Region, LATAM, Requestor Name, unknown, Preparer Name, unknown, Level 1, Professional Services, Business Unit, Legal, Legal Entity, Facebook Servicos Online Do Brasil Ltda, Cost Center (Base Level), NORAM Litigation Group, Cost Center (Level 4), Legal G&amp;A, Cost Center (Level 5), General &amp; Administrative, GL Desc (Level 4), Legal - settlements, Invoice Source, Manual Invoice Entry, GL Description, Legal - settlements, Project, 00000 - Default Project</td>\n",
       "      <td>Legal Services</td>\n",
       "      <td>21</td>\n",
       "      <td>0.049048</td>\n",
       "    </tr>\n",
       "    <tr>\n",
       "      <th>43</th>\n",
       "      <td>Normalized Supplier Name, BRB BANCO DE BRASILIA SA, Country Name, Brazil, Strategic Region, LATAM, Requestor Name, unknown, Preparer Name, unknown, Level 1, Professional Services, Business Unit, Legal, Legal Entity, Facebook Servicos Online Do Brasil Ltda, Cost Center (Base Level), NORAM Litigation Group, Cost Center (Level 4), Legal G&amp;A, Cost Center (Level 5), General &amp; Administrative, GL Desc (Level 4), Legal - settlements, Invoice Source, Manual Invoice Entry, GL Description, Legal - settlements, Project, 00000 - Default Project</td>\n",
       "      <td>Legal Services</td>\n",
       "      <td>21</td>\n",
       "      <td>0.049048</td>\n",
       "    </tr>\n",
       "  </tbody>\n",
       "</table>\n",
       "</div>"
      ],
      "text/plain": [
       "                                                                                                                                                                                                                                                                                                                                                                                                                                                                                                                                                           text  \\\n",
       "170   Normalized Supplier Name, BRB BANCO DE BRASILIA SA, Country Name, Brazil, Strategic Region, LATAM, Requestor Name, unknown, Preparer Name, unknown, Level 1, Professional Services, Business Unit, Legal, Legal Entity, Facebook Servicos Online Do Brasil Ltda, Cost Center (Base Level), NORAM Litigation Group, Cost Center (Level 4), Legal G&A, Cost Center (Level 5), General & Administrative, GL Desc (Level 4), Legal - settlements, Invoice Source, Manual Invoice Entry, GL Description, Legal - settlements, Project, 00000 - Default Project   \n",
       "1476  Normalized Supplier Name, BRB BANCO DE BRASILIA SA, Country Name, Brazil, Strategic Region, LATAM, Requestor Name, unknown, Preparer Name, unknown, Level 1, Professional Services, Business Unit, Legal, Legal Entity, Facebook Servicos Online Do Brasil Ltda, Cost Center (Base Level), NORAM Litigation Group, Cost Center (Level 4), Legal G&A, Cost Center (Level 5), General & Administrative, GL Desc (Level 4), Legal - settlements, Invoice Source, Manual Invoice Entry, GL Description, Legal - settlements, Project, 00000 - Default Project   \n",
       "768   Normalized Supplier Name, BRB BANCO DE BRASILIA SA, Country Name, Brazil, Strategic Region, LATAM, Requestor Name, unknown, Preparer Name, unknown, Level 1, Professional Services, Business Unit, Legal, Legal Entity, Facebook Servicos Online Do Brasil Ltda, Cost Center (Base Level), NORAM Litigation Group, Cost Center (Level 4), Legal G&A, Cost Center (Level 5), General & Administrative, GL Desc (Level 4), Legal - settlements, Invoice Source, Manual Invoice Entry, GL Description, Legal - settlements, Project, 00000 - Default Project   \n",
       "1214  Normalized Supplier Name, BRB BANCO DE BRASILIA SA, Country Name, Brazil, Strategic Region, LATAM, Requestor Name, unknown, Preparer Name, unknown, Level 1, Professional Services, Business Unit, Legal, Legal Entity, Facebook Servicos Online Do Brasil Ltda, Cost Center (Base Level), NORAM Litigation Group, Cost Center (Level 4), Legal G&A, Cost Center (Level 5), General & Administrative, GL Desc (Level 4), Legal - settlements, Invoice Source, Manual Invoice Entry, GL Description, Legal - settlements, Project, 00000 - Default Project   \n",
       "336   Normalized Supplier Name, BRB BANCO DE BRASILIA SA, Country Name, Brazil, Strategic Region, LATAM, Requestor Name, unknown, Preparer Name, unknown, Level 1, Professional Services, Business Unit, Legal, Legal Entity, Facebook Servicos Online Do Brasil Ltda, Cost Center (Base Level), NORAM Litigation Group, Cost Center (Level 4), Legal G&A, Cost Center (Level 5), General & Administrative, GL Desc (Level 4), Legal - settlements, Invoice Source, Manual Invoice Entry, GL Description, Legal - settlements, Project, 00000 - Default Project   \n",
       "801   Normalized Supplier Name, BRB BANCO DE BRASILIA SA, Country Name, Brazil, Strategic Region, LATAM, Requestor Name, unknown, Preparer Name, unknown, Level 1, Professional Services, Business Unit, Legal, Legal Entity, Facebook Servicos Online Do Brasil Ltda, Cost Center (Base Level), NORAM Litigation Group, Cost Center (Level 4), Legal G&A, Cost Center (Level 5), General & Administrative, GL Desc (Level 4), Legal - settlements, Invoice Source, Manual Invoice Entry, GL Description, Legal - settlements, Project, 00000 - Default Project   \n",
       "77    Normalized Supplier Name, BRB BANCO DE BRASILIA SA, Country Name, Brazil, Strategic Region, LATAM, Requestor Name, unknown, Preparer Name, unknown, Level 1, Professional Services, Business Unit, Legal, Legal Entity, Facebook Servicos Online Do Brasil Ltda, Cost Center (Base Level), NORAM Litigation Group, Cost Center (Level 4), Legal G&A, Cost Center (Level 5), General & Administrative, GL Desc (Level 4), Legal - settlements, Invoice Source, Manual Invoice Entry, GL Description, Legal - settlements, Project, 00000 - Default Project   \n",
       "830   Normalized Supplier Name, BRB BANCO DE BRASILIA SA, Country Name, Brazil, Strategic Region, LATAM, Requestor Name, unknown, Preparer Name, unknown, Level 1, Professional Services, Business Unit, Legal, Legal Entity, Facebook Servicos Online Do Brasil Ltda, Cost Center (Base Level), NORAM Litigation Group, Cost Center (Level 4), Legal G&A, Cost Center (Level 5), General & Administrative, GL Desc (Level 4), Legal - settlements, Invoice Source, Manual Invoice Entry, GL Description, Legal - settlements, Project, 00000 - Default Project   \n",
       "1415  Normalized Supplier Name, BRB BANCO DE BRASILIA SA, Country Name, Brazil, Strategic Region, LATAM, Requestor Name, unknown, Preparer Name, unknown, Level 1, Professional Services, Business Unit, Legal, Legal Entity, Facebook Servicos Online Do Brasil Ltda, Cost Center (Base Level), NORAM Litigation Group, Cost Center (Level 4), Legal G&A, Cost Center (Level 5), General & Administrative, GL Desc (Level 4), Legal - settlements, Invoice Source, Manual Invoice Entry, GL Description, Legal - settlements, Project, 00000 - Default Project   \n",
       "43    Normalized Supplier Name, BRB BANCO DE BRASILIA SA, Country Name, Brazil, Strategic Region, LATAM, Requestor Name, unknown, Preparer Name, unknown, Level 1, Professional Services, Business Unit, Legal, Legal Entity, Facebook Servicos Online Do Brasil Ltda, Cost Center (Base Level), NORAM Litigation Group, Cost Center (Level 4), Legal G&A, Cost Center (Level 5), General & Administrative, GL Desc (Level 4), Legal - settlements, Invoice Source, Manual Invoice Entry, GL Description, Legal - settlements, Project, 00000 - Default Project   \n",
       "\n",
       "               label  predicted_label      loss  \n",
       "170   Legal Services               21  0.049048  \n",
       "1476  Legal Services               21  0.049048  \n",
       "768   Legal Services               21  0.049048  \n",
       "1214  Legal Services               21  0.049048  \n",
       "336   Legal Services               21  0.049048  \n",
       "801   Legal Services               21  0.049048  \n",
       "77    Legal Services               21  0.049048  \n",
       "830   Legal Services               21  0.049048  \n",
       "1415  Legal Services               21  0.049048  \n",
       "43    Legal Services               21  0.049048  "
      ]
     },
     "execution_count": 62,
     "metadata": {},
     "output_type": "execute_result"
    }
   ],
   "source": [
    "# data samples with lowest losses\n",
    "pd.set_option('display.max_colwidth', None)\n",
    "df_test.sort_values(\"loss\", ascending=True).head(10)"
   ]
  },
  {
   "cell_type": "markdown",
   "metadata": {},
   "source": [
    "# References\n",
    "\n",
    "[Natural Language Processing with Transformers, Chapter 1, L. Tunstall et al.](https://www.amazon.com/Natural-Language-Processing-Transformers-Revised/dp/1098136799)\n",
    "\n",
    "[A recipe for training neural networks - Andrej Karpathy](http://karpathy.github.io/2019/04/25/recipe/)\n",
    "\n",
    "[The most common neural net mistakes - Andrej Karpathy @ Twitter](https://twitter.com/karpathy/status/1013244313327681536?lang=en)\n",
    "\n",
    "[Yes you should understand backprop - Andrej Karpathy](https://karpathy.medium.com/yes-you-should-understand-backprop-e2f06eab496b)"
   ]
  }
 ],
 "metadata": {
  "kernelspec": {
   "display_name": "nn-piP2--fL",
   "language": "python",
   "name": "python3"
  },
  "language_info": {
   "codemirror_mode": {
    "name": "ipython",
    "version": 3
   },
   "file_extension": ".py",
   "mimetype": "text/x-python",
   "name": "python",
   "nbconvert_exporter": "python",
   "pygments_lexer": "ipython3",
   "version": "3.9.6"
  }
 },
 "nbformat": 4,
 "nbformat_minor": 2
}
