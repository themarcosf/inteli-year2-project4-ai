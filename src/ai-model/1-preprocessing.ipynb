{
 "cells": [
  {
   "cell_type": "code",
   "execution_count": 1,
   "metadata": {},
   "outputs": [],
   "source": [
    "import warnings\n",
    "warnings.filterwarnings('ignore')\n",
    "\n",
    "import pandas as pd"
   ]
  },
  {
   "cell_type": "markdown",
   "metadata": {},
   "source": [
    "# Importing the dataset"
   ]
  },
  {
   "cell_type": "code",
   "execution_count": 3,
   "metadata": {},
   "outputs": [
    {
     "data": {
      "text/html": [
       "<div>\n",
       "<style scoped>\n",
       "    .dataframe tbody tr th:only-of-type {\n",
       "        vertical-align: middle;\n",
       "    }\n",
       "\n",
       "    .dataframe tbody tr th {\n",
       "        vertical-align: top;\n",
       "    }\n",
       "\n",
       "    .dataframe thead th {\n",
       "        text-align: right;\n",
       "    }\n",
       "</style>\n",
       "<table border=\"1\" class=\"dataframe\">\n",
       "  <thead>\n",
       "    <tr style=\"text-align: right;\">\n",
       "      <th></th>\n",
       "      <th>Supplier Name</th>\n",
       "      <th>Normalized Supplier Name</th>\n",
       "      <th>Parent Supplier Name</th>\n",
       "      <th>Region</th>\n",
       "      <th>Country Name</th>\n",
       "      <th>Strategic Region</th>\n",
       "      <th>Requestor Name</th>\n",
       "      <th>Preparer Name</th>\n",
       "      <th>Level 1</th>\n",
       "      <th>Level 2</th>\n",
       "      <th>...</th>\n",
       "      <th>GL Desc (Level 6)</th>\n",
       "      <th>Invoice ID</th>\n",
       "      <th>Invoice Number</th>\n",
       "      <th>Invoice Source</th>\n",
       "      <th>GL Description</th>\n",
       "      <th>Product</th>\n",
       "      <th>Project</th>\n",
       "      <th>Month, Day, Year of Payment Date</th>\n",
       "      <th>PO Number</th>\n",
       "      <th>Amount USD</th>\n",
       "    </tr>\n",
       "  </thead>\n",
       "  <tbody>\n",
       "    <tr>\n",
       "      <th>0</th>\n",
       "      <td>20 TABELIAO DE NOTAS DA CAPITAL</td>\n",
       "      <td>20 TABELIAO DE NOTAS DA CAPITAL</td>\n",
       "      <td>20 TABELIAO DE NOTAS DA CAPITAL</td>\n",
       "      <td>LATAM</td>\n",
       "      <td>Brazil</td>\n",
       "      <td>LATAM</td>\n",
       "      <td>Daniela Fechio</td>\n",
       "      <td>Cindy Eurie</td>\n",
       "      <td>Uncategorized</td>\n",
       "      <td>Uncategorized</td>\n",
       "      <td>...</td>\n",
       "      <td>Operating Expenses w/o Allocations</td>\n",
       "      <td>300002608576539</td>\n",
       "      <td>504851</td>\n",
       "      <td>LETTERBOX</td>\n",
       "      <td>Postage and courier</td>\n",
       "      <td>Default Product</td>\n",
       "      <td>31505 - Sao Paulo Birmann 32</td>\n",
       "      <td>2023-02-10</td>\n",
       "      <td>7.000060e+10</td>\n",
       "      <td>6</td>\n",
       "    </tr>\n",
       "    <tr>\n",
       "      <th>1</th>\n",
       "      <td>20 TABELIAO DE NOTAS DA CAPITAL</td>\n",
       "      <td>20 TABELIAO DE NOTAS DA CAPITAL</td>\n",
       "      <td>20 TABELIAO DE NOTAS DA CAPITAL</td>\n",
       "      <td>LATAM</td>\n",
       "      <td>Brazil</td>\n",
       "      <td>LATAM</td>\n",
       "      <td>Daniela Fechio</td>\n",
       "      <td>Cindy Eurie</td>\n",
       "      <td>Uncategorized</td>\n",
       "      <td>Uncategorized</td>\n",
       "      <td>...</td>\n",
       "      <td>Operating Expenses w/o Allocations</td>\n",
       "      <td>300002647480228</td>\n",
       "      <td>505438</td>\n",
       "      <td>LETTERBOX</td>\n",
       "      <td>Postage and courier</td>\n",
       "      <td>Default Product</td>\n",
       "      <td>31505 - Sao Paulo Birmann 32</td>\n",
       "      <td>2023-03-08</td>\n",
       "      <td>7.000060e+10</td>\n",
       "      <td>2</td>\n",
       "    </tr>\n",
       "  </tbody>\n",
       "</table>\n",
       "<p>2 rows × 30 columns</p>\n",
       "</div>"
      ],
      "text/plain": [
       "                     Supplier Name         Normalized Supplier Name  \\\n",
       "0  20 TABELIAO DE NOTAS DA CAPITAL  20 TABELIAO DE NOTAS DA CAPITAL   \n",
       "1  20 TABELIAO DE NOTAS DA CAPITAL  20 TABELIAO DE NOTAS DA CAPITAL   \n",
       "\n",
       "              Parent Supplier Name Region Country Name Strategic Region  \\\n",
       "0  20 TABELIAO DE NOTAS DA CAPITAL  LATAM       Brazil            LATAM   \n",
       "1  20 TABELIAO DE NOTAS DA CAPITAL  LATAM       Brazil            LATAM   \n",
       "\n",
       "   Requestor Name Preparer Name        Level 1        Level 2  ...  \\\n",
       "0  Daniela Fechio   Cindy Eurie  Uncategorized  Uncategorized  ...   \n",
       "1  Daniela Fechio   Cindy Eurie  Uncategorized  Uncategorized  ...   \n",
       "\n",
       "                    GL Desc (Level 6)       Invoice ID Invoice Number  \\\n",
       "0  Operating Expenses w/o Allocations  300002608576539         504851   \n",
       "1  Operating Expenses w/o Allocations  300002647480228         505438   \n",
       "\n",
       "  Invoice Source       GL Description          Product  \\\n",
       "0      LETTERBOX  Postage and courier  Default Product   \n",
       "1      LETTERBOX  Postage and courier  Default Product   \n",
       "\n",
       "                        Project Month, Day, Year of Payment Date  \\\n",
       "0  31505 - Sao Paulo Birmann 32                       2023-02-10   \n",
       "1  31505 - Sao Paulo Birmann 32                       2023-03-08   \n",
       "\n",
       "      PO Number Amount USD  \n",
       "0  7.000060e+10          6  \n",
       "1  7.000060e+10          2  \n",
       "\n",
       "[2 rows x 30 columns]"
      ]
     },
     "execution_count": 3,
     "metadata": {},
     "output_type": "execute_result"
    }
   ],
   "source": [
    "dataset = pd.read_excel(\"data/LATAM-Data.xlsx\")\n",
    "dataset.drop(['Unnamed: 0'], axis=1, inplace=True)\n",
    "dataset.head(2)"
   ]
  },
  {
   "cell_type": "code",
   "execution_count": 4,
   "metadata": {},
   "outputs": [
    {
     "data": {
      "text/plain": [
       "(11265, 30)"
      ]
     },
     "execution_count": 4,
     "metadata": {},
     "output_type": "execute_result"
    }
   ],
   "source": [
    "dataset.shape"
   ]
  },
  {
   "cell_type": "markdown",
   "metadata": {},
   "source": [
    "# 1. Become one with the data\n",
    "\n",
    "Understanding the data is the first step to any data science project. In this step, we will try to understand the data and try to find some insights about the data. We will also look at the target variable and try to understand the distribution of the target variable.\n",
    "\n",
    "Some business decisions were made to filter the columns that will be used in the model. The columns regarded as not relevant were removed from the dataset."
   ]
  },
  {
   "cell_type": "code",
   "execution_count": 5,
   "metadata": {},
   "outputs": [
    {
     "name": "stdout",
     "output_type": "stream",
     "text": [
      "Suppliers: 588 different suppliers\n",
      "Number of null values: 0\n",
      "Number of na values: 0\n",
      "Distribution of suppliers (top 10): \n",
      "Supplier Name\n",
      "BANCO DO BRASIL SA                               3037\n",
      "CAIXA ECONOMICA FEDERAL                           490\n",
      "BRB BANCO DE BRASILIA SA                          446\n",
      "ERICSSON TELECOMUNICACOES LTDA                    225\n",
      "DISTRIBUIDORA E IMPORTADORA IRMAOS AVELINO SA     211\n",
      "AGRO COMERCIAL BONFIM PAULISTA LTDA               210\n",
      "BRASIL TELECOM COMUNICACAO MULTIMIDIA SA          186\n",
      "KYNDRYL BRASIL SERVICOS LTDA                      175\n",
      "SANTA CATARINA TRIBUNAL DE JUSTICA                152\n",
      "SAINT GERMAIN PANIFICADORA E CONFEITARIA LTDA     136\n",
      "Name: count, dtype: int64\n"
     ]
    }
   ],
   "source": [
    "print(f\"Suppliers: {len(dataset['Supplier Name'].unique())} different suppliers\")\n",
    "print(f\"Number of null values: {dataset['Supplier Name'].isnull().sum()}\")\n",
    "print(f\"Number of na values: {dataset['Supplier Name'].isna().sum()}\")\n",
    "print(f\"Distribution of suppliers (top 10): \\n{dataset['Supplier Name'].value_counts()[:10]}\")"
   ]
  },
  {
   "cell_type": "code",
   "execution_count": 6,
   "metadata": {},
   "outputs": [
    {
     "name": "stdout",
     "output_type": "stream",
     "text": [
      "Normalized suppliers: 549 different suppliers\n",
      "Number of null values: 0\n",
      "Number of na values: 0\n",
      "Distribution of normalized suppliers (top 10): \n",
      "Normalized Supplier Name\n",
      "BANCO DO BRASIL S A                              3037\n",
      "CAIXA ECONOMICA FEDERAL                           490\n",
      "BRB BANCO DE BRASILIA SA                          446\n",
      "ERICSSON TELECOMUNICACOES LTDA                    225\n",
      "DISTRIBUIDORA E IMPORTADORA IRMAOS AVELINO SA     211\n",
      "AGRO COMERCIAL BONFIM PAULISTA LTDA               210\n",
      "BRASIL TELECOM COMUNICACAO MULTIMIDIA SA          186\n",
      "KYNDRYL BRASIL SERVICOS LTDA                      175\n",
      "SANTA CATARINA TRIBUNAL DE JUSTICA                152\n",
      "BANCO DO ESTADO DO RIO GRANDE DO SUL SA           138\n",
      "Name: count, dtype: int64\n"
     ]
    }
   ],
   "source": [
    "print(f\"Normalized suppliers: {len(dataset['Normalized Supplier Name'].unique())} different suppliers\")\n",
    "print(f\"Number of null values: {dataset['Normalized Supplier Name'].isnull().sum()}\")\n",
    "print(f\"Number of na values: {dataset['Normalized Supplier Name'].isna().sum()}\")\n",
    "print(f\"Distribution of normalized suppliers (top 10): \\n{dataset['Normalized Supplier Name'].value_counts()[:10]}\")"
   ]
  },
  {
   "cell_type": "code",
   "execution_count": 7,
   "metadata": {},
   "outputs": [
    {
     "name": "stdout",
     "output_type": "stream",
     "text": [
      "Parent suppliers: 532 different suppliers\n",
      "Number of null values: 0\n",
      "Number of na values: 0\n",
      "Distribution of Parent suppliers (top 10): \n",
      "Parent Supplier Name\n",
      "Banco do Brasil S/A                                                                  3037\n",
      "PresidÃªncia da RepÃºblica                                                            548\n",
      "UniÃ£o Federal                                                                        489\n",
      "Telefon AB LM Ericsson                                                                335\n",
      "DISTRIBUIDORA E IMPORTADORA IRMAOS AVELINO SA                                         211\n",
      "AGRO COMERCIAL BONFIM PAULISTA EIRELI                                                 210\n",
      "BTG PACTUAL INFRACO MASTER FUNDO DE INVESTIMENTO EM PARTICIPACOES MULTIESTRATEGIA     186\n",
      "R o b e r t B o s c h S t i f t u n g Gesellschaft mit beschrÃ¤nkter Haftung          182\n",
      "SANTA CATARINA TRIBUNAL DE JUSTICA                                                    152\n",
      "SAINT GERMAIN PANIFICADORA E CONFEITARIA LTDA                                         136\n",
      "Name: count, dtype: int64\n"
     ]
    }
   ],
   "source": [
    "print(f\"Parent suppliers: {len(dataset['Parent Supplier Name'].unique())} different suppliers\")\n",
    "print(f\"Number of null values: {dataset['Parent Supplier Name'].isnull().sum()}\")\n",
    "print(f\"Number of na values: {dataset['Parent Supplier Name'].isna().sum()}\")\n",
    "print(f\"Distribution of Parent suppliers (top 10): \\n{dataset['Parent Supplier Name'].value_counts()[:10]}\")"
   ]
  },
  {
   "cell_type": "code",
   "execution_count": 8,
   "metadata": {},
   "outputs": [],
   "source": [
    "# business decision: keep only normalized supplier name\n",
    "dataset.drop([\"Supplier Name\", \"Parent Supplier Name\"], axis=1, inplace=True)"
   ]
  },
  {
   "cell_type": "code",
   "execution_count": 9,
   "metadata": {},
   "outputs": [
    {
     "name": "stdout",
     "output_type": "stream",
     "text": [
      "Region: 1 different region\n"
     ]
    }
   ],
   "source": [
    "print(f\"Region: {len(dataset['Region'].unique())} different region\")\n",
    "\n",
    "# business decision: drop region column\n",
    "dataset.drop([\"Region\"], axis=1, inplace=True)"
   ]
  },
  {
   "cell_type": "code",
   "execution_count": 10,
   "metadata": {},
   "outputs": [
    {
     "name": "stdout",
     "output_type": "stream",
     "text": [
      "Country Name: 10 different countries\n",
      "Number of null values: 0\n",
      "Number of na values: 0\n",
      "Distribution of countries (top 5): \n",
      "Country Name\n",
      "Brazil       9394\n",
      "Argentina     664\n",
      "Mexico        619\n",
      "Colombia      297\n",
      "Chile          82\n",
      "Name: count, dtype: int64\n"
     ]
    }
   ],
   "source": [
    "print(f\"Country Name: {len(dataset['Country Name'].unique())} different countries\")\n",
    "print(f\"Number of null values: {dataset['Country Name'].isnull().sum()}\")\n",
    "print(f\"Number of na values: {dataset['Country Name'].isna().sum()}\")\n",
    "print(f\"Distribution of countries (top 5): \\n{dataset['Country Name'].value_counts()[:5]}\")"
   ]
  },
  {
   "cell_type": "code",
   "execution_count": 11,
   "metadata": {},
   "outputs": [
    {
     "name": "stdout",
     "output_type": "stream",
     "text": [
      "Strategic Region: 4 different strategic regions\n",
      "Number of null values: 0\n",
      "Number of na values: 0\n",
      "Distribution of strategic regions (top 5): \n",
      "Strategic Region\n",
      "LATAM    8126\n",
      "NORAM    2868\n",
      "EMEA      268\n",
      "APAC        3\n",
      "Name: count, dtype: int64\n"
     ]
    }
   ],
   "source": [
    "print(f\"Strategic Region: {len(dataset['Strategic Region'].unique())} different strategic regions\")\n",
    "print(f\"Number of null values: {dataset['Strategic Region'].isnull().sum()}\")\n",
    "print(f\"Number of na values: {dataset['Strategic Region'].isna().sum()}\")\n",
    "print(f\"Distribution of strategic regions (top 5): \\n{dataset['Strategic Region'].value_counts()[:5]}\")"
   ]
  },
  {
   "cell_type": "code",
   "execution_count": 12,
   "metadata": {},
   "outputs": [
    {
     "name": "stdout",
     "output_type": "stream",
     "text": [
      "Requestor Name: 255 different requestors\n",
      "Number of null values: 6591\n",
      "Number of na values: 6591\n",
      "Distribution of requestors (top 5): \n",
      "Requestor Name\n",
      "Lisandro Ulerio     1531\n",
      "Patrick Matthies     371\n",
      "Daniela Fechio       283\n",
      "Diego Dominguez      236\n",
      "Jack Daly            119\n",
      "Name: count, dtype: int64\n"
     ]
    }
   ],
   "source": [
    "print(f\"Requestor Name: {len(dataset['Requestor Name'].unique())} different requestors\")\n",
    "print(f\"Number of null values: {dataset['Requestor Name'].isnull().sum()}\")\n",
    "print(f\"Number of na values: {dataset['Requestor Name'].isna().sum()}\")\n",
    "print(f\"Distribution of requestors (top 5): \\n{dataset['Requestor Name'].value_counts()[:5]}\")"
   ]
  },
  {
   "cell_type": "code",
   "execution_count": 13,
   "metadata": {},
   "outputs": [],
   "source": [
    "# in the Requestor Name, fil nan to unknown\n",
    "dataset[\"Requestor Name\"].replace(\"nan\", \"unknown\", inplace=True)\n",
    "dataset[\"Requestor Name\"].fillna(\"unknown\", inplace=True)"
   ]
  },
  {
   "cell_type": "code",
   "execution_count": 14,
   "metadata": {},
   "outputs": [
    {
     "name": "stdout",
     "output_type": "stream",
     "text": [
      "Number of null values: 0\n",
      "Number of na values: 0\n"
     ]
    }
   ],
   "source": [
    "print(f\"Number of null values: {dataset['Requestor Name'].isnull().sum()}\")\n",
    "print(f\"Number of na values: {dataset['Requestor Name'].isna().sum()}\")"
   ]
  },
  {
   "cell_type": "code",
   "execution_count": 15,
   "metadata": {},
   "outputs": [
    {
     "name": "stdout",
     "output_type": "stream",
     "text": [
      "Preparer Name: 203 different preparers\n",
      "Number of null values: 6747\n",
      "Number of na values: 6747\n",
      "Distribution of preparers (top 5): \n",
      "Preparer Name\n",
      "Victória Simonato         1456\n",
      "Sheenam Sharma             343\n",
      "Gustavo Nolasco Mencia     165\n",
      "Cindy Eurie                160\n",
      "Rebeka Azzolini            146\n",
      "Name: count, dtype: int64\n"
     ]
    }
   ],
   "source": [
    "print(f\"Preparer Name: {len(dataset['Preparer Name'].unique())} different preparers\")\n",
    "print(f\"Number of null values: {dataset['Preparer Name'].isnull().sum()}\")\n",
    "print(f\"Number of na values: {dataset['Preparer Name'].isna().sum()}\")\n",
    "print(f\"Distribution of preparers (top 5): \\n{dataset['Preparer Name'].value_counts()[:5]}\")"
   ]
  },
  {
   "cell_type": "code",
   "execution_count": 16,
   "metadata": {},
   "outputs": [],
   "source": [
    "# in the Requestor Name, fil nan to unknown\n",
    "dataset[\"Preparer Name\"].replace(\"nan\", \"unknown\", inplace=True)\n",
    "dataset[\"Preparer Name\"].fillna(\"unknown\", inplace=True)"
   ]
  },
  {
   "cell_type": "code",
   "execution_count": 17,
   "metadata": {},
   "outputs": [
    {
     "name": "stdout",
     "output_type": "stream",
     "text": [
      "Number of null values: 0\n",
      "Number of na values: 0\n"
     ]
    }
   ],
   "source": [
    "print(f\"Number of null values: {dataset['Preparer Name'].isnull().sum()}\")\n",
    "print(f\"Number of na values: {dataset['Preparer Name'].isna().sum()}\")"
   ]
  },
  {
   "cell_type": "code",
   "execution_count": 18,
   "metadata": {},
   "outputs": [
    {
     "name": "stdout",
     "output_type": "stream",
     "text": [
      "Level 1: 11 different levels\n",
      "Number of null values: 0\n",
      "Number of na values: 0\n",
      "Distribution of levels (top 5): \n",
      "Level 1\n",
      "Professional Services        5402\n",
      "Technology/Telecom           2073\n",
      "Real Estate & Facilities     2019\n",
      "Uncategorized                 502\n",
      "Sales, Marketing & Events     464\n",
      "Name: count, dtype: int64\n"
     ]
    }
   ],
   "source": [
    "print(f\"Level 1: {len(dataset['Level 1'].unique())} different levels\")\n",
    "print(f\"Number of null values: {dataset['Level 1'].isnull().sum()}\")\n",
    "print(f\"Number of na values: {dataset['Level 1'].isna().sum()}\")\n",
    "print(f\"Distribution of levels (top 5): \\n{dataset['Level 1'].value_counts()[:5]}\")"
   ]
  },
  {
   "cell_type": "code",
   "execution_count": 19,
   "metadata": {},
   "outputs": [
    {
     "name": "stdout",
     "output_type": "stream",
     "text": [
      "Level 2: 56 different levels\n",
      "Number of null values: 0\n",
      "Number of na values: 0\n",
      "Distribution of levels (top 5): \n",
      "Level 2\n",
      "Legal Services                     4644\n",
      "Food & Beverage                    1521\n",
      "Connectivity & Bandwidth            850\n",
      "Uncategorized                       502\n",
      "Technical Professional Services     397\n",
      "Name: count, dtype: int64\n"
     ]
    }
   ],
   "source": [
    "print(f\"Level 2: {len(dataset['Level 2'].unique())} different levels\")\n",
    "print(f\"Number of null values: {dataset['Level 2'].isnull().sum()}\")\n",
    "print(f\"Number of na values: {dataset['Level 2'].isna().sum()}\")\n",
    "print(f\"Distribution of levels (top 5): \\n{dataset['Level 2'].value_counts()[:5]}\")"
   ]
  },
  {
   "cell_type": "code",
   "execution_count": 20,
   "metadata": {},
   "outputs": [
    {
     "name": "stdout",
     "output_type": "stream",
     "text": [
      "Level 3: 158 different levels\n",
      "Number of null values: 0\n",
      "Number of na values: 0\n",
      "Distribution of levels (top 5): \n",
      "Level 3\n",
      "Legal Settlements    4354\n",
      "Café Supplies        1168\n",
      "Uncategorized         502\n",
      "Cross Connects        458\n",
      "Transport             336\n",
      "Name: count, dtype: int64\n"
     ]
    }
   ],
   "source": [
    "print(f\"Level 3: {len(dataset['Level 3'].unique())} different levels\")\n",
    "print(f\"Number of null values: {dataset['Level 3'].isnull().sum()}\")\n",
    "print(f\"Number of na values: {dataset['Level 3'].isna().sum()}\")\n",
    "print(f\"Distribution of levels (top 5): \\n{dataset['Level 3'].value_counts()[:5]}\")"
   ]
  },
  {
   "cell_type": "code",
   "execution_count": 21,
   "metadata": {},
   "outputs": [
    {
     "name": "stdout",
     "output_type": "stream",
     "text": [
      "Business Unit: 19 different business units\n",
      "Number of null values: 1327\n",
      "Number of na values: 1327\n",
      "Distribution of business units (top 5): \n",
      "Business Unit\n",
      "Legal                         4203\n",
      "Facilities                    2345\n",
      "Infrastructure                1581\n",
      "IT & Corpnet                   511\n",
      "Global Marketing Solutions     369\n",
      "Name: count, dtype: int64\n"
     ]
    }
   ],
   "source": [
    "print(f\"Business Unit: {len(dataset['Business Unit'].unique())} different business units\")\n",
    "print(f\"Number of null values: {dataset['Business Unit'].isnull().sum()}\")\n",
    "print(f\"Number of na values: {dataset['Business Unit'].isna().sum()}\")\n",
    "print(f\"Distribution of business units (top 5): \\n{dataset['Business Unit'].value_counts()[:5]}\")"
   ]
  },
  {
   "cell_type": "code",
   "execution_count": 22,
   "metadata": {},
   "outputs": [
    {
     "name": "stdout",
     "output_type": "stream",
     "text": [
      "Number of null values: 0\n",
      "Number of na values: 0\n"
     ]
    }
   ],
   "source": [
    "# in the Business Unit, fill nan to unknown\n",
    "dataset[\"Business Unit\"].replace(\"nan\", \"unknown\", inplace=True)\n",
    "dataset[\"Business Unit\"].fillna(\"unknown\", inplace=True)\n",
    "\n",
    "print(f\"Number of null values: {dataset['Business Unit'].isnull().sum()}\")\n",
    "print(f\"Number of na values: {dataset['Business Unit'].isna().sum()}\")"
   ]
  },
  {
   "cell_type": "code",
   "execution_count": 23,
   "metadata": {},
   "outputs": [
    {
     "name": "stdout",
     "output_type": "stream",
     "text": [
      "Legal Entity: 19 different legal entities\n",
      "Number of null values: 0\n",
      "Number of na values: 0\n",
      "Distribution of legal entities (top 5): \n",
      "Legal Entity\n",
      "Facebook Servicos Online Do Brasil Ltda               7914\n",
      "Edge Network do Brasil Servicos em Tecnologia Ltda     897\n",
      "Facebook Mexico S de RL de CV                          462\n",
      "Facebook Argentina S.R.L.                              443\n",
      "Edge Argentina S.R.L.                                  231\n",
      "Name: count, dtype: int64\n"
     ]
    }
   ],
   "source": [
    "print(f\"Legal Entity: {len(dataset['Legal Entity'].unique())} different legal entities\")\n",
    "print(f\"Number of null values: {dataset['Legal Entity'].isnull().sum()}\")\n",
    "print(f\"Number of na values: {dataset['Legal Entity'].isna().sum()}\")\n",
    "print(f\"Distribution of legal entities (top 5): \\n{dataset['Legal Entity'].value_counts()[:5]}\")"
   ]
  },
  {
   "cell_type": "code",
   "execution_count": 24,
   "metadata": {},
   "outputs": [
    {
     "name": "stdout",
     "output_type": "stream",
     "text": [
      "Cost Center: 98 different cost centers\n",
      "Number of null values: 0\n",
      "Number of na values: 0\n",
      "Distribution of cost centers (top 5): \n",
      "Cost Center\n",
      "6631 - NORAM Litigation Group                        4150\n",
      "9910 - Non-Bay Area Facilities & Operations Group    2105\n",
      "0000 - Default Cost Center                           1311\n",
      "4320 - Core Networking Group                         1306\n",
      "6820 - EE Ops Supply Chain Group                      325\n",
      "Name: count, dtype: int64\n"
     ]
    }
   ],
   "source": [
    "print(f\"Cost Center: {len(dataset['Cost Center'].unique())} different cost centers\")\n",
    "print(f\"Number of null values: {dataset['Cost Center'].isnull().sum()}\")\n",
    "print(f\"Number of na values: {dataset['Cost Center'].isna().sum()}\")\n",
    "print(f\"Distribution of cost centers (top 5): \\n{dataset['Cost Center'].value_counts()[:5]}\")"
   ]
  },
  {
   "cell_type": "code",
   "execution_count": 25,
   "metadata": {},
   "outputs": [
    {
     "name": "stdout",
     "output_type": "stream",
     "text": [
      "Cost Center (Base Level): 98 different cost centers\n",
      "Number of null values: 0\n",
      "Number of na values: 0\n",
      "Distribution of cost centers (top 5): \n",
      "Cost Center (Base Level)\n",
      "NORAM Litigation Group                        4150\n",
      "Non-Bay Area Facilities & Operations Group    2105\n",
      "Default Cost Center                           1311\n",
      "Core Networking Group                         1306\n",
      "EE Ops Supply Chain Group                      325\n",
      "Name: count, dtype: int64\n"
     ]
    }
   ],
   "source": [
    "print(f\"Cost Center (Base Level): {len(dataset['Cost Center (Base Level)'].unique())} different cost centers\")\n",
    "print(f\"Number of null values: {dataset['Cost Center (Base Level)'].isnull().sum()}\")\n",
    "print(f\"Number of na values: {dataset['Cost Center (Base Level)'].isna().sum()}\")\n",
    "print(f\"Distribution of cost centers (top 5): \\n{dataset['Cost Center (Base Level)'].value_counts()[:5]}\")"
   ]
  },
  {
   "cell_type": "code",
   "execution_count": 26,
   "metadata": {},
   "outputs": [],
   "source": [
    "# business decision: keep only Cost Center (Base Level)\n",
    "dataset.drop([\"Cost Center\"], axis=1, inplace=True)"
   ]
  },
  {
   "cell_type": "code",
   "execution_count": 27,
   "metadata": {},
   "outputs": [
    {
     "name": "stdout",
     "output_type": "stream",
     "text": [
      "Cost Center (Level 4): 23 different cost centers\n",
      "Number of null values: 0\n",
      "Number of na values: 0\n",
      "Distribution of cost centers (top 5): \n",
      "Cost Center (Level 4)\n",
      "Legal G&A                     4203\n",
      "FCS G&A                       2349\n",
      "Infra R&D                     1597\n",
      "Corporate G&A                 1316\n",
      "Enterprise Engineering G&A     511\n",
      "Name: count, dtype: int64\n"
     ]
    }
   ],
   "source": [
    "print(f\"Cost Center (Level 4): {len(dataset['Cost Center (Level 4)'].unique())} different cost centers\")\n",
    "print(f\"Number of null values: {dataset['Cost Center (Level 4)'].isnull().sum()}\")\n",
    "print(f\"Number of na values: {dataset['Cost Center (Level 4)'].isna().sum()}\")\n",
    "print(f\"Distribution of cost centers (top 5): \\n{dataset['Cost Center (Level 4)'].value_counts()[:5]}\")"
   ]
  },
  {
   "cell_type": "code",
   "execution_count": 28,
   "metadata": {},
   "outputs": [
    {
     "name": "stdout",
     "output_type": "stream",
     "text": [
      "Cost Center (Level 5): 3 different cost centers\n",
      "Number of null values: 0\n",
      "Number of na values: 0\n",
      "Distribution of cost centers (top 5): \n",
      "Cost Center (Level 5)\n",
      "General & Administrative    9102\n",
      "Research & Development      1610\n",
      "Marketing & Sales            553\n",
      "Name: count, dtype: int64\n"
     ]
    }
   ],
   "source": [
    "print(f\"Cost Center (Level 5): {len(dataset['Cost Center (Level 5)'].unique())} different cost centers\")\n",
    "print(f\"Number of null values: {dataset['Cost Center (Level 5)'].isnull().sum()}\")\n",
    "print(f\"Number of na values: {dataset['Cost Center (Level 5)'].isna().sum()}\")\n",
    "print(f\"Distribution of cost centers (top 5): \\n{dataset['Cost Center (Level 5)'].value_counts()[:5]}\")"
   ]
  },
  {
   "cell_type": "code",
   "execution_count": 29,
   "metadata": {},
   "outputs": [
    {
     "name": "stdout",
     "output_type": "stream",
     "text": [
      "Cost Center (Level 6): 1 different cost centers\n"
     ]
    }
   ],
   "source": [
    "print(f\"Cost Center (Level 6): {len(dataset['Cost Center (Level 6)'].unique())} different cost centers\")\n",
    "\n",
    "# business decision: drop Cost Center (Level 6)\n",
    "dataset.drop([\"Cost Center (Level 6)\"], axis=1, inplace=True)"
   ]
  },
  {
   "cell_type": "code",
   "execution_count": 30,
   "metadata": {},
   "outputs": [
    {
     "name": "stdout",
     "output_type": "stream",
     "text": [
      "GL Description: 102 different GL descriptions\n",
      "Number of null values: 0\n",
      "Number of na values: 0\n",
      "Distribution of GL descriptions (top 5): \n",
      "GL Description\n",
      "Legal - settlements                      3869\n",
      "Kitchen                                  1505\n",
      "Assets clearing-capitalized               508\n",
      "Other LT Assets                           475\n",
      "COGS - Connectivity & bandwidth (PoP)     410\n",
      "Name: count, dtype: int64\n"
     ]
    }
   ],
   "source": [
    "print(f\"GL Description: {len(dataset['GL Description'].unique())} different GL descriptions\")\n",
    "print(f\"Number of null values: {dataset['GL Description'].isnull().sum()}\")\n",
    "print(f\"Number of na values: {dataset['GL Description'].isna().sum()}\")\n",
    "print(f\"Distribution of GL descriptions (top 5): \\n{dataset['GL Description'].value_counts()[:5]}\")"
   ]
  },
  {
   "cell_type": "code",
   "execution_count": 31,
   "metadata": {},
   "outputs": [
    {
     "name": "stdout",
     "output_type": "stream",
     "text": [
      "GL Desc (Level 4): 72 different GL descriptions\n",
      "Number of null values: 475\n",
      "Number of na values: 475\n",
      "Distribution of GL descriptions (top 5): \n",
      "GL Desc (Level 4)\n",
      "Legal - settlements                    3869\n",
      "Kitchen                                1505\n",
      "Prepaid Exp. & Other Current Assets     792\n",
      "Fixed Assets - Gross                    643\n",
      "Current Liabilities                     627\n",
      "Name: count, dtype: int64\n"
     ]
    }
   ],
   "source": [
    "print(f\"GL Desc (Level 4): {len(dataset['GL Desc (Level 4)'].unique())} different GL descriptions\")\n",
    "print(f\"Number of null values: {dataset['GL Desc (Level 4)'].isnull().sum()}\")\n",
    "print(f\"Number of na values: {dataset['GL Desc (Level 4)'].isna().sum()}\")\n",
    "print(f\"Distribution of GL descriptions (top 5): \\n{dataset['GL Desc (Level 4)'].value_counts()[:5]}\")"
   ]
  },
  {
   "cell_type": "code",
   "execution_count": 32,
   "metadata": {},
   "outputs": [
    {
     "name": "stdout",
     "output_type": "stream",
     "text": [
      "GL Desc (Level 5): 7 different GL descriptions\n",
      "Number of null values: 0\n",
      "Number of na values: 0\n",
      "Distribution of GL descriptions (top 5): \n",
      "GL Desc (Level 5)\n",
      "Opex w/o Allocations & Interco    7838\n",
      "Indirect COGS                      887\n",
      "Current Assets                     792\n",
      "Fixed Assets, Net                  643\n",
      "Total Liabilities                  627\n",
      "Name: count, dtype: int64\n"
     ]
    }
   ],
   "source": [
    "print(f\"GL Desc (Level 5): {len(dataset['GL Desc (Level 5)'].unique())} different GL descriptions\")\n",
    "print(f\"Number of null values: {dataset['GL Desc (Level 5)'].isnull().sum()}\")\n",
    "print(f\"Number of na values: {dataset['GL Desc (Level 5)'].isna().sum()}\")\n",
    "print(f\"Distribution of GL descriptions (top 5): \\n{dataset['GL Desc (Level 5)'].value_counts()[:5]}\")"
   ]
  },
  {
   "cell_type": "code",
   "execution_count": 33,
   "metadata": {},
   "outputs": [
    {
     "name": "stdout",
     "output_type": "stream",
     "text": [
      "GL Desc (Level 6): 5 different GL descriptions\n",
      "Number of null values: 0\n",
      "Number of na values: 0\n",
      "Distribution of GL descriptions (top 5): \n",
      "GL Desc (Level 6)\n",
      "Operating Expenses w/o Allocations          7838\n",
      "Total Assets                                1910\n",
      "Cost of Goods Sold                           887\n",
      "Total Liabilities & Shareholders' Equity     627\n",
      "Income before Taxes                            3\n",
      "Name: count, dtype: int64\n"
     ]
    }
   ],
   "source": [
    "print(f\"GL Desc (Level 6): {len(dataset['GL Desc (Level 6)'].unique())} different GL descriptions\")\n",
    "print(f\"Number of null values: {dataset['GL Desc (Level 6)'].isnull().sum()}\")\n",
    "print(f\"Number of na values: {dataset['GL Desc (Level 6)'].isna().sum()}\")\n",
    "print(f\"Distribution of GL descriptions (top 5): \\n{dataset['GL Desc (Level 6)'].value_counts()[:5]}\")"
   ]
  },
  {
   "cell_type": "code",
   "execution_count": 34,
   "metadata": {},
   "outputs": [],
   "source": [
    "# business decision: drop GL Desc (Level 5) and GL Desc (Level 6)\n",
    "dataset.drop([\"GL Desc (Level 5)\", \"GL Desc (Level 6)\"], axis=1, inplace=True)"
   ]
  },
  {
   "cell_type": "code",
   "execution_count": 35,
   "metadata": {},
   "outputs": [
    {
     "name": "stdout",
     "output_type": "stream",
     "text": [
      "Invoice ID: 10110 different invoice IDs\n",
      "Invoice Number: 9943 different invoice numbers\n"
     ]
    }
   ],
   "source": [
    "print(f\"Invoice ID: {len(dataset['Invoice ID'].unique())} different invoice IDs\")\n",
    "print(f\"Invoice Number: {len(dataset['Invoice Number'].unique())} different invoice numbers\")"
   ]
  },
  {
   "cell_type": "code",
   "execution_count": 36,
   "metadata": {},
   "outputs": [],
   "source": [
    "# business decision: drop Invoice ID and Invoice Number\n",
    "dataset.drop([\"Invoice ID\", \"Invoice Number\"], axis=1, inplace=True)"
   ]
  },
  {
   "cell_type": "code",
   "execution_count": 37,
   "metadata": {},
   "outputs": [
    {
     "name": "stdout",
     "output_type": "stream",
     "text": [
      "Invoice Source: 9 different invoice sources\n",
      "Number of null values: 0\n",
      "Number of na values: 0\n",
      "Distribution of invoice sources (top 5): \n",
      "Invoice Source\n",
      "Manual Invoice Entry    4949\n",
      "LETTERBOX               2482\n",
      "CAFEPRO                 1467\n",
      "OCR                     1128\n",
      "TEM                      783\n",
      "Name: count, dtype: int64\n"
     ]
    }
   ],
   "source": [
    "print(f\"Invoice Source: {len(dataset['Invoice Source'].unique())} different invoice sources\")\n",
    "print(f\"Number of null values: {dataset['Invoice Source'].isnull().sum()}\")\n",
    "print(f\"Number of na values: {dataset['Invoice Source'].isna().sum()}\")\n",
    "print(f\"Distribution of invoice sources (top 5): \\n{dataset['Invoice Source'].value_counts()[:5]}\")"
   ]
  },
  {
   "cell_type": "code",
   "execution_count": 38,
   "metadata": {},
   "outputs": [
    {
     "name": "stdout",
     "output_type": "stream",
     "text": [
      "Product: 3 different products\n",
      "Number of null values: 6565\n",
      "Number of na values: 6565\n",
      "Distribution of products (top 5): \n",
      "Product\n",
      "Default Product     4694\n",
      "Metaworks Shared       6\n",
      "Name: count, dtype: int64\n"
     ]
    }
   ],
   "source": [
    "print(f\"Product: {len(dataset['Product'].unique())} different products\")\n",
    "print(f\"Number of null values: {dataset['Product'].isnull().sum()}\")\n",
    "print(f\"Number of na values: {dataset['Product'].isna().sum()}\")\n",
    "print(f\"Distribution of products (top 5): \\n{dataset['Product'].value_counts()[:5]}\")"
   ]
  },
  {
   "cell_type": "code",
   "execution_count": 39,
   "metadata": {},
   "outputs": [],
   "source": [
    "# business decision: drop Product\n",
    "dataset.drop([\"Product\"], axis=1, inplace=True)"
   ]
  },
  {
   "cell_type": "code",
   "execution_count": 40,
   "metadata": {},
   "outputs": [
    {
     "name": "stdout",
     "output_type": "stream",
     "text": [
      "Project: 127 different projects\n",
      "Number of null values: 0\n",
      "Number of na values: 0\n",
      "Distribution of projects (top 5): \n",
      "Project\n",
      "00000 - Default Project             7566\n",
      "31311 - Sao Paolo Aguas de Marco    1480\n",
      "55545 - LATAM PoPs                   286\n",
      "31505 - Sao Paulo Birmann 32         121\n",
      "55111 - Network - Edge - FNA         107\n",
      "Name: count, dtype: int64\n"
     ]
    }
   ],
   "source": [
    "print(f\"Project: {len(dataset['Project'].unique())} different projects\")\n",
    "print(f\"Number of null values: {dataset['Project'].isnull().sum()}\")\n",
    "print(f\"Number of na values: {dataset['Project'].isna().sum()}\")\n",
    "print(f\"Distribution of projects (top 5): \\n{dataset['Project'].value_counts()[:5]}\")"
   ]
  },
  {
   "cell_type": "code",
   "execution_count": 41,
   "metadata": {},
   "outputs": [],
   "source": [
    "# business decision: drop 'Month, Day, Year of Payment Date', 'PO Number' and 'Amount USD'\n",
    "dataset.drop([\"Month, Day, Year of Payment Date\", \"PO Number\", \"Amount USD\"], axis=1, inplace=True)"
   ]
  },
  {
   "cell_type": "code",
   "execution_count": 43,
   "metadata": {},
   "outputs": [
    {
     "data": {
      "text/html": [
       "<div>\n",
       "<style scoped>\n",
       "    .dataframe tbody tr th:only-of-type {\n",
       "        vertical-align: middle;\n",
       "    }\n",
       "\n",
       "    .dataframe tbody tr th {\n",
       "        vertical-align: top;\n",
       "    }\n",
       "\n",
       "    .dataframe thead th {\n",
       "        text-align: right;\n",
       "    }\n",
       "</style>\n",
       "<table border=\"1\" class=\"dataframe\">\n",
       "  <thead>\n",
       "    <tr style=\"text-align: right;\">\n",
       "      <th></th>\n",
       "      <th>Normalized Supplier Name</th>\n",
       "      <th>Country Name</th>\n",
       "      <th>Strategic Region</th>\n",
       "      <th>Requestor Name</th>\n",
       "      <th>Preparer Name</th>\n",
       "      <th>Level 1</th>\n",
       "      <th>Level 2</th>\n",
       "      <th>Level 3</th>\n",
       "      <th>Business Unit</th>\n",
       "      <th>Legal Entity</th>\n",
       "      <th>Cost Center (Base Level)</th>\n",
       "      <th>Cost Center (Level 4)</th>\n",
       "      <th>Cost Center (Level 5)</th>\n",
       "      <th>GL Desc (Level 4)</th>\n",
       "      <th>Invoice Source</th>\n",
       "      <th>GL Description</th>\n",
       "      <th>Project</th>\n",
       "    </tr>\n",
       "  </thead>\n",
       "  <tbody>\n",
       "    <tr>\n",
       "      <th>0</th>\n",
       "      <td>20 TABELIAO DE NOTAS DA CAPITAL</td>\n",
       "      <td>Brazil</td>\n",
       "      <td>LATAM</td>\n",
       "      <td>Daniela Fechio</td>\n",
       "      <td>Cindy Eurie</td>\n",
       "      <td>Uncategorized</td>\n",
       "      <td>Uncategorized</td>\n",
       "      <td>Uncategorized</td>\n",
       "      <td>Facilities</td>\n",
       "      <td>Facebook Servicos Online Do Brasil Ltda</td>\n",
       "      <td>Non-Bay Area Facilities &amp; Operations Group</td>\n",
       "      <td>FCS G&amp;A</td>\n",
       "      <td>General &amp; Administrative</td>\n",
       "      <td>Postage and courier</td>\n",
       "      <td>LETTERBOX</td>\n",
       "      <td>Postage and courier</td>\n",
       "      <td>31505 - Sao Paulo Birmann 32</td>\n",
       "    </tr>\n",
       "    <tr>\n",
       "      <th>1</th>\n",
       "      <td>20 TABELIAO DE NOTAS DA CAPITAL</td>\n",
       "      <td>Brazil</td>\n",
       "      <td>LATAM</td>\n",
       "      <td>Daniela Fechio</td>\n",
       "      <td>Cindy Eurie</td>\n",
       "      <td>Uncategorized</td>\n",
       "      <td>Uncategorized</td>\n",
       "      <td>Uncategorized</td>\n",
       "      <td>Facilities</td>\n",
       "      <td>Facebook Servicos Online Do Brasil Ltda</td>\n",
       "      <td>Non-Bay Area Facilities &amp; Operations Group</td>\n",
       "      <td>FCS G&amp;A</td>\n",
       "      <td>General &amp; Administrative</td>\n",
       "      <td>Postage and courier</td>\n",
       "      <td>LETTERBOX</td>\n",
       "      <td>Postage and courier</td>\n",
       "      <td>31505 - Sao Paulo Birmann 32</td>\n",
       "    </tr>\n",
       "  </tbody>\n",
       "</table>\n",
       "</div>"
      ],
      "text/plain": [
       "          Normalized Supplier Name Country Name Strategic Region  \\\n",
       "0  20 TABELIAO DE NOTAS DA CAPITAL       Brazil            LATAM   \n",
       "1  20 TABELIAO DE NOTAS DA CAPITAL       Brazil            LATAM   \n",
       "\n",
       "   Requestor Name Preparer Name        Level 1        Level 2        Level 3  \\\n",
       "0  Daniela Fechio   Cindy Eurie  Uncategorized  Uncategorized  Uncategorized   \n",
       "1  Daniela Fechio   Cindy Eurie  Uncategorized  Uncategorized  Uncategorized   \n",
       "\n",
       "  Business Unit                             Legal Entity  \\\n",
       "0    Facilities  Facebook Servicos Online Do Brasil Ltda   \n",
       "1    Facilities  Facebook Servicos Online Do Brasil Ltda   \n",
       "\n",
       "                     Cost Center (Base Level) Cost Center (Level 4)  \\\n",
       "0  Non-Bay Area Facilities & Operations Group               FCS G&A   \n",
       "1  Non-Bay Area Facilities & Operations Group               FCS G&A   \n",
       "\n",
       "      Cost Center (Level 5)    GL Desc (Level 4) Invoice Source  \\\n",
       "0  General & Administrative  Postage and courier      LETTERBOX   \n",
       "1  General & Administrative  Postage and courier      LETTERBOX   \n",
       "\n",
       "        GL Description                       Project  \n",
       "0  Postage and courier  31505 - Sao Paulo Birmann 32  \n",
       "1  Postage and courier  31505 - Sao Paulo Birmann 32  "
      ]
     },
     "execution_count": 43,
     "metadata": {},
     "output_type": "execute_result"
    }
   ],
   "source": [
    "dataset.head(2)"
   ]
  },
  {
   "cell_type": "code",
   "execution_count": 45,
   "metadata": {},
   "outputs": [],
   "source": [
    "# save dataset to csv\n",
    "dataset.to_csv(\"data/LATAM-Data-cleaned.csv\", index=False)"
   ]
  }
 ],
 "metadata": {
  "kernelspec": {
   "display_name": "hugging-face-hA3tPKVe",
   "language": "python",
   "name": "python3"
  },
  "language_info": {
   "codemirror_mode": {
    "name": "ipython",
    "version": 3
   },
   "file_extension": ".py",
   "mimetype": "text/x-python",
   "name": "python",
   "nbconvert_exporter": "python",
   "pygments_lexer": "ipython3",
   "version": "3.9.6"
  }
 },
 "nbformat": 4,
 "nbformat_minor": 2
}
