{
 "cells": [
  {
   "cell_type": "code",
   "execution_count": 5,
   "metadata": {},
   "outputs": [],
   "source": [
    "text = 'Normalized Supplier Name, BANCO DO BRASIL S A, Country Name, Brazil, Strategic Region, LATAM, Requestor Name, unknown, Preparer Name, unknown, Business Unit, Legal, Legal Entity, Facebook Servicos Online Do Brasil Ltda, Cost Center (Base Level), NORAM Litigation Group, Cost Center (Level 4), Legal G&A, Cost Center (Level 5), General & Administrative, GL Desc (Level 4), Legal - settlements, Invoice Source, Manual Invoice Entry, GL Description, Legal - settlements, Project, 00000 - Default Project',"
   ]
  },
  {
   "cell_type": "code",
   "execution_count": 6,
   "metadata": {},
   "outputs": [],
   "source": [
    "import requests\n",
    "import os\n",
    "\n",
    "API_URL = \"https://api-inference.huggingface.co/models/marcosinteli/meta\"\n",
    "headers = {\"Authorization\": f\"Bearer {os.getenv('HUGGING_FACE_API_KEY')}\"}\n",
    "\n",
    "def query(payload):\n",
    "\tresponse = requests.post(API_URL, headers=headers, json=payload)\n",
    "\treturn response.json()\n",
    "\t\n",
    "output = query({ \"inputs\": text })"
   ]
  },
  {
   "cell_type": "code",
   "execution_count": 26,
   "metadata": {},
   "outputs": [
    {
     "name": "stdout",
     "output_type": "stream",
     "text": [
      "Label with highest score: {'label': 'LABEL_4', 'score': 0.9956432580947876}\n",
      "Number extracted from the label: 4\n"
     ]
    }
   ],
   "source": [
    "# finding the label with the highest score\n",
    "highest_score_label = max(output[0], key=lambda x: x['score'])\n",
    "\n",
    "# extracting the number from the label\n",
    "label_number = int(highest_score_label[\"label\"].split('_')[1])\n",
    "\n",
    "# Output\n",
    "print(\"Label with highest score:\", highest_score_label)\n",
    "print(\"Number extracted from the label:\", label_number)"
   ]
  },
  {
   "cell_type": "code",
   "execution_count": 28,
   "metadata": {},
   "outputs": [],
   "source": [
    "id2label = {0: 'Energy & Utilities',\n",
    " 1: 'Human Resources',\n",
    " 2: 'Logistics',\n",
    " 3: 'Manufacturing',\n",
    " 4: 'Professional Services',\n",
    " 5: 'R&D Equipment',\n",
    " 6: 'Real Estate & Facilities',\n",
    " 7: 'Sales, Marketing & Events',\n",
    " 8: 'Technology/Telecom',\n",
    " 9: 'Travel & Expense',\n",
    " 10: 'Uncategorized'}"
   ]
  },
  {
   "cell_type": "code",
   "execution_count": 29,
   "metadata": {},
   "outputs": [
    {
     "name": "stdout",
     "output_type": "stream",
     "text": [
      "Predicted label: Professional Services\n"
     ]
    }
   ],
   "source": [
    "predicted_label = id2label[label_number]\n",
    "print(\"Predicted label:\", predicted_label)"
   ]
  }
 ],
 "metadata": {
  "kernelspec": {
   "display_name": "nn-piP2--fL",
   "language": "python",
   "name": "python3"
  },
  "language_info": {
   "codemirror_mode": {
    "name": "ipython",
    "version": 3
   },
   "file_extension": ".py",
   "mimetype": "text/x-python",
   "name": "python",
   "nbconvert_exporter": "python",
   "pygments_lexer": "ipython3",
   "version": "3.9.6"
  }
 },
 "nbformat": 4,
 "nbformat_minor": 2
}
